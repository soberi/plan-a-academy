{
 "cells": [
  {
   "cell_type": "markdown",
   "metadata": {},
   "source": [
    "## 1. Implementation of LDA model\n",
    "\n",
    "### 1.1 Importing modules and loading data"
   ]
  },
  {
   "cell_type": "code",
   "execution_count": null,
   "metadata": {},
   "outputs": [],
   "source": [
    "from sklearn.feature_extraction.text import CountVectorizer\n",
    "from sklearn.decomposition import LatentDirichletAllocation\n",
    "import matplotlib.pyplot as plt\n",
    "import numpy as np\n",
    "import pickle\n",
    "import mglearn"
   ]
  },
  {
   "cell_type": "code",
   "execution_count": null,
   "metadata": {
    "scrolled": false
   },
   "outputs": [],
   "source": [
    "with open('pkl_cellar/df_stemmed.pkl', 'rb') as file:\n",
    "    data_stemmed = pickle.load(file)\n",
    "    \n",
    "data_stemmed"
   ]
  },
  {
   "cell_type": "markdown",
   "metadata": {},
   "source": [
    "### 1.2 Vectorizing and applying LDA model "
   ]
  },
  {
   "cell_type": "code",
   "execution_count": null,
   "metadata": {},
   "outputs": [],
   "source": [
    "# Create doc term matrix\n",
    "\n",
    "vect = CountVectorizer(max_features=10000, max_df=.15)\n",
    "X = vect.fit_transform(data_stemmed.content)"
   ]
  },
  {
   "cell_type": "code",
   "execution_count": null,
   "metadata": {},
   "outputs": [],
   "source": [
    "# Fit data to model\n",
    "\n",
    "lda = LatentDirichletAllocation(n_components=10, \n",
    "                                learning_method=\"batch\", \n",
    "                                max_iter=25, \n",
    "                                random_state=0) \n",
    "\n",
    "academy_content = lda.fit_transform(X)"
   ]
  },
  {
   "cell_type": "code",
   "execution_count": null,
   "metadata": {},
   "outputs": [],
   "source": [
    "with open('pkl_cellar/academy_vect.pkl', 'wb') as av:\n",
    "    pickle.dump(academy_content, av, protocol=pickle.HIGHEST_PROTOCOL)"
   ]
  },
  {
   "cell_type": "code",
   "execution_count": null,
   "metadata": {},
   "outputs": [],
   "source": [
    "# For each topic (a row in the components_), sort the features (ascending) \n",
    "# Invert rows with [:, ::-1] to make sorting descending\n",
    "sorting = np.argsort(lda.components_, axis=1)[:, ::-1]\n",
    "\n",
    "# Get the feature names from the vectorizer\n",
    "feature_names = np.array(vect.get_feature_names())"
   ]
  },
  {
   "cell_type": "markdown",
   "metadata": {},
   "source": [
    "### 1.3 Visualising the results"
   ]
  },
  {
   "cell_type": "code",
   "execution_count": null,
   "metadata": {},
   "outputs": [],
   "source": [
    "mglearn.tools.print_topics(topics=range(10), feature_names=feature_names, \n",
    "                           sorting=sorting, topics_per_chunk=5, n_words=10)"
   ]
  },
  {
   "cell_type": "code",
   "execution_count": null,
   "metadata": {},
   "outputs": [],
   "source": [
    "fig, ax = plt.subplots(1, 2, figsize=(10, 10))\n",
    "topic_names = [\"{:>2} \".format(i) + \" \".join(words) for i, words in enumerate(feature_names[sorting[:, :2]])] \n",
    "\n",
    "# two column bar chart:\n",
    "\n",
    "for col in [0, 1]: \n",
    "    start=col*5\n",
    "    end=(col+1)*5\n",
    "    ax[col].barh(np.arange(5), np.sum(academy_content, axis=0)[start:end])\n",
    "    ax[col].set_yticks(np.arange(5))\n",
    "    ax[col].set_yticklabels(topic_names[start:end], ha=\"left\", va=\"top\")\n",
    "    ax[col].invert_yaxis()\n",
    "    ax[col].set_xlim(0, 700)\n",
    "    yax = ax[col].get_yaxis()\n",
    "    yax.set_tick_params(pad=130)\n",
    "    \n",
    "plt.tight_layout()"
   ]
  },
  {
   "cell_type": "markdown",
   "metadata": {},
   "source": [
    "### 1.4 Tracing back results to their source"
   ]
  },
  {
   "cell_type": "code",
   "execution_count": null,
   "metadata": {},
   "outputs": [],
   "source": [
    "# checking which articles are associated wtih topic one (climate make), word = business\n",
    "\n",
    "business = np.argsort(academy_content[:, 1])[::-1]"
   ]
  },
  {
   "cell_type": "code",
   "execution_count": null,
   "metadata": {
    "scrolled": true
   },
   "outputs": [],
   "source": [
    "for i in business[:5]:\n",
    "    # show url and text\n",
    "    print(data_stemmed.loc[i].url, data_stemmed.loc[i].content)\n",
    "    print(\"\\n\")\n",
    "    \n",
    "    # Top 5 articles for the word 'business' in the biggest topic group (Topic 1: climat make)"
   ]
  },
  {
   "cell_type": "markdown",
   "metadata": {},
   "source": [
    "## 2. Putting it all together\n",
    "### 2.1 Creating function (to be used as part of Flask app)\n",
    "\n",
    "The function should take data cleaned for NLP and output the topic modelling."
   ]
  },
  {
   "cell_type": "code",
   "execution_count": null,
   "metadata": {},
   "outputs": [],
   "source": [
    "# Step 1: vectorize! fit! return!\n",
    "\n",
    "def lda_vect_transform(df):\n",
    "    \n",
    "    vect = CountVectorizer(max_features=10000, max_df=.15)\n",
    "    X = vect.fit_transform(df.content)\n",
    "    \n",
    "    lda = LatentDirichletAllocation(n_components=10, learning_method=\"batch\", max_iter=25, random_state=0) \n",
    "    content = lda.fit_transform(X)\n",
    "    \n",
    "    return content, lda, vect"
   ]
  },
  {
   "cell_type": "code",
   "execution_count": null,
   "metadata": {},
   "outputs": [],
   "source": [
    "transformed_content, model, vect = lda_vect_transform(data_stemmed)"
   ]
  },
  {
   "cell_type": "code",
   "execution_count": null,
   "metadata": {},
   "outputs": [],
   "source": [
    "# Step 2: sorting!\n",
    "\n",
    "def lda_sort(content, model, vect):\n",
    "    \n",
    "    sorting = np.argsort(lda.components_, axis=1)[:, ::-1]\n",
    "    feature_names = np.array(vect.get_feature_names())\n",
    "    \n",
    "    return sorting, feature_names "
   ]
  },
  {
   "cell_type": "code",
   "execution_count": null,
   "metadata": {},
   "outputs": [],
   "source": [
    "sorting, feature_names = lda_sort(transformed_content, model, vect)"
   ]
  },
  {
   "cell_type": "code",
   "execution_count": null,
   "metadata": {},
   "outputs": [],
   "source": [
    "# Step 3: let's see topic categories\n",
    "\n",
    "def top_cat(sorting, feature_names):\n",
    "    return mglearn.tools.print_topics(topics=range(10), \n",
    "                               feature_names=feature_names, \n",
    "                               sorting=sorting, \n",
    "                               topics_per_chunk=5, \n",
    "                               n_words=10)"
   ]
  },
  {
   "cell_type": "code",
   "execution_count": null,
   "metadata": {},
   "outputs": [],
   "source": [
    "# Step 4: plotting topic categories\n",
    "\n",
    "def plot_cat(sorting, feature_names, transformed_content):\n",
    "    fig, ax = plt.subplots(1, 2, figsize=(10, 10))\n",
    "    topic_names = [\"{:>2} \".format(i) + \" \".join(words) for i, words in enumerate(feature_names[sorting[:, :2]])] \n",
    "\n",
    "    # two column bar chart:\n",
    "\n",
    "    for col in [0, 1]: \n",
    "        start=col*5\n",
    "        end=(col+1)*5\n",
    "        ax[col].barh(np.arange(5), np.sum(transformed_content, axis=0)[start:end])\n",
    "        ax[col].set_yticks(np.arange(5))\n",
    "        ax[col].set_yticklabels(topic_names[start:end], ha=\"left\", va=\"top\")\n",
    "        ax[col].invert_yaxis()\n",
    "        ax[col].set_xlim(0, 700)\n",
    "        yax = ax[col].get_yaxis()\n",
    "        yax.set_tick_params(pad=130)\n",
    "    \n",
    "    plt.tight_layout()\n",
    "    "
   ]
  },
  {
   "cell_type": "markdown",
   "metadata": {},
   "source": [
    "### 2.2 Putting everything in one function"
   ]
  },
  {
   "cell_type": "code",
   "execution_count": null,
   "metadata": {},
   "outputs": [],
   "source": [
    "def lda_model(df):\n",
    "    transformed_content, model, vect = lda_vect_transform(df)\n",
    "    sorting, feature_names = lda_sort(transformed_content, model, vect)\n",
    "    \n",
    "    # visualisation of the data\n",
    "    top_cat(sorting, feature_names)\n",
    "    plot_cat(sorting, feature_names, transformed_content)\n",
    "    "
   ]
  },
  {
   "cell_type": "code",
   "execution_count": 43,
   "metadata": {
    "scrolled": false
   },
   "outputs": [
    {
     "name": "stdout",
     "output_type": "stream",
     "text": [
      "topic 0       topic 1       topic 2       topic 3       topic 4       \n",
      "--------      --------      --------      --------      --------      \n",
      "emiss         climat        water         lemur         climat        \n",
      "carbon        make          woman         music         human         \n",
      "ga            energi        make          one           speci         \n",
      "global        product       oil           time          ecosystem     \n",
      "year          use           product       year          natur         \n",
      "greenhous     busi          palm          get           also          \n",
      "industri      compani       way           good          life          \n",
      "fuel          new           tree          tell          tree          \n",
      "million       environment   develop       well          forest        \n",
      "atmospher     life          plan          work          one           \n",
      "\n",
      "\n",
      "topic 5       topic 6       topic 7       topic 8       topic 9       \n",
      "--------      --------      --------      --------      --------      \n",
      "carbon        work          environment   emiss         climat        \n",
      "make          peopl         compani       compani       plan          \n",
      "footprint     design        begin         carbon        action        \n",
      "compani       commun        becom         scope         take          \n",
      "start         project       day           measur        make          \n",
      "reduc         like          like          busi          one           \n",
      "take          anim          earth         plan          need          \n",
      "creat         social        see           reduc         support       \n",
      "want          understand    get           report        planet        \n",
      "help          go            greenwash     monitor       peopl         \n",
      "\n",
      "\n"
     ]
    },
    {
     "data": {
      "image/png": "[encoded data removed]",
      "text/plain": [
       "<Figure size 720x720 with 2 Axes>"
      ]
     },
     "metadata": {
      "needs_background": "light"
     },
     "output_type": "display_data"
    }
   ],
   "source": [
    "lda_model(data_stemmed)"
   ]
  },
  {
   "cell_type": "markdown",
   "metadata": {},
   "source": [
    "## 3. Get the topics that make up an article\n",
    "Reversing the LDA model proved to be a bit complex. After trying out a few things I found a good solution which is presented in the notebook *04_LDA_topic_distribution*. The following section is the attempt at a prediction model to find out which topics make up an unseen article. (i.e. converting unsupervised output to a supervised problem).\n",
    "\n",
    "Please note: Due to time constraints, this is purerly a test for functionality as EDA was not yet performed and there is still further data cleaning to be implemented. The results of the supervised model sub-sub-optmial.\n",
    "\n",
    "### 3.1 Subsetting data to articles that successfully converted users"
   ]
  },
  {
   "cell_type": "code",
   "execution_count": null,
   "metadata": {
    "scrolled": true
   },
   "outputs": [],
   "source": [
    "with open('../02_LDA_model/pkl_cellar/success_urls.pkl', 'rb') as file:\n",
    "    success_urls = pickle.load(file)\n",
    "    \n",
    "success_urls"
   ]
  },
  {
   "cell_type": "code",
   "execution_count": null,
   "metadata": {},
   "outputs": [],
   "source": [
    "test_text = [success_urls.loc[14].content, success_urls.loc[644].content, success_urls.loc[3156].content, \n",
    "             success_urls.loc[16].content, success_urls.loc[209].content, success_urls.loc[3080].content, \n",
    "             success_urls.loc[700].content, success_urls.loc[171].content, success_urls.loc[273].content]\n",
    "test_text"
   ]
  },
  {
   "cell_type": "markdown",
   "metadata": {},
   "source": [
    "## 4. Using this [medium article](https://towardsdatascience.com/unsupervised-nlp-topic-models-as-a-supervised-learning-input-cf8ee9e5cf28) to use our unsupervised model's reults as a supervised model to get the topic distributions for each article.\n",
    "\n",
    "### 4.1 Unfortunately, even though I've already gone through data cleaning, I need to see which format (data type) is being used for the model, so I'll need to rerun the data cleaning according to this article."
   ]
  },
  {
   "cell_type": "code",
   "execution_count": null,
   "metadata": {},
   "outputs": [],
   "source": [
    "import gensim\n",
    "from gensim.utils import simple_preprocess\n",
    "from nltk.corpus import stopwords\n",
    "stop_words = stopwords.words('english')"
   ]
  },
  {
   "cell_type": "code",
   "execution_count": null,
   "metadata": {},
   "outputs": [],
   "source": [
    "def remove_stopwords(texts):\n",
    "    out = [[word for word in simple_preprocess(str(doc))\n",
    "            if word not in stop_words]\n",
    "            for doc in texts]\n",
    "    return out"
   ]
  },
  {
   "cell_type": "code",
   "execution_count": null,
   "metadata": {
    "scrolled": true
   },
   "outputs": [],
   "source": [
    "# this list of lists of words is just the articles tokenized\n",
    "\n",
    "remove_stopwords(test_text)"
   ]
  },
  {
   "cell_type": "code",
   "execution_count": null,
   "metadata": {},
   "outputs": [],
   "source": [
    "# I want to implement bi-grams in the initial data cleaning process\n",
    "# but I need to see the output datatype now\n",
    "\n",
    "def bigrams(words, bi_min=15, tri_min=10):\n",
    "    bigram = gensim.models.Phrases(words, min_count = bi_min)\n",
    "    bigram_mod = gensim.models.phrases.Phraser(bigram)\n",
    "    return bigram_mod"
   ]
  },
  {
   "cell_type": "code",
   "execution_count": null,
   "metadata": {},
   "outputs": [],
   "source": [
    "bigrams(remove_stopwords(test_text), bi_min=15, tri_min=10)"
   ]
  },
  {
   "cell_type": "code",
   "execution_count": null,
   "metadata": {},
   "outputs": [],
   "source": [
    "def get_corpus(df):\n",
    "\n",
    "    words = list((df.content))\n",
    "    words = remove_stopwords(words)\n",
    "    bigram_mod = bigrams(words)\n",
    "    bigram = [bigram_mod[article] for article in words]\n",
    "    id2word = gensim.corpora.Dictionary(bigram)\n",
    "    \n",
    "    # removes most common and rare words\n",
    "    # it's possible I need to get rid of this one\n",
    "    # id2word.filter_extremes(no_below=10, no_above=0.35)\n",
    "    \n",
    "    id2word.compactify()\n",
    "    corpus = [id2word.doc2bow(text) for text in bigram]\n",
    "    \n",
    "    return corpus, id2word, bigram"
   ]
  },
  {
   "cell_type": "code",
   "execution_count": null,
   "metadata": {},
   "outputs": [],
   "source": [
    "train_corp, train_id2w, train_bigram = get_corpus(success_urls)"
   ]
  },
  {
   "cell_type": "code",
   "execution_count": null,
   "metadata": {},
   "outputs": [],
   "source": [
    "import warnings\n",
    "import logging\n",
    "logging.basicConfig(filename='lda_model.log', format='%(asctime)s : %(levelname)s : %(message)s', level=logging.INFO)"
   ]
  },
  {
   "cell_type": "code",
   "execution_count": null,
   "metadata": {},
   "outputs": [],
   "source": [
    "with warnings.catch_warnings():\n",
    "    warnings.simplefilter('ignore')\n",
    "    lda_train = gensim.models.ldamulticore.LdaMulticore(corpus=train_corp,\n",
    "                                                        num_topics=10,\n",
    "                                                        id2word=train_id2w,\n",
    "                                                        chunksize=100,\n",
    "                                                        #workers=7, # Num. Processing Cores - 1\n",
    "                                                        passes=50,\n",
    "                                                        eval_every=1,\n",
    "                                                        per_word_topics=True)\n",
    "    lda_train.save('lda_train.model')"
   ]
  },
  {
   "cell_type": "code",
   "execution_count": null,
   "metadata": {},
   "outputs": [],
   "source": [
    "lda_train.print_topics(20, num_words=15)[:10]"
   ]
  },
  {
   "cell_type": "markdown",
   "metadata": {},
   "source": [
    "### 4.2 Now we move on to creating vectors that will be the basis of our training model. This is comprised of topic distributions for each article"
   ]
  },
  {
   "cell_type": "code",
   "execution_count": null,
   "metadata": {},
   "outputs": [],
   "source": [
    "len(success_urls)"
   ]
  },
  {
   "cell_type": "code",
   "execution_count": null,
   "metadata": {},
   "outputs": [],
   "source": [
    "success_urls.index[0]"
   ]
  },
  {
   "cell_type": "code",
   "execution_count": null,
   "metadata": {},
   "outputs": [],
   "source": [
    "train_vecs = []\n",
    "for i in range(len(success_urls)):\n",
    "    # min_probability = 0.0 will show distribution of all 10 topics\n",
    "    # I may change this depending on how the output looks and what we actually need\n",
    "    top_topics = lda_train.get_document_topics(train_corp[i], minimum_probability=0.0)\n",
    "    topic_vec = [top_topics[i][1] for i in range(10)]\n",
    "    # attaches index of article to vector, \n",
    "    # can also be done for previous attempt\n",
    "    topic_vec.extend([success_urls.index[i]]) \n",
    "    train_vecs.append(topic_vec)\n"
   ]
  },
  {
   "cell_type": "code",
   "execution_count": null,
   "metadata": {},
   "outputs": [],
   "source": [
    "train_vecs"
   ]
  },
  {
   "cell_type": "markdown",
   "metadata": {},
   "source": [
    "### 4.3 Time to train the actual model. This is still a test set, if this works I will train the model on the big dataset (complete academy) and test it on the succes_urls.\n",
    "\n",
    "For training we need an actual prediction, in this case it would be a success measure. We can use the goal completions, but I'll actually need to add it to the df."
   ]
  },
  {
   "cell_type": "code",
   "execution_count": null,
   "metadata": {},
   "outputs": [],
   "source": [
    "success_urls"
   ]
  },
  {
   "cell_type": "code",
   "execution_count": null,
   "metadata": {},
   "outputs": [],
   "source": [
    "X = np.array(train_vecs)\n",
    "y = np.array(success_urls.target_g13)"
   ]
  },
  {
   "cell_type": "code",
   "execution_count": null,
   "metadata": {},
   "outputs": [],
   "source": [
    "from sklearn.model_selection import KFold"
   ]
  },
  {
   "cell_type": "code",
   "execution_count": null,
   "metadata": {},
   "outputs": [],
   "source": [
    "# 1/5 of content are held out as validation data on each\n",
    "# fold, then f1 scores are averaged\n",
    "\n",
    "kf = KFold(5, shuffle=True, random_state=42)"
   ]
  },
  {
   "cell_type": "code",
   "execution_count": null,
   "metadata": {},
   "outputs": [],
   "source": [
    "# logistic regression, stochastic gradient descent with log loss\n",
    "# and stochastic gradient descent with modified huber loss\n",
    "cv_lr_f1, cv_lrsgd_f1, cv_svcsgd_f1,  = [], [], []"
   ]
  },
  {
   "cell_type": "code",
   "execution_count": null,
   "metadata": {},
   "outputs": [],
   "source": [
    "from sklearn.preprocessing import StandardScaler, MinMaxScaler\n",
    "from sklearn.linear_model import LogisticRegression\n",
    "from sklearn import linear_model\n",
    "from sklearn.metrics import f1_score"
   ]
  },
  {
   "cell_type": "code",
   "execution_count": 42,
   "metadata": {},
   "outputs": [
    {
     "name": "stdout",
     "output_type": "stream",
     "text": [
      "Logistic Regression Val f1: 0.222 +- 0.030\n",
      "Logisitic Regression SGD Val f1: 0.323 +- 0.067\n",
      "SVM Huber Val f1: 0.419 +- 0.196\n"
     ]
    }
   ],
   "source": [
    "for train_ind, val_ind in kf.split(X, y):\n",
    "    # Assign CV IDX\n",
    "    X_train, y_train = X[train_ind], y[train_ind]\n",
    "    X_val, y_val = X[val_ind], y[val_ind]\n",
    "    \n",
    "    # Scale Data\n",
    "    scaler = StandardScaler()\n",
    "    X_train_scale = scaler.fit_transform(X_train)\n",
    "    X_val_scale = scaler.transform(X_val)\n",
    "    \n",
    "    # Logisitic Regression (may need to balance weights\n",
    "    # depends on results)\n",
    "    lr = LogisticRegression(class_weight= 'balanced', \n",
    "                            solver='newton-cg', \n",
    "                            fit_intercept=True).fit(X_train_scale, y_train)\n",
    "    \n",
    "    # May need to change the average, macro is for unweighted mean\n",
    "    # CHECK all f1 scores\n",
    "    y_pred = lr.predict(X_val_scale)\n",
    "    cv_lr_f1.append(f1_score(y_val, y_pred, average='macro'))\n",
    "    \n",
    "    # Logistic Regression SGD\n",
    "    sgd = (linear_model.SGDClassifier(max_iter=1000, \n",
    "                                      tol=1e-3,\n",
    "                                      loss='log', \n",
    "                                      class_weight='balanced')\n",
    "                       .fit(X_train_scale, y_train))\n",
    "    \n",
    "    y_pred = sgd.predict(X_val_scale)\n",
    "    cv_lrsgd_f1.append(f1_score(y_val, y_pred, average='micro'))\n",
    "    \n",
    "    # SGD Modified Huber\n",
    "    sgd_huber = (linear_model.SGDClassifier(max_iter=1000, \n",
    "                                           tol=1e-3, \n",
    "                                           alpha=20, \n",
    "                                           loss='log',\n",
    "                                           class_weight='balanced')\n",
    "                             .fit(X_train_scale, y_train))\n",
    "    \n",
    "    y_pred = sgd_huber.predict(X_val_scale)\n",
    "    cv_svcsgd_f1.append(f1_score(y_val, y_pred, average='micro'))\n",
    "\n",
    "print(f'Logistic Regression Val f1: {np.mean(cv_lr_f1):.3f} +- {np.std(cv_lr_f1):.3f}')\n",
    "print(f'Logisitic Regression SGD Val f1: {np.mean(cv_lrsgd_f1):.3f} +- {np.std(cv_lrsgd_f1):.3f}')\n",
    "print(f'SVM Huber Val f1: {np.mean(cv_svcsgd_f1):.3f} +- {np.std(cv_svcsgd_f1):.3f}')"
   ]
  },
  {
   "cell_type": "markdown",
   "metadata": {},
   "source": [
    "hahahahahah these are just awful, but it's possible I'm using the wrong models for the purposes of this project. Also possible that the data set is too small or I'm using the wrong settings. Will need to do some research on how best to approach this."
   ]
  }
 ],
 "metadata": {
  "kernelspec": {
   "display_name": "Python 3",
   "language": "python",
   "name": "python3"
  },
  "language_info": {
   "codemirror_mode": {
    "name": "ipython",
    "version": 3
   },
   "file_extension": ".py",
   "mimetype": "text/x-python",
   "name": "python",
   "nbconvert_exporter": "python",
   "pygments_lexer": "ipython3",
   "version": "3.8.5"
  }
 },
 "nbformat": 4,
 "nbformat_minor": 4
}

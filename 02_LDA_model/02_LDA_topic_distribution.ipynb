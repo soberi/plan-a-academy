{
 "cells": [
  {
   "cell_type": "markdown",
   "metadata": {},
   "source": [
    "# Getting the topic distribution for each article\n",
    "\n",
    "- Start with smaller success_urls df with goal13 completions\n",
    "- Run LDA on it\n",
    "- Get topic names printed\n",
    "- Get topic distributions per html element\n",
    "\n",
    "## 1. importing test data"
   ]
  },
  {
   "cell_type": "code",
   "execution_count": null,
   "metadata": {},
   "outputs": [],
   "source": [
    "import pickle\n",
    "import pandas as pd\n"
   ]
  },
  {
   "cell_type": "code",
   "execution_count": null,
   "metadata": {},
   "outputs": [],
   "source": [
    "with open('../02_LDA_model/pkl_cellar/new_success_corpus.pkl', 'rb') as file:\n",
    "    success_corpus = pickle.load(file)"
   ]
  },
  {
   "cell_type": "code",
   "execution_count": null,
   "metadata": {},
   "outputs": [],
   "source": [
    "with open('../02_LDA_model/pkl_cellar/new_success_id2word.pkl', 'rb') as file:\n",
    "    success_id2word = pickle.load(file)"
   ]
  },
  {
   "cell_type": "code",
   "execution_count": null,
   "metadata": {},
   "outputs": [],
   "source": [
    "with open('../02_LDA_model/pkl_cellar/new_success_train_bigram.pkl', 'rb') as file:\n",
    "    success_bigram = pickle.load(file)"
   ]
  },
  {
   "cell_type": "markdown",
   "metadata": {},
   "source": [
    "## 2. running the model "
   ]
  },
  {
   "cell_type": "code",
   "execution_count": null,
   "metadata": {},
   "outputs": [],
   "source": [
    "import gensim\n"
   ]
  },
  {
   "cell_type": "code",
   "execution_count": null,
   "metadata": {},
   "outputs": [],
   "source": [
    "lda_model = gensim.models.ldamodel.LdaModel(corpus=success_corpus,\n",
    "                                           id2word=success_id2word,\n",
    "                                           num_topics=10,\n",
    "                                           random_state=42,\n",
    "                                           update_every=1,\n",
    "                                           chunksize=100,\n",
    "                                           passes=10,\n",
    "                                           alpha='auto',\n",
    "                                           per_word_topics=True)"
   ]
  },
  {
   "cell_type": "code",
   "execution_count": 17,
   "metadata": {},
   "outputs": [
    {
     "data": {
      "text/plain": [
       "[(0,\n",
       "  '0.044*\"sustain\" + 0.031*\"compani\" + 0.026*\"busi\" + 0.020*\"emiss\" + 0.017*\"way\" + 0.016*\"impact\" + 0.016*\"environ\" + 0.015*\"like\" + 0.013*\"product\" + 0.011*\"make\"'),\n",
       " (1,\n",
       "  '0.031*\"bank\" + 0.021*\"act\" + 0.021*\"includ\" + 0.021*\"campaign\" + 0.019*\"invest\" + 0.017*\"solar\" + 0.017*\"financ\" + 0.012*\"fuel\" + 0.010*\"demonstr\" + 0.010*\"lead\"'),\n",
       " (2,\n",
       "  '0.018*\"system\" + 0.017*\"energi\" + 0.015*\"use\" + 0.013*\"project\" + 0.013*\"resourc\" + 0.012*\"go\" + 0.012*\"clean\" + 0.012*\"hand\" + 0.012*\"one\" + 0.011*\"may\"'),\n",
       " (3,\n",
       "  '0.024*\"bear\" + 0.023*\"long\" + 0.019*\"polar\" + 0.018*\"social\" + 0.017*\"europ\" + 0.016*\"pop\" + 0.015*\"die\" + 0.014*\"coral\" + 0.014*\"reef\" + 0.014*\"awar\"'),\n",
       " (4,\n",
       "  '0.024*\"chang\" + 0.021*\"plan\" + 0.020*\"wast\" + 0.015*\"climat\" + 0.015*\"human\" + 0.014*\"individu\" + 0.014*\"work\" + 0.014*\"well\" + 0.013*\"woman\" + 0.012*\"peopl\"'),\n",
       " (5,\n",
       "  '0.051*\"climat_chang\" + 0.026*\"ye\" + 0.019*\"earli\" + 0.016*\"local\" + 0.016*\"earth\" + 0.015*\"datum\" + 0.014*\"today\" + 0.014*\"understand\" + 0.013*\"footprint\" + 0.013*\"first\"'),\n",
       " (6,\n",
       "  '0.106*\"day\" + 0.046*\"year\" + 0.040*\"sloth\" + 0.027*\"august\" + 0.019*\"level\" + 0.017*\"open\" + 0.015*\"decemb\" + 0.015*\"inten\" + 0.014*\"creep\" + 0.014*\"investig\"'),\n",
       " (7,\n",
       "  '0.053*\"ecolog\" + 0.022*\"flower\" + 0.018*\"knowledg\" + 0.014*\"indigen\" + 0.012*\"access\" + 0.012*\"et\" + 0.012*\"effici\" + 0.010*\"al\" + 0.010*\"zero\" + 0.009*\"scientif\"'),\n",
       " (8,\n",
       "  '0.028*\"plana\" + 0.027*\"less\" + 0.026*\"moveth\" + 0.025*\"public\" + 0.017*\"amount\" + 0.013*\"trash\" + 0.012*\"buy\" + 0.011*\"care\" + 0.011*\"shop\" + 0.010*\"progress\"'),\n",
       " (9,\n",
       "  '0.028*\"go\" + 0.020*\"countri\" + 0.016*\"look\" + 0.012*\"temperatur\" + 0.011*\"topic\" + 0.011*\"away\" + 0.011*\"find\" + 0.011*\"also\" + 0.011*\"pick\" + 0.010*\"hope\"')]"
      ]
     },
     "execution_count": 17,
     "metadata": {},
     "output_type": "execute_result"
    }
   ],
   "source": [
    "lda_model.print_topics()"
   ]
  },
  {
   "cell_type": "markdown",
   "metadata": {},
   "source": [
    "## 3. Topic titles and distributions"
   ]
  },
  {
   "cell_type": "code",
   "execution_count": null,
   "metadata": {},
   "outputs": [],
   "source": [
    "with open('../02_LDA_model/pkl_cellar/success_urls.pkl', 'rb') as file:\n",
    "    success_urls = pickle.load(file)\n",
    "    \n",
    "success_urls.head(10)"
   ]
  },
  {
   "cell_type": "code",
   "execution_count": null,
   "metadata": {},
   "outputs": [],
   "source": [
    "# displays the 10 topics and their top 10 words and weights\n",
    "\n",
    "model_topics = lda_model.show_topics(formatted=False)\n",
    "model_topics\n"
   ]
  },
  {
   "cell_type": "code",
   "execution_count": null,
   "metadata": {},
   "outputs": [],
   "source": [
    "topic_titles = []\n",
    "\n",
    "for i in model_topics:\n",
    "    index, word_list = i\n",
    "    word, prob = word_list[0]\n",
    "    word1, prob1 = word_list[1]\n",
    "    topic_title = f'{word}_{word1}'\n",
    "    topic_titles.append(topic_title)\n",
    "    "
   ]
  },
  {
   "cell_type": "code",
   "execution_count": null,
   "metadata": {},
   "outputs": [],
   "source": [
    "topic_titles"
   ]
  },
  {
   "cell_type": "code",
   "execution_count": null,
   "metadata": {},
   "outputs": [],
   "source": [
    "topic_dist = []\n",
    "\n",
    "for i in range(len(success_urls)):\n",
    "    top_topics = lda_model.get_document_topics(success_corpus[i], minimum_probability=0.0)\n",
    "    topic_vec = [top_topics[i][1] for i in range(10)]\n",
    "    topic_vec.extend([success_urls.index[i]]) \n",
    "    topic_dist.append(topic_vec)\n",
    "    "
   ]
  },
  {
   "cell_type": "code",
   "execution_count": null,
   "metadata": {},
   "outputs": [],
   "source": [
    "topic_dist"
   ]
  },
  {
   "cell_type": "markdown",
   "metadata": {},
   "source": [
    "## 4. One-hot encoding topics to df"
   ]
  },
  {
   "cell_type": "code",
   "execution_count": null,
   "metadata": {},
   "outputs": [],
   "source": [
    "# this can probably be part of the for loop that creates topic_dist to avoid this code repetition\n",
    "\n",
    "top_0 = [topic[0] for topic in topic_dist]\n",
    "top_1 = [topic[1] for topic in topic_dist]\n",
    "top_2 = [topic[2] for topic in topic_dist]\n",
    "top_3 = [topic[3] for topic in topic_dist]\n",
    "top_4 = [topic[4] for topic in topic_dist]\n",
    "top_5 = [topic[5] for topic in topic_dist]\n",
    "top_6 = [topic[6] for topic in topic_dist]\n",
    "top_7 = [topic[7] for topic in topic_dist]\n",
    "top_8 = [topic[8] for topic in topic_dist]\n",
    "top_9 = [topic[9] for topic in topic_dist]\n"
   ]
  },
  {
   "cell_type": "raw",
   "metadata": {},
   "source": [
    "['sustain_compani',\n",
    " 'bank_act',\n",
    " 'system_energi',\n",
    " 'bear_long',\n",
    " 'chang_plan',\n",
    " 'climat_chang_ye',\n",
    " 'day_year',\n",
    " 'ecolog_flower',\n",
    " 'plana_less',\n",
    " 'go_countri']\n"
   ]
  },
  {
   "cell_type": "code",
   "execution_count": null,
   "metadata": {},
   "outputs": [],
   "source": [
    "success_urls = success_urls.assign(sustain_compani=top_0, bank_act=top_1, system_energi=top_2, \n",
    "                                   bear_long=top_3, chang_plan=top_4, climat_chang_ye=top_5, \n",
    "                                   day_year=top_6, ecolog_flower=top_7, plana_less=top_8, \n",
    "                                   go_countri=top_9)\n"
   ]
  },
  {
   "cell_type": "code",
   "execution_count": 18,
   "metadata": {},
   "outputs": [
    {
     "data": {
      "text/html": [
       "<div>\n",
       "<style scoped>\n",
       "    .dataframe tbody tr th:only-of-type {\n",
       "        vertical-align: middle;\n",
       "    }\n",
       "\n",
       "    .dataframe tbody tr th {\n",
       "        vertical-align: top;\n",
       "    }\n",
       "\n",
       "    .dataframe thead th {\n",
       "        text-align: right;\n",
       "    }\n",
       "</style>\n",
       "<table border=\"1\" class=\"dataframe\">\n",
       "  <thead>\n",
       "    <tr style=\"text-align: right;\">\n",
       "      <th></th>\n",
       "      <th>url</th>\n",
       "      <th>content</th>\n",
       "      <th>target_g13</th>\n",
       "      <th>sustain_compani</th>\n",
       "      <th>bank_act</th>\n",
       "      <th>system_energi</th>\n",
       "      <th>bear_long</th>\n",
       "      <th>chang_plan</th>\n",
       "      <th>climat_chang_ye</th>\n",
       "      <th>day_year</th>\n",
       "      <th>ecolog_flower</th>\n",
       "      <th>plana_less</th>\n",
       "      <th>go_countri</th>\n",
       "    </tr>\n",
       "  </thead>\n",
       "  <tbody>\n",
       "    <tr>\n",
       "      <th>12</th>\n",
       "      <td>https://plana.earth/academy/release-carbon-man...</td>\n",
       "      <td>proud present major updat softwar product plan...</td>\n",
       "      <td>1.0</td>\n",
       "      <td>0.093297</td>\n",
       "      <td>0.007912</td>\n",
       "      <td>0.046300</td>\n",
       "      <td>0.008560</td>\n",
       "      <td>0.056794</td>\n",
       "      <td>0.502548</td>\n",
       "      <td>0.008783</td>\n",
       "      <td>0.254924</td>\n",
       "      <td>0.003447</td>\n",
       "      <td>0.017434</td>\n",
       "    </tr>\n",
       "    <tr>\n",
       "      <th>13</th>\n",
       "      <td>https://plana.earth/academy/release-carbon-man...</td>\n",
       "      <td>make seriou upgrad help measur accur carbon fo...</td>\n",
       "      <td>1.0</td>\n",
       "      <td>0.145241</td>\n",
       "      <td>0.005025</td>\n",
       "      <td>0.025333</td>\n",
       "      <td>0.005456</td>\n",
       "      <td>0.744880</td>\n",
       "      <td>0.020995</td>\n",
       "      <td>0.005598</td>\n",
       "      <td>0.034342</td>\n",
       "      <td>0.002197</td>\n",
       "      <td>0.010933</td>\n",
       "    </tr>\n",
       "    <tr>\n",
       "      <th>14</th>\n",
       "      <td>https://plana.earth/academy/release-carbon-man...</td>\n",
       "      <td>want get inform book demo call discov plan car...</td>\n",
       "      <td>1.0</td>\n",
       "      <td>0.088589</td>\n",
       "      <td>0.011018</td>\n",
       "      <td>0.053965</td>\n",
       "      <td>0.011963</td>\n",
       "      <td>0.740156</td>\n",
       "      <td>0.044545</td>\n",
       "      <td>0.012274</td>\n",
       "      <td>0.009204</td>\n",
       "      <td>0.004817</td>\n",
       "      <td>0.023470</td>\n",
       "    </tr>\n",
       "    <tr>\n",
       "      <th>15</th>\n",
       "      <td>https://plana.earth/academy/release-carbon-man...</td>\n",
       "      <td>carbon account busi</td>\n",
       "      <td>1.0</td>\n",
       "      <td>0.374308</td>\n",
       "      <td>0.023452</td>\n",
       "      <td>0.251044</td>\n",
       "      <td>0.025464</td>\n",
       "      <td>0.123921</td>\n",
       "      <td>0.095894</td>\n",
       "      <td>0.026127</td>\n",
       "      <td>0.019576</td>\n",
       "      <td>0.010254</td>\n",
       "      <td>0.049959</td>\n",
       "    </tr>\n",
       "    <tr>\n",
       "      <th>16</th>\n",
       "      <td>https://plana.earth/academy/release-carbon-man...</td>\n",
       "      <td>emiss dashboard add depth context carbon footp...</td>\n",
       "      <td>1.0</td>\n",
       "      <td>0.597571</td>\n",
       "      <td>0.004254</td>\n",
       "      <td>0.021230</td>\n",
       "      <td>0.004619</td>\n",
       "      <td>0.058250</td>\n",
       "      <td>0.129509</td>\n",
       "      <td>0.004739</td>\n",
       "      <td>0.003551</td>\n",
       "      <td>0.167199</td>\n",
       "      <td>0.009078</td>\n",
       "    </tr>\n",
       "    <tr>\n",
       "      <th>...</th>\n",
       "      <td>...</td>\n",
       "      <td>...</td>\n",
       "      <td>...</td>\n",
       "      <td>...</td>\n",
       "      <td>...</td>\n",
       "      <td>...</td>\n",
       "      <td>...</td>\n",
       "      <td>...</td>\n",
       "      <td>...</td>\n",
       "      <td>...</td>\n",
       "      <td>...</td>\n",
       "      <td>...</td>\n",
       "      <td>...</td>\n",
       "    </tr>\n",
       "    <tr>\n",
       "      <th>3081</th>\n",
       "      <td>https://plana.earth/academy/earth-overshoot-day/</td>\n",
       "      <td>pick futur</td>\n",
       "      <td>1.0</td>\n",
       "      <td>0.197277</td>\n",
       "      <td>0.027304</td>\n",
       "      <td>0.128433</td>\n",
       "      <td>0.029646</td>\n",
       "      <td>0.132877</td>\n",
       "      <td>0.107347</td>\n",
       "      <td>0.030418</td>\n",
       "      <td>0.022792</td>\n",
       "      <td>0.011938</td>\n",
       "      <td>0.311968</td>\n",
       "    </tr>\n",
       "    <tr>\n",
       "      <th>3082</th>\n",
       "      <td>https://plana.earth/academy/earth-overshoot-day/</td>\n",
       "      <td>movethed plana</td>\n",
       "      <td>1.0</td>\n",
       "      <td>0.128445</td>\n",
       "      <td>0.027304</td>\n",
       "      <td>0.128431</td>\n",
       "      <td>0.029646</td>\n",
       "      <td>0.132876</td>\n",
       "      <td>0.101471</td>\n",
       "      <td>0.030418</td>\n",
       "      <td>0.022791</td>\n",
       "      <td>0.340453</td>\n",
       "      <td>0.058164</td>\n",
       "    </tr>\n",
       "    <tr>\n",
       "      <th>3156</th>\n",
       "      <td>https://plana.earth/academy/a-message-from-the...</td>\n",
       "      <td>month intens investig topic sloth sloth habita...</td>\n",
       "      <td>1.0</td>\n",
       "      <td>0.028792</td>\n",
       "      <td>0.005525</td>\n",
       "      <td>0.178165</td>\n",
       "      <td>0.006001</td>\n",
       "      <td>0.357185</td>\n",
       "      <td>0.063034</td>\n",
       "      <td>0.272055</td>\n",
       "      <td>0.004612</td>\n",
       "      <td>0.002416</td>\n",
       "      <td>0.082216</td>\n",
       "    </tr>\n",
       "    <tr>\n",
       "      <th>3157</th>\n",
       "      <td>https://plana.earth/academy/a-message-from-the...</td>\n",
       "      <td>wednesday may plan launch first planetwid camp...</td>\n",
       "      <td>1.0</td>\n",
       "      <td>0.060877</td>\n",
       "      <td>0.089431</td>\n",
       "      <td>0.136143</td>\n",
       "      <td>0.013790</td>\n",
       "      <td>0.287210</td>\n",
       "      <td>0.355187</td>\n",
       "      <td>0.014150</td>\n",
       "      <td>0.010602</td>\n",
       "      <td>0.005553</td>\n",
       "      <td>0.027056</td>\n",
       "    </tr>\n",
       "    <tr>\n",
       "      <th>3158</th>\n",
       "      <td>https://plana.earth/academy/a-message-from-the...</td>\n",
       "      <td>mothership set fli look forward welcom two day...</td>\n",
       "      <td>1.0</td>\n",
       "      <td>0.118096</td>\n",
       "      <td>0.011018</td>\n",
       "      <td>0.152823</td>\n",
       "      <td>0.011963</td>\n",
       "      <td>0.252451</td>\n",
       "      <td>0.041594</td>\n",
       "      <td>0.211117</td>\n",
       "      <td>0.009197</td>\n",
       "      <td>0.004817</td>\n",
       "      <td>0.186924</td>\n",
       "    </tr>\n",
       "  </tbody>\n",
       "</table>\n",
       "<p>614 rows × 13 columns</p>\n",
       "</div>"
      ],
      "text/plain": [
       "                                                    url  \\\n",
       "12    https://plana.earth/academy/release-carbon-man...   \n",
       "13    https://plana.earth/academy/release-carbon-man...   \n",
       "14    https://plana.earth/academy/release-carbon-man...   \n",
       "15    https://plana.earth/academy/release-carbon-man...   \n",
       "16    https://plana.earth/academy/release-carbon-man...   \n",
       "...                                                 ...   \n",
       "3081   https://plana.earth/academy/earth-overshoot-day/   \n",
       "3082   https://plana.earth/academy/earth-overshoot-day/   \n",
       "3156  https://plana.earth/academy/a-message-from-the...   \n",
       "3157  https://plana.earth/academy/a-message-from-the...   \n",
       "3158  https://plana.earth/academy/a-message-from-the...   \n",
       "\n",
       "                                                content  target_g13  \\\n",
       "12    proud present major updat softwar product plan...         1.0   \n",
       "13    make seriou upgrad help measur accur carbon fo...         1.0   \n",
       "14    want get inform book demo call discov plan car...         1.0   \n",
       "15                                  carbon account busi         1.0   \n",
       "16    emiss dashboard add depth context carbon footp...         1.0   \n",
       "...                                                 ...         ...   \n",
       "3081                                         pick futur         1.0   \n",
       "3082                                     movethed plana         1.0   \n",
       "3156  month intens investig topic sloth sloth habita...         1.0   \n",
       "3157  wednesday may plan launch first planetwid camp...         1.0   \n",
       "3158  mothership set fli look forward welcom two day...         1.0   \n",
       "\n",
       "      sustain_compani  bank_act  system_energi  bear_long  chang_plan  \\\n",
       "12           0.093297  0.007912       0.046300   0.008560    0.056794   \n",
       "13           0.145241  0.005025       0.025333   0.005456    0.744880   \n",
       "14           0.088589  0.011018       0.053965   0.011963    0.740156   \n",
       "15           0.374308  0.023452       0.251044   0.025464    0.123921   \n",
       "16           0.597571  0.004254       0.021230   0.004619    0.058250   \n",
       "...               ...       ...            ...        ...         ...   \n",
       "3081         0.197277  0.027304       0.128433   0.029646    0.132877   \n",
       "3082         0.128445  0.027304       0.128431   0.029646    0.132876   \n",
       "3156         0.028792  0.005525       0.178165   0.006001    0.357185   \n",
       "3157         0.060877  0.089431       0.136143   0.013790    0.287210   \n",
       "3158         0.118096  0.011018       0.152823   0.011963    0.252451   \n",
       "\n",
       "      climat_chang_ye  day_year  ecolog_flower  plana_less  go_countri  \n",
       "12           0.502548  0.008783       0.254924    0.003447    0.017434  \n",
       "13           0.020995  0.005598       0.034342    0.002197    0.010933  \n",
       "14           0.044545  0.012274       0.009204    0.004817    0.023470  \n",
       "15           0.095894  0.026127       0.019576    0.010254    0.049959  \n",
       "16           0.129509  0.004739       0.003551    0.167199    0.009078  \n",
       "...               ...       ...            ...         ...         ...  \n",
       "3081         0.107347  0.030418       0.022792    0.011938    0.311968  \n",
       "3082         0.101471  0.030418       0.022791    0.340453    0.058164  \n",
       "3156         0.063034  0.272055       0.004612    0.002416    0.082216  \n",
       "3157         0.355187  0.014150       0.010602    0.005553    0.027056  \n",
       "3158         0.041594  0.211117       0.009197    0.004817    0.186924  \n",
       "\n",
       "[614 rows x 13 columns]"
      ]
     },
     "execution_count": 18,
     "metadata": {},
     "output_type": "execute_result"
    }
   ],
   "source": [
    "success_urls\n"
   ]
  }
 ],
 "metadata": {
  "kernelspec": {
   "display_name": "Python 3",
   "language": "python",
   "name": "python3"
  },
  "language_info": {
   "codemirror_mode": {
    "name": "ipython",
    "version": 3
   },
   "file_extension": ".py",
   "mimetype": "text/x-python",
   "name": "python",
   "nbconvert_exporter": "python",
   "pygments_lexer": "ipython3",
   "version": "3.8.5"
  }
 },
 "nbformat": 4,
 "nbformat_minor": 4
}

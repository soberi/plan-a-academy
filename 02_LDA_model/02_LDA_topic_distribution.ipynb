{
 "cells": [
  {
   "cell_type": "markdown",
   "metadata": {},
   "source": [
    "# Getting the topic distribution for each article\n",
    "\n",
    "- Start with smaller success_urls df with goal13 completions\n",
    "- Run LDA on it\n",
    "- Get topic names printed\n",
    "- Get topic distributions per html element\n",
    "\n",
    "## 1. importing test data"
   ]
  },
  {
   "cell_type": "code",
   "execution_count": null,
   "metadata": {},
   "outputs": [],
   "source": [
    "import pickle\n",
    "import pandas as pd\n"
   ]
  },
  {
   "cell_type": "code",
   "execution_count": null,
   "metadata": {},
   "outputs": [],
   "source": [
    "with open('../04_Data/success_g13_corpus.pkl', 'rb') as file:\n",
    "    success_corpus = pickle.load(file)"
   ]
  },
  {
   "cell_type": "code",
   "execution_count": null,
   "metadata": {},
   "outputs": [],
   "source": [
    "with open('../04_Data/success_g13_id2word.pkl', 'rb') as file:\n",
    "    success_id2word = pickle.load(file)"
   ]
  },
  {
   "cell_type": "code",
   "execution_count": null,
   "metadata": {},
   "outputs": [],
   "source": [
    "with open('../04_Data/success_g13_train_bigram.pkl', 'rb') as file:\n",
    "    success_bigram = pickle.load(file)"
   ]
  },
  {
   "cell_type": "markdown",
   "metadata": {},
   "source": [
    "## 2. running the model "
   ]
  },
  {
   "cell_type": "code",
   "execution_count": null,
   "metadata": {},
   "outputs": [],
   "source": [
    "import gensim\n"
   ]
  },
  {
   "cell_type": "code",
   "execution_count": null,
   "metadata": {},
   "outputs": [],
   "source": [
    "lda_model = gensim.models.ldamodel.LdaModel(corpus=success_corpus,\n",
    "                                           id2word=success_id2word,\n",
    "                                           num_topics=10,\n",
    "                                           random_state=42,\n",
    "                                           update_every=1,\n",
    "                                           chunksize=100,\n",
    "                                           passes=10,\n",
    "                                           alpha='auto',\n",
    "                                           per_word_topics=True)"
   ]
  },
  {
   "cell_type": "code",
   "execution_count": 31,
   "metadata": {},
   "outputs": [
    {
     "data": {
      "text/plain": [
       "[(0,\n",
       "  '0.018*\"find\" + 0.015*\"datum\" + 0.014*\"also\" + 0.013*\"begin\" + 0.012*\"look\" + 0.011*\"one\" + 0.010*\"solut\" + 0.010*\"everi\" + 0.010*\"new\" + 0.009*\"creatur\"'),\n",
       " (1,\n",
       "  '0.034*\"climat\" + 0.023*\"sloth\" + 0.021*\"hand\" + 0.021*\"individu\" + 0.019*\"bank\" + 0.017*\"would\" + 0.017*\"habitat\" + 0.016*\"group\" + 0.015*\"level\" + 0.014*\"want\"'),\n",
       " (2,\n",
       "  '0.032*\"emiss\" + 0.029*\"energi\" + 0.016*\"lca\" + 0.014*\"process\" + 0.013*\"life_cycl\" + 0.012*\"long\" + 0.012*\"product\" + 0.011*\"bitcoin\" + 0.011*\"blockchain\" + 0.010*\"scope\"'),\n",
       " (3,\n",
       "  '0.027*\"approach\" + 0.022*\"result\" + 0.020*\"act\" + 0.015*\"economi\" + 0.014*\"carbon_footprint\" + 0.013*\"drive\" + 0.013*\"transit\" + 0.012*\"effici\" + 0.012*\"associ\" + 0.012*\"stakehold\"'),\n",
       " (4,\n",
       "  '0.030*\"credit\" + 0.028*\"entir\" + 0.023*\"month\" + 0.021*\"away\" + 0.014*\"read\" + 0.013*\"oper\" + 0.013*\"repres\" + 0.012*\"live\" + 0.012*\"happen\" + 0.011*\"still\"'),\n",
       " (5,\n",
       "  '0.034*\"plastic\" + 0.032*\"posit\" + 0.023*\"man\" + 0.021*\"water\" + 0.019*\"planetwid\" + 0.017*\"increas\" + 0.016*\"woman\" + 0.015*\"consid\" + 0.010*\"site\" + 0.009*\"comput\"'),\n",
       " (6,\n",
       "  '0.026*\"bear\" + 0.023*\"polar\" + 0.019*\"pop\" + 0.016*\"europ\" + 0.016*\"reef\" + 0.016*\"coral\" + 0.015*\"panda\" + 0.015*\"averag\" + 0.015*\"tiger\" + 0.015*\"cockroach\"'),\n",
       " (7,\n",
       "  '0.049*\"go\" + 0.044*\"wast\" + 0.025*\"local\" + 0.020*\"lemur\" + 0.016*\"region\" + 0.015*\"team\" + 0.014*\"requir\" + 0.013*\"assess\" + 0.012*\"inspir\" + 0.009*\"adapt\"'),\n",
       " (8,\n",
       "  '0.023*\"alreadi\" + 0.022*\"earli\" + 0.022*\"ecolog\" + 0.020*\"fashion\" + 0.019*\"realiti\" + 0.018*\"top\" + 0.018*\"footprint\" + 0.014*\"august\" + 0.014*\"welcom\" + 0.014*\"dinosaur\"'),\n",
       " (9,\n",
       "  '0.028*\"sustain\" + 0.022*\"climat_chang\" + 0.018*\"plan\" + 0.015*\"compani\" + 0.015*\"day\" + 0.014*\"also\" + 0.012*\"busi\" + 0.011*\"environment\" + 0.011*\"chang\" + 0.011*\"make\"')]"
      ]
     },
     "execution_count": 31,
     "metadata": {},
     "output_type": "execute_result"
    }
   ],
   "source": [
    "lda_model.print_topics()"
   ]
  },
  {
   "cell_type": "markdown",
   "metadata": {},
   "source": [
    "## 3. Topic titles and distributions"
   ]
  },
  {
   "cell_type": "code",
   "execution_count": null,
   "metadata": {},
   "outputs": [],
   "source": [
    "with open('../04_Data/success_g13.pkl', 'rb') as file:\n",
    "    success_g13 = pickle.load(file)\n",
    "    \n",
    "success_g13.head(10)"
   ]
  },
  {
   "cell_type": "code",
   "execution_count": null,
   "metadata": {},
   "outputs": [],
   "source": [
    "# displays the 10 topics and their top 10 words and weights\n",
    "\n",
    "model_topics = lda_model.show_topics(formatted=False)\n",
    "model_topics\n"
   ]
  },
  {
   "cell_type": "code",
   "execution_count": null,
   "metadata": {},
   "outputs": [],
   "source": [
    "topic_titles = []\n",
    "\n",
    "for i in model_topics:\n",
    "    index, word_list = i\n",
    "    word, prob = word_list[0]\n",
    "    word1, prob1 = word_list[1]\n",
    "    topic_title = f'{word}_{word1}'\n",
    "    topic_titles.append(topic_title)\n",
    "    "
   ]
  },
  {
   "cell_type": "code",
   "execution_count": null,
   "metadata": {},
   "outputs": [],
   "source": [
    "topic_titles"
   ]
  },
  {
   "cell_type": "code",
   "execution_count": null,
   "metadata": {},
   "outputs": [],
   "source": [
    "topic_dist = []\n",
    "\n",
    "for i in range(len(success_g13)):\n",
    "    top_topics = lda_model.get_document_topics(success_corpus[i], minimum_probability=0.0)\n",
    "    topic_vec = [top_topics[i][1] for i in range(10)]\n",
    "    topic_vec.extend([success_g13.index[i]]) \n",
    "    topic_dist.append(topic_vec)\n",
    "    "
   ]
  },
  {
   "cell_type": "code",
   "execution_count": null,
   "metadata": {},
   "outputs": [],
   "source": [
    "topic_dist"
   ]
  },
  {
   "cell_type": "markdown",
   "metadata": {},
   "source": [
    "## 4. One-hot encoding topics to df"
   ]
  },
  {
   "cell_type": "code",
   "execution_count": null,
   "metadata": {},
   "outputs": [],
   "source": [
    "# this can probably be part of the for loop that creates topic_dist to avoid this code repetition\n",
    "\n",
    "top_0 = [topic[0] for topic in topic_dist]\n",
    "top_1 = [topic[1] for topic in topic_dist]\n",
    "top_2 = [topic[2] for topic in topic_dist]\n",
    "top_3 = [topic[3] for topic in topic_dist]\n",
    "top_4 = [topic[4] for topic in topic_dist]\n",
    "top_5 = [topic[5] for topic in topic_dist]\n",
    "top_6 = [topic[6] for topic in topic_dist]\n",
    "top_7 = [topic[7] for topic in topic_dist]\n",
    "top_8 = [topic[8] for topic in topic_dist]\n",
    "top_9 = [topic[9] for topic in topic_dist]\n"
   ]
  },
  {
   "cell_type": "code",
   "execution_count": null,
   "metadata": {},
   "outputs": [],
   "source": [
    "topic_titles"
   ]
  },
  {
   "cell_type": "code",
   "execution_count": null,
   "metadata": {},
   "outputs": [],
   "source": [
    "success_g13 = success_g13.assign(find_datum=top_0, climat_sloth=top_1, emiss_energi=top_2, \n",
    "                                   approach_result=top_3, credit_entir=top_4, plastic_posit=top_5, \n",
    "                                   bear_polar=top_6, go_wast=top_7, alreadi_earli=top_8, \n",
    "                                   sustain_climat_chang=top_9)\n"
   ]
  },
  {
   "cell_type": "code",
   "execution_count": null,
   "metadata": {},
   "outputs": [],
   "source": [
    "success_g13.head()\n"
   ]
  },
  {
   "cell_type": "markdown",
   "metadata": {},
   "source": [
    "## 5. LDA model function\n",
    "Df goes in, df with topic distribution comes out"
   ]
  },
  {
   "cell_type": "markdown",
   "metadata": {},
   "source": [
    "### 5.1 setting up the LDA model"
   ]
  },
  {
   "cell_type": "code",
   "execution_count": null,
   "metadata": {},
   "outputs": [],
   "source": [
    "def run_lda(lda_corpus, lda_id2word):\n",
    "    lda_model = gensim.models.ldamodel.LdaModel(corpus=lda_corpus,\n",
    "                                                id2word=lda_id2word,\n",
    "                                                num_topics=10,\n",
    "                                                random_state=42,\n",
    "                                                update_every=1,\n",
    "                                                chunksize=100,\n",
    "                                                passes=10,\n",
    "                                                alpha='auto',\n",
    "                                                per_word_topics=True)\n",
    "    \n",
    "\n",
    "    return lda_model"
   ]
  },
  {
   "cell_type": "markdown",
   "metadata": {},
   "source": [
    "### 5.2 Getting the topic titles"
   ]
  },
  {
   "cell_type": "code",
   "execution_count": null,
   "metadata": {},
   "outputs": [],
   "source": [
    "def topic_titles(lda_model):\n",
    "    \n",
    "    model_topics = lda_model.show_topics(formatted=False)\n",
    "    \n",
    "    topic_titles = []\n",
    "    \n",
    "    for i in model_topics:\n",
    "        index, word_list = i\n",
    "        word, prob = word_list[0]\n",
    "        word1, prob1 = word_list[1]\n",
    "        topic_title = f'{word}_{word1}'\n",
    "        topic_titles.append(topic_title)\n",
    "    \n",
    "    return topic_titles"
   ]
  },
  {
   "cell_type": "markdown",
   "metadata": {},
   "source": [
    "### 5.3 Get topic distribution"
   ]
  },
  {
   "cell_type": "code",
   "execution_count": null,
   "metadata": {},
   "outputs": [],
   "source": [
    "def topic_distribution(df, lda_model, corpus):\n",
    "    \n",
    "    topic_dist = []\n",
    "    \n",
    "    for i in range(len(df)):\n",
    "        top_topics = lda_model.get_document_topics(corpus[i], minimum_probability=0.0)\n",
    "        topic_vec = [top_topics[i][1] for i in range(10)]\n",
    "        topic_vec.extend([df.index[i]]) \n",
    "        topic_dist.append(topic_vec)\n",
    "        \n",
    "    return topic_dist"
   ]
  },
  {
   "cell_type": "markdown",
   "metadata": {},
   "source": [
    "### 5.4 Add topic distributions to df"
   ]
  },
  {
   "cell_type": "code",
   "execution_count": null,
   "metadata": {},
   "outputs": [],
   "source": [
    "def get_lda_results(topic_titles, topic_dist, df):\n",
    "    \n",
    "    for i, value in enumerate(topic_titles):\n",
    "        topic_col = [topic[i] for topic in topic_dist]\n",
    "        df[value] = topic_col\n",
    "    \n",
    "    return df\n"
   ]
  },
  {
   "cell_type": "markdown",
   "metadata": {},
   "source": [
    "### 5.5 Final function"
   ]
  },
  {
   "cell_type": "code",
   "execution_count": null,
   "metadata": {},
   "outputs": [],
   "source": [
    "def lda_results_to_df(corpus, id2word, df):\n",
    "    \n",
    "    lda_model = run_lda(corpus, id2word)\n",
    "    titles = topic_titles(lda_model)\n",
    "    top_dist = topic_distribution(df, lda_model, corpus)\n",
    "    df = get_lda_results(titles,top_dist, df)\n",
    "    \n",
    "    return df\n",
    "    "
   ]
  },
  {
   "cell_type": "markdown",
   "metadata": {},
   "source": [
    "## 6. Using function on big full academy df"
   ]
  },
  {
   "cell_type": "code",
   "execution_count": null,
   "metadata": {},
   "outputs": [],
   "source": [
    "with open('../04_Data/full_academy_corpus.pkl', 'rb') as file:\n",
    "    academy_corpus = pickle.load(file)\n",
    "\n",
    "with open('../04_Data/full_academy_id2word.pkl', 'rb') as file:\n",
    "    academy_id2word = pickle.load(file)\n",
    "\n",
    "with open('../04_Data/academy_posts.pkl', 'rb') as file:\n",
    "    academy_df = pickle.load(file)"
   ]
  },
  {
   "cell_type": "code",
   "execution_count": null,
   "metadata": {},
   "outputs": [],
   "source": [
    "full_academy = lda_results_to_df(academy_corpus, academy_id2word, academy_df)\n",
    "full_academy.head(10)"
   ]
  },
  {
   "cell_type": "code",
   "execution_count": null,
   "metadata": {},
   "outputs": [],
   "source": [
    "# with open('../04_Data/lda_separated_posts.pkl', 'wb') as fa:\n",
    "#    pickle.dump(full_academy, fa, protocol=pickle.HIGHEST_PROTOCOL)"
   ]
  },
  {
   "cell_type": "markdown",
   "metadata": {},
   "source": [
    "## LDA interactive visualisation"
   ]
  },
  {
   "cell_type": "code",
   "execution_count": null,
   "metadata": {},
   "outputs": [],
   "source": [
    "import pyLDAvis\n",
    "import pyLDAvis.gensim\n",
    "import matplotlib.pyplot as plt\n",
    "import warnings\n",
    "warnings.filterwarnings(\"ignore\",category=DeprecationWarning)"
   ]
  },
  {
   "cell_type": "code",
   "execution_count": 32,
   "metadata": {},
   "outputs": [
    {
     "data": {
      "text/html": [
       "\n",
       "<link rel=\"stylesheet\" type=\"text/css\" href=\"https://cdn.rawgit.com/bmabey/pyLDAvis/files/ldavis.v1.0.0.css\">\n",
       "\n",
       "\n",
       "<div id=\"ldavis_el26961407093892305927815095816\"></div>\n",
       "<script type=\"text/javascript\">\n",
       "\n",
       "var ldavis_el26961407093892305927815095816_data = {\"mdsDat\": {\"x\": [-0.35128306250151337, -0.11849653276731166, 0.035462262325907476, 0.07605926299834528, 0.042545607768158716, 0.07458286203133366, 0.06851815130345874, 0.0621299623082819, 0.050300724080504795, 0.06018076245283434], \"y\": [0.05935597963609764, -0.17138662751178374, 0.23585789305700985, 0.057949462336028885, -0.045037600915906466, -0.16425377454358178, 0.017653978439894757, 0.016955491621247053, -0.010218441885675961, 0.0031236397666687937], \"topics\": [1, 2, 3, 4, 5, 6, 7, 8, 9, 10], \"cluster\": [1, 1, 1, 1, 1, 1, 1, 1, 1, 1], \"Freq\": [40.954782252326204, 13.817775472770583, 12.370170504364726, 8.050788227682983, 6.782200189871017, 5.976302650746897, 3.974655615573052, 3.4879297292098697, 2.582354664491975, 2.0030406929626965]}, \"tinfo\": {\"Term\": [\"go\", \"wast\", \"emiss\", \"sustain\", \"energi\", \"climat_chang\", \"climat\", \"individu\", \"plastic\", \"plan\", \"compani\", \"local\", \"also\", \"peopl\", \"find\", \"day\", \"sloth\", \"lemur\", \"credit\", \"lca\", \"hand\", \"alreadi\", \"earli\", \"ecolog\", \"datum\", \"entir\", \"woman\", \"first\", \"fashion\", \"busi\", \"climat_chang\", \"plan\", \"day\", \"busi\", \"environment\", \"chang\", \"well\", \"sustain\", \"world\", \"planet\", \"like\", \"system\", \"impact\", \"ye\", \"futur\", \"help\", \"start\", \"fight\", \"understand\", \"support\", \"know\", \"countri\", \"develop\", \"earth\", \"come\", \"becom\", \"incred\", \"clean\", \"think\", \"food\", \"provid\", \"project\", \"work\", \"take\", \"compani\", \"also\", \"human\", \"make\", \"year\", \"get\", \"peopl\", \"time\", \"use\", \"find\", \"datum\", \"begin\", \"creatur\", \"final\", \"madagascar\", \"eat\", \"materi\", \"intellig\", \"address\", \"topic\", \"africa\", \"ago\", \"give\", \"innov\", \"initi\", \"handl\", \"past\", \"rise\", \"clear\", \"fli\", \"question\", \"legend\", \"hitch\", \"humour\", \"pollin\", \"hibern\", \"float\", \"exactli\", \"driftwood\", \"alf\", \"quirki\", \"undef\", \"mode\", \"everi\", \"solut\", \"look\", \"differ\", \"new\", \"need\", \"plastic\", \"one\", \"also\", \"challeng\", \"way\", \"year\", \"make\", \"time\", \"energi\", \"lca\", \"process\", \"long\", \"blockchain\", \"bitcoin\", \"scope\", \"includ\", \"choic\", \"fuel\", \"serv\", \"renew\", \"two\", \"transact\", \"within\", \"ghg\", \"ga\", \"establish\", \"expos\", \"among\", \"phase\", \"takeoff\", \"form\", \"countdown\", \"mothership\", \"tonn\", \"rule\", \"fossil\", \"unit\", \"biodivers\", \"emiss\", \"caus\", \"life_cycl\", \"product\", \"exampl\", \"good\", \"compani\", \"use\", \"wast\", \"local\", \"lemur\", \"region\", \"team\", \"requir\", \"assess\", \"inspir\", \"appli\", \"end\", \"extinct\", \"sing\", \"crazi\", \"tell\", \"avail\", \"et\", \"effect\", \"mitig\", \"limit\", \"block\", \"solid\", \"dump\", \"reason\", \"al\", \"dataset\", \"cours\", \"second\", \"prioriti\", \"bit\", \"despit\", \"go\", \"adapt\", \"buy\", \"manag\", \"algorithm\", \"still\", \"life\", \"climat\", \"sloth\", \"hand\", \"bank\", \"habitat\", \"group\", \"invest\", \"level\", \"solar\", \"campaign\", \"public\", \"turn\", \"destruct\", \"intens\", \"scientist\", \"plana\", \"financ\", \"cute\", \"movethed\", \"dystopian\", \"oppos\", \"investig\", \"machin\", \"integr\", \"fund\", \"organis\", \"electr\", \"warm\", \"easi\", \"polici\", \"would\", \"launch\", \"want\", \"individu\", \"peopl\", \"first\", \"alreadi\", \"earli\", \"ecolog\", \"realiti\", \"top\", \"footprint\", \"august\", \"dinosaur\", \"ground\", \"tool\", \"mark\", \"pick\", \"open\", \"choos\", \"donat\", \"step\", \"tomorrow\", \"forward\", \"fauna\", \"flora\", \"flower\", \"overnight\", \"remind\", \"welcom\", \"calendar\", \"dedic\", \"morn\", \"improv\", \"trampl\", \"unexpectedli\", \"asleep\", \"overshoot\", \"chew\", \"mud\", \"fashion\", \"garbag\", \"replant\", \"rebuild\", \"regrow\", \"fall\", \"woman\", \"credit\", \"entir\", \"month\", \"away\", \"oper\", \"repres\", \"happen\", \"parti\", \"connect\", \"iva\", \"capabl\", \"interact\", \"minkova\", \"decad\", \"scenario\", \"job\", \"present\", \"alway\", \"mission\", \"landfil\", \"drastic\", \"select\", \"expert\", \"marko\", \"ahtisaari\", \"cocktail\", \"white\", \"languag\", \"wzorek\", \"playlist\", \"element\", \"read\", \"room\", \"claim\", \"live\", \"still\", \"case\", \"without\", \"tradit\", \"natur\", \"approach\", \"result\", \"act\", \"economi\", \"transit\", \"effici\", \"associ\", \"key\", \"enabl\", \"zero\", \"custom\", \"short\", \"engag\", \"motiv\", \"fortun\", \"commit\", \"convers\", \"pari\", \"later\", \"inclus\", \"disrupt\", \"third\", \"balanc\", \"test\", \"valid\", \"agreement\", \"isol\", \"entiti\", \"recogn\", \"encourag\", \"carbon_footprint\", \"drive\", \"softwar\", \"stakehold\", \"accord\", \"promot\", \"technolog\", \"reduct\", \"industri\", \"compani\", \"cultur\", \"posit\", \"man\", \"planetwid\", \"consid\", \"site\", \"water\", \"benefici\", \"surpris\", \"equal\", \"happi\", \"tap\", \"leadership\", \"smart\", \"momentum\", \"crack\", \"tote\", \"perfect\", \"river\", \"old\", \"chemic\", \"cent\", \"singl\", \"lower\", \"fiji\", \"instal\", \"india\", \"consider\", \"asset\", \"mask\", \"untouch\", \"comput\", \"plastic\", \"increas\", \"femal\", \"decid\", \"woman\", \"bottl\", \"bag\", \"free\", \"use\", \"polar\", \"pop\", \"coral\", \"reef\", \"koala\", \"averag\", \"cockroach\", \"iggi\", \"uncommon\", \"tiger\", \"panda\", \"lion\", \"influenc\", \"piec\", \"purchas\", \"record\", \"stop\", \"shift\", \"explor\", \"bottom\", \"bear\", \"hear\", \"republ\", \"page\", \"street\", \"style\", \"soon\", \"music\", \"fair\", \"song\", \"europ\", \"see\"], \"Freq\": [67.0, 51.0, 65.0, 165.0, 52.0, 131.0, 34.0, 49.0, 28.0, 108.0, 106.0, 29.0, 110.0, 50.0, 35.0, 86.0, 23.0, 24.0, 17.0, 29.0, 21.0, 20.0, 19.0, 19.0, 29.0, 16.0, 24.0, 37.0, 21.0, 73.0, 130.8311225689535, 107.62633915123119, 85.57173715215228, 72.4913330261769, 65.23182898781602, 64.58653937389914, 60.95898373016068, 163.77930199425583, 52.393723509661925, 52.382000355740324, 51.90400865923952, 49.90485675006668, 44.49081324932566, 44.49079128557124, 38.570041224894766, 38.45925330213169, 36.306676331928216, 35.5306145241955, 35.16282871096564, 34.80852589748028, 34.37125225620459, 31.327042947980402, 30.287729070709847, 29.97710392835768, 30.149835129523364, 29.009056943240964, 28.076882260030487, 27.63520488599362, 27.153344823245618, 25.557087788742773, 27.743914488494717, 47.64860262259356, 54.22078940295517, 33.35697431350338, 87.67103829054109, 81.13816663059102, 38.54366001036721, 62.488215622582025, 52.68429299875946, 40.14421919526705, 36.32720695137218, 35.74075549007681, 35.77114783525529, 35.16060239713083, 28.900559824987475, 25.701040352417326, 18.825875656329664, 17.86420556990228, 17.636516290827227, 15.180512923522395, 14.483549709962224, 14.005737172780206, 13.994704979449759, 13.41329727537517, 12.615455723053257, 11.796782684937186, 11.34485550817661, 10.922077961299811, 10.72257311097921, 10.633111378665644, 9.887202649103726, 9.88060371163218, 9.521571122641308, 9.388882829961778, 9.15914828784108, 8.863072378270628, 8.863072378270628, 8.863072378270628, 8.863072378270628, 8.863072378270628, 8.863072378270628, 8.863072378270628, 8.863072378270628, 8.863072378270628, 8.863072378270628, 8.863072378270628, 8.863072378270628, 20.078191701252518, 20.391576390384074, 24.631882800493294, 15.556226262932634, 19.003213301059088, 18.518917613489176, 15.281364399680728, 21.20478149926172, 28.5413438292561, 12.265341518393665, 16.137384793203204, 15.657811366052993, 14.870775990674238, 13.31554148268538, 52.19429479775984, 28.349844507989502, 24.638373243092055, 22.162961686827465, 20.42943241007772, 20.429943230637747, 17.80904400824764, 17.234720823471413, 15.595822713974924, 15.146395156125221, 14.878793181512025, 14.702536869186458, 13.01982179934703, 11.718569445994923, 11.542304841127796, 11.48283239157586, 11.407794012263759, 11.390222116700505, 11.097492911909763, 11.066128031971632, 10.997600127037405, 10.750540436373853, 10.642486961353406, 10.288918696161826, 10.288918696161826, 10.27692436405107, 10.169513561001434, 10.0362565644211, 9.508531658426659, 9.643587307271114, 57.550046031625484, 17.427414611674983, 22.339529798715645, 21.833231990855182, 12.854573835940867, 12.469282453015813, 15.574200741114314, 12.772903911144136, 50.571258103792005, 28.442787950468375, 23.400012479660848, 18.353871455495284, 17.20219485553943, 15.86761262773663, 15.233824313034576, 13.890131992113792, 9.99329074029202, 9.519994417939888, 8.902198418360584, 8.428400177371028, 8.081419505739897, 7.73964583519895, 7.710667859500858, 7.14643035641695, 6.737487559147054, 6.6868374922614215, 6.645199293556125, 6.629624704267101, 6.628674297040753, 6.62682151566196, 6.413807245939066, 5.918298595242338, 5.536823160481125, 6.0103099960364945, 5.403078034531323, 5.333376107624491, 5.122711680640678, 5.046662911608995, 57.322031395301934, 10.151881918189245, 7.33538707218089, 9.918645184655286, 7.345091372201886, 6.69310661795209, 6.9881808070116485, 33.68112566884227, 22.341244919550043, 20.64567402756186, 18.188083928074818, 16.186096963321926, 15.191365907626107, 12.597579166898445, 14.372246499254599, 10.378679637174367, 9.61991758262599, 9.477859520972519, 9.02574814149517, 8.96258101586383, 8.556885429897813, 8.394077794493043, 8.292505907593194, 7.85530723285844, 7.833702906518235, 7.497744674727314, 7.4977264885020185, 7.4977264885020185, 7.497906532132448, 6.9100358901328445, 6.583213508619294, 6.425122016089371, 5.778136139454345, 5.630411249998688, 5.305240177742, 4.983752725418987, 4.168189633404083, 16.25672135063583, 9.646651333810889, 13.59391242904283, 20.42461318460069, 13.551700381508631, 11.666593558798372, 19.428536364154052, 19.140069222178646, 18.827897545048693, 15.976363116771502, 15.194179160155764, 15.16327288210069, 12.135026528727007, 11.934807980191184, 10.374902295065299, 8.963625103024286, 8.526018262804847, 8.314168595005118, 8.304595917831936, 8.053004455848509, 7.476190361198441, 7.40769688249099, 7.393270160091799, 7.391640393173724, 7.202002509413315, 7.202002509413315, 6.914485664175785, 6.844299920113872, 6.5476422779238295, 11.98791802966553, 6.3555629488343275, 6.352487705259315, 6.199744731779004, 6.013193309261678, 5.9984388707024605, 5.9984388707024605, 5.9984388707024605, 5.9984388707024605, 5.9984388707024605, 5.9984388707024605, 17.33599416502122, 5.9984388707024605, 5.9984388707024605, 5.9984388707024605, 5.9984388707024605, 7.357750215412202, 9.191730774380515, 16.919162220972552, 15.752645940336864, 13.441572907444165, 11.740926589789959, 7.623771341180462, 7.404011925799323, 6.842545452002282, 4.966293782325315, 4.879006682020263, 4.553404236959341, 4.336441186972472, 4.3221649356313545, 3.9444253968568614, 3.864571113039525, 3.659278458885821, 3.9234900922586107, 3.40206133603852, 3.076033374490256, 2.9215727547169985, 2.7934981538698245, 2.729137519534284, 2.661456151334161, 2.421242901794738, 2.247839471031458, 2.247839471031458, 2.2445301944047937, 2.220247244755222, 2.1705015163978754, 2.1148024207049514, 2.113369200175577, 4.661780648456058, 8.150228759057159, 4.258620696109349, 3.1610740568211204, 7.069512802271064, 6.445118914667857, 3.2082352454619896, 3.6786148126759706, 2.9709979468600234, 2.921765929077251, 13.449526688986145, 11.031892102897244, 9.81917985385811, 7.742372856638673, 6.283414652749629, 6.232183986507625, 6.033158235345943, 5.81572438624036, 5.19402740070439, 5.009304822078836, 4.208047980234675, 4.0170730830055765, 3.4155317582124187, 3.3384404827755483, 3.1393581474290473, 2.7754986909677717, 2.7119775656727847, 2.5006173974963595, 2.3894907348909076, 2.3832587585356237, 2.35592672671652, 2.2370922225715812, 2.198426752643561, 2.194552372716083, 2.122389065375261, 1.9227109593555423, 1.8721580173271646, 1.8577928827704697, 1.749424816084413, 1.7389213183226642, 7.132969603620923, 6.3761776430108315, 3.6404464106613763, 5.954845723556555, 5.15571990758198, 2.441424027064238, 4.5756118302500255, 2.679642042238226, 3.4224450829749853, 3.222933456044486, 2.5520470436610125, 11.795546238613394, 8.427130393930963, 7.073130670723576, 5.511459924835315, 3.826337277241817, 7.903286422788863, 2.2281656354093964, 2.226063879298882, 2.1879532123250147, 2.087176941078887, 2.0457252072297276, 2.0334191750554313, 1.9528911539717628, 1.8672301808715506, 1.8125568240344458, 1.810290611264267, 1.8019481577001621, 1.74653336099638, 1.654201506443349, 1.4227952330783058, 1.4188284518910577, 1.3578429887876136, 1.324707222324739, 1.3121957058819986, 1.294688515455466, 1.2127388963832015, 1.2021408764537278, 1.1732203072903316, 1.172440263386701, 1.1390635246393492, 3.4776517665017086, 12.504916017982746, 6.304382689152524, 2.4152636493030415, 2.929878485817034, 6.020014619996802, 2.2491283199238934, 2.133056540655313, 2.1887644164378446, 1.6217360307028128, 6.6813755114654665, 5.6017140283098525, 4.614745593810614, 4.614745593810614, 4.417326662828167, 4.417326662828167, 4.417326662828167, 4.417326662828167, 4.417326662828167, 4.417326662828167, 4.417326662828167, 4.417326662828167, 3.8036381808620243, 2.6452307361321665, 2.5906191917392873, 2.3791629395071188, 2.3732246719067014, 1.9095378715169025, 1.7501711724042992, 1.6834275636127825, 7.484018100121131, 1.4715475330578276, 1.2830082081297407, 1.2788260155944067, 1.2136566707624437, 1.0641556411114832, 1.0603502970751673, 4.054582086469293, 1.012318193125325, 0.9737808854661697, 4.70623283469176, 1.1293297527781923], \"Total\": [67.0, 51.0, 65.0, 165.0, 52.0, 131.0, 34.0, 49.0, 28.0, 108.0, 106.0, 29.0, 110.0, 50.0, 35.0, 86.0, 23.0, 24.0, 17.0, 29.0, 21.0, 20.0, 19.0, 19.0, 29.0, 16.0, 24.0, 37.0, 21.0, 73.0, 131.52636314299238, 108.32187700616703, 86.26734259437755, 73.18653987905296, 65.92747670331762, 65.28171648582257, 61.654202227137496, 165.82409996207613, 53.08895211657445, 53.077166838411685, 52.5993528820944, 50.60006234912113, 45.186005614748325, 45.186067206080196, 39.26523665230532, 39.154512802968036, 37.00184953417479, 36.225824321508156, 35.85800150666165, 35.503709217856205, 35.0666055353882, 32.02232502491097, 30.98769858169568, 30.672394929028634, 30.8639666279219, 29.70457371768892, 28.77235184960183, 28.330664302336174, 27.848584634992072, 26.25240485096464, 28.52235117373504, 49.35761108826665, 57.45739569281758, 34.66168071454083, 106.97821430181314, 110.42891925286456, 42.97946039053204, 86.2061618161684, 69.34143688156279, 51.393842607895266, 50.49507760336905, 53.030939520017036, 56.34329882204835, 35.872775937718835, 29.612855419368703, 26.413227494915173, 19.537979957616383, 18.576374756372307, 18.348655941401688, 15.893537180928123, 15.195664013426402, 14.717861165191085, 14.706818663931115, 14.126361010921643, 13.327640799895894, 12.509000728927282, 12.057077283609145, 11.634222690422686, 11.4347438535798, 11.345857827784146, 10.599399656653508, 10.59277299436286, 10.233859312582174, 10.101291239382626, 9.871333340421065, 9.575224598299787, 9.575224598299787, 9.575224598299787, 9.575224598299787, 9.575224598299787, 9.575224598299787, 9.575224598299787, 9.575224598299787, 9.575224598299787, 9.575224598299787, 9.575224598299787, 9.575224598299787, 22.17111469189123, 22.868949995108117, 33.38681375483395, 20.07612892342918, 30.741190401387584, 36.35912388959299, 28.43307980655368, 56.68290981973336, 110.42891925286456, 19.148106083526788, 48.3599814645471, 69.34143688156279, 86.2061618161684, 53.030939520017036, 52.89138170232164, 29.110307986870463, 25.335526571919203, 22.86059943790059, 21.126793607493212, 21.12734372838614, 18.506091246189595, 17.93181100702261, 16.292982749390394, 15.843494399740878, 15.576086391796698, 15.399915322187963, 13.717076801606227, 12.415969731117553, 12.239508096005295, 12.179871149258314, 12.104831517812743, 12.087544477327578, 11.795110385247416, 11.76357314155702, 11.694750847793625, 11.447728759760677, 11.339634631570306, 10.986168997547955, 10.986168997547955, 10.974091486286154, 10.866660690493358, 10.73338481772905, 10.205687682143338, 10.352707841142442, 65.75933439620299, 19.123001154766477, 27.87803857859745, 55.76149835740913, 24.526419675583504, 24.283384008520787, 106.97821430181314, 56.34329882204835, 51.29527653697731, 29.166792391885945, 24.124365525049935, 19.078058043279174, 17.926300417424176, 16.591832331646795, 15.958066905626307, 14.614375880813093, 10.717514973853978, 10.244098232421152, 9.626389073419416, 9.15263745990185, 8.805741990702568, 8.46361248016935, 8.43474680218972, 7.870665564301024, 7.461556322750717, 7.410900899889925, 7.369323772126158, 7.353667627128424, 7.352820325443868, 7.351329492013451, 7.13790178677949, 6.642234074319407, 6.260886877677394, 6.804959457748613, 6.127108052525342, 6.057585614435924, 5.84669749574094, 5.770815835329754, 67.22924326158113, 15.12723952441349, 10.456338587572542, 34.78111711111407, 15.901409348442915, 13.781306846576564, 21.51076933404797, 34.40779710201334, 23.06780740361746, 21.372249522860493, 18.91461671332751, 16.912607131582178, 15.918295494750227, 13.324111321343535, 15.218857023823508, 11.10534033858023, 10.346434453575878, 10.204486643383305, 9.752298174317318, 9.689176889462697, 9.283398798751833, 9.120925190631846, 9.01897156159929, 8.581788604623627, 8.560243625482077, 8.224232296715476, 8.224273364216733, 8.224273364216733, 8.224490211535022, 7.636672129964917, 7.309823169372257, 7.151731849224012, 6.504699194944511, 6.357008377378083, 6.032351575004281, 5.7103189280712945, 4.894770873006, 22.310587431750832, 12.970208354131596, 20.995220174123606, 49.54871257314218, 50.49507760336905, 37.27644226222956, 20.170936351556957, 19.88238867701587, 19.57031848341484, 16.719060817021898, 15.936556710696534, 15.905637145566109, 12.87736774541794, 12.677065238327708, 11.117271400542151, 9.706060901063923, 9.268409366505335, 9.056588007909678, 9.047113126957205, 8.795311017029915, 8.219009153163785, 8.150175196313441, 8.135538479333094, 8.134109138393143, 7.944331765245721, 7.944331765245721, 7.656772301499996, 7.58666407494447, 7.290720622763308, 13.353605975466749, 7.097852624890859, 7.095285902364473, 6.942017664949707, 6.755714497063765, 6.740712890915039, 6.740712890915039, 6.740712890915039, 6.740712890915039, 6.740712890915039, 6.740712890915039, 21.120246414096506, 6.740712890915039, 6.740712890915039, 6.740712890915039, 6.740712890915039, 11.671946130676973, 24.16040210277356, 17.643721149660056, 16.47728721800556, 14.1663358507695, 12.46584000009808, 8.348388702558141, 8.12855037095102, 7.567256485353109, 5.69086116514767, 5.603493079960907, 5.278238396260729, 5.061156345940238, 5.046727826818498, 4.669101918341507, 4.589145413429651, 4.383860637844852, 4.717932562402094, 4.126598376865448, 3.800555982992657, 3.646282923471326, 3.5184476141569534, 3.4536423692982376, 3.3859934585425333, 3.1460840955883786, 2.972369053924845, 2.972369053924845, 2.9694542257511563, 2.944741218915074, 2.894933087849973, 2.839270167572402, 2.837841431179844, 6.276191687182593, 12.897394557456968, 6.566909142924649, 4.657719311046964, 13.944026981770586, 13.781306846576564, 5.104373347118425, 11.825731658505683, 9.77901339885748, 37.17343879734955, 14.178434925275415, 11.760837810329013, 10.548392612635322, 8.471424722186006, 7.012368320815628, 6.961149734277998, 6.762357935931176, 6.5449123880728095, 5.922911663583855, 5.738298512378025, 4.936943593440898, 4.7459252836058665, 4.144346556845515, 4.067275468410812, 3.868399752930883, 3.5043856792243595, 3.440942414382415, 3.2296029399803814, 3.1184512598344587, 3.1124318609225643, 3.084989767545873, 2.965956248585906, 2.927218749619132, 2.9233464858826763, 2.852056809326103, 2.651695482157397, 2.6010487585568898, 2.5865875713851123, 2.478254982904267, 2.467966149176491, 11.323353388316406, 11.172837752663968, 6.158053235838762, 12.536355935305044, 10.394789921495377, 3.843827653849657, 20.681138388541893, 5.574121621613312, 20.100130020925057, 106.97821430181314, 9.916066978191711, 12.535888902302213, 9.167950725147444, 7.813479401360988, 6.251748663926708, 4.567009337319713, 10.362681790866155, 2.968397617182018, 2.966701293791892, 2.9281029436096175, 2.827414067796016, 2.786058833075405, 2.773629884186905, 2.6933594200826465, 2.607563468076982, 2.5528516856267083, 2.5510768002740787, 2.542253031273042, 2.486666760832437, 2.394350371428365, 2.1631741535613926, 2.1589663630887497, 2.097964883334903, 2.0650286838778285, 2.0523448023330824, 2.034967566067711, 1.9529521989703353, 1.942462850068382, 1.9133612203284958, 1.9125925490359463, 1.880235958544599, 6.626170533072001, 28.43307980655368, 13.138594977444425, 5.000451658362459, 7.55100404369939, 24.16040210277356, 5.242247900166366, 5.349279857390713, 7.666255961273289, 56.34329882204835, 7.440293396457857, 6.360640348608195, 5.37370621537513, 5.37370621537513, 5.176246487227617, 5.176246487227617, 5.176246487227617, 5.176246487227617, 5.176246487227617, 5.176246487227617, 5.176246487227617, 5.176246487227617, 4.562773485013812, 3.4042504733306798, 3.349745134360058, 3.1384515155609494, 3.1325830418197205, 2.66872105225988, 2.5094430910079586, 2.4425655704408835, 11.138770706498185, 2.2307919880699325, 2.0432638225380777, 2.0404135455172425, 1.9727862220887054, 1.8230662837931697, 1.8196089652603478, 6.9983986023285745, 1.7712752429817282, 1.7327551990780883, 9.137970814970199, 26.35017542897583], \"Category\": [\"Default\", \"Default\", \"Default\", \"Default\", \"Default\", \"Default\", \"Default\", \"Default\", \"Default\", \"Default\", \"Default\", \"Default\", \"Default\", \"Default\", \"Default\", \"Default\", \"Default\", \"Default\", \"Default\", \"Default\", \"Default\", \"Default\", \"Default\", \"Default\", \"Default\", \"Default\", \"Default\", \"Default\", \"Default\", \"Default\", \"Topic1\", \"Topic1\", \"Topic1\", \"Topic1\", \"Topic1\", \"Topic1\", \"Topic1\", \"Topic1\", \"Topic1\", \"Topic1\", \"Topic1\", \"Topic1\", \"Topic1\", \"Topic1\", \"Topic1\", \"Topic1\", \"Topic1\", \"Topic1\", \"Topic1\", \"Topic1\", \"Topic1\", \"Topic1\", \"Topic1\", \"Topic1\", \"Topic1\", \"Topic1\", \"Topic1\", \"Topic1\", \"Topic1\", \"Topic1\", \"Topic1\", \"Topic1\", \"Topic1\", \"Topic1\", \"Topic1\", \"Topic1\", \"Topic1\", \"Topic1\", \"Topic1\", \"Topic1\", \"Topic1\", \"Topic1\", \"Topic1\", \"Topic2\", \"Topic2\", \"Topic2\", \"Topic2\", \"Topic2\", \"Topic2\", \"Topic2\", \"Topic2\", \"Topic2\", \"Topic2\", \"Topic2\", \"Topic2\", \"Topic2\", \"Topic2\", \"Topic2\", \"Topic2\", \"Topic2\", \"Topic2\", \"Topic2\", \"Topic2\", \"Topic2\", \"Topic2\", \"Topic2\", \"Topic2\", \"Topic2\", \"Topic2\", \"Topic2\", \"Topic2\", \"Topic2\", \"Topic2\", \"Topic2\", \"Topic2\", \"Topic2\", \"Topic2\", \"Topic2\", \"Topic2\", \"Topic2\", \"Topic2\", \"Topic2\", \"Topic2\", \"Topic2\", \"Topic2\", \"Topic2\", \"Topic2\", \"Topic2\", \"Topic2\", \"Topic2\", \"Topic2\", \"Topic3\", \"Topic3\", \"Topic3\", \"Topic3\", \"Topic3\", \"Topic3\", \"Topic3\", \"Topic3\", \"Topic3\", \"Topic3\", \"Topic3\", \"Topic3\", \"Topic3\", \"Topic3\", \"Topic3\", \"Topic3\", \"Topic3\", \"Topic3\", \"Topic3\", \"Topic3\", \"Topic3\", \"Topic3\", \"Topic3\", \"Topic3\", \"Topic3\", \"Topic3\", \"Topic3\", \"Topic3\", \"Topic3\", \"Topic3\", \"Topic3\", \"Topic3\", \"Topic3\", \"Topic3\", \"Topic3\", \"Topic3\", \"Topic3\", \"Topic3\", \"Topic4\", \"Topic4\", \"Topic4\", \"Topic4\", \"Topic4\", \"Topic4\", \"Topic4\", \"Topic4\", \"Topic4\", \"Topic4\", \"Topic4\", \"Topic4\", \"Topic4\", \"Topic4\", \"Topic4\", \"Topic4\", \"Topic4\", \"Topic4\", \"Topic4\", \"Topic4\", \"Topic4\", \"Topic4\", \"Topic4\", \"Topic4\", \"Topic4\", \"Topic4\", \"Topic4\", \"Topic4\", \"Topic4\", \"Topic4\", \"Topic4\", \"Topic4\", \"Topic4\", \"Topic4\", \"Topic4\", \"Topic4\", \"Topic4\", \"Topic5\", \"Topic5\", \"Topic5\", \"Topic5\", \"Topic5\", \"Topic5\", \"Topic5\", \"Topic5\", \"Topic5\", \"Topic5\", \"Topic5\", \"Topic5\", \"Topic5\", \"Topic5\", \"Topic5\", \"Topic5\", \"Topic5\", \"Topic5\", \"Topic5\", \"Topic5\", \"Topic5\", \"Topic5\", \"Topic5\", \"Topic5\", \"Topic5\", \"Topic5\", \"Topic5\", \"Topic5\", \"Topic5\", \"Topic5\", \"Topic5\", \"Topic5\", \"Topic5\", \"Topic5\", \"Topic5\", \"Topic5\", \"Topic6\", \"Topic6\", \"Topic6\", \"Topic6\", \"Topic6\", \"Topic6\", \"Topic6\", \"Topic6\", \"Topic6\", \"Topic6\", \"Topic6\", \"Topic6\", \"Topic6\", \"Topic6\", \"Topic6\", \"Topic6\", \"Topic6\", \"Topic6\", \"Topic6\", \"Topic6\", \"Topic6\", \"Topic6\", \"Topic6\", \"Topic6\", \"Topic6\", \"Topic6\", \"Topic6\", \"Topic6\", \"Topic6\", \"Topic6\", \"Topic6\", \"Topic6\", \"Topic6\", \"Topic6\", \"Topic6\", \"Topic6\", \"Topic6\", \"Topic6\", \"Topic6\", \"Topic6\", \"Topic6\", \"Topic7\", \"Topic7\", \"Topic7\", \"Topic7\", \"Topic7\", \"Topic7\", \"Topic7\", \"Topic7\", \"Topic7\", \"Topic7\", \"Topic7\", \"Topic7\", \"Topic7\", \"Topic7\", \"Topic7\", \"Topic7\", \"Topic7\", \"Topic7\", \"Topic7\", \"Topic7\", \"Topic7\", \"Topic7\", \"Topic7\", \"Topic7\", \"Topic7\", \"Topic7\", \"Topic7\", \"Topic7\", \"Topic7\", \"Topic7\", \"Topic7\", \"Topic7\", \"Topic7\", \"Topic7\", \"Topic7\", \"Topic7\", \"Topic7\", \"Topic7\", \"Topic7\", \"Topic7\", \"Topic8\", \"Topic8\", \"Topic8\", \"Topic8\", \"Topic8\", \"Topic8\", \"Topic8\", \"Topic8\", \"Topic8\", \"Topic8\", \"Topic8\", \"Topic8\", \"Topic8\", \"Topic8\", \"Topic8\", \"Topic8\", \"Topic8\", \"Topic8\", \"Topic8\", \"Topic8\", \"Topic8\", \"Topic8\", \"Topic8\", \"Topic8\", \"Topic8\", \"Topic8\", \"Topic8\", \"Topic8\", \"Topic8\", \"Topic8\", \"Topic8\", \"Topic8\", \"Topic8\", \"Topic8\", \"Topic8\", \"Topic8\", \"Topic8\", \"Topic8\", \"Topic8\", \"Topic8\", \"Topic8\", \"Topic9\", \"Topic9\", \"Topic9\", \"Topic9\", \"Topic9\", \"Topic9\", \"Topic9\", \"Topic9\", \"Topic9\", \"Topic9\", \"Topic9\", \"Topic9\", \"Topic9\", \"Topic9\", \"Topic9\", \"Topic9\", \"Topic9\", \"Topic9\", \"Topic9\", \"Topic9\", \"Topic9\", \"Topic9\", \"Topic9\", \"Topic9\", \"Topic9\", \"Topic9\", \"Topic9\", \"Topic9\", \"Topic9\", \"Topic9\", \"Topic9\", \"Topic9\", \"Topic9\", \"Topic9\", \"Topic9\", \"Topic9\", \"Topic9\", \"Topic9\", \"Topic9\", \"Topic9\", \"Topic10\", \"Topic10\", \"Topic10\", \"Topic10\", \"Topic10\", \"Topic10\", \"Topic10\", \"Topic10\", \"Topic10\", \"Topic10\", \"Topic10\", \"Topic10\", \"Topic10\", \"Topic10\", \"Topic10\", \"Topic10\", \"Topic10\", \"Topic10\", \"Topic10\", \"Topic10\", \"Topic10\", \"Topic10\", \"Topic10\", \"Topic10\", \"Topic10\", \"Topic10\", \"Topic10\", \"Topic10\", \"Topic10\", \"Topic10\", \"Topic10\", \"Topic10\"], \"logprob\": [30.0, 29.0, 28.0, 27.0, 26.0, 25.0, 24.0, 23.0, 22.0, 21.0, 20.0, 19.0, 18.0, 17.0, 16.0, 15.0, 14.0, 13.0, 12.0, 11.0, 10.0, 9.0, 8.0, 7.0, 6.0, 5.0, 4.0, 3.0, 2.0, 1.0, -3.8080999851226807, -4.003300189971924, -4.232600212097168, -4.398499965667725, -4.5040998458862305, -4.513999938964844, -4.571800231933594, -3.5834999084472656, -4.723199844360352, -4.723400115966797, -4.732600212097168, -4.771900177001953, -4.88670015335083, -4.88670015335083, -5.0295000076293945, -5.032400131225586, -5.090000152587891, -5.111599922180176, -5.122000217437744, -5.1321001052856445, -5.144800186157227, -5.237500190734863, -5.271299839019775, -5.281599998474121, -5.2758002281188965, -5.3144001960754395, -5.347099781036377, -5.3628997802734375, -5.380499839782715, -5.441100120544434, -5.359000205993652, -4.81820011138916, -4.688899993896484, -5.174699783325195, -4.208399772644043, -4.285900115966797, -5.030200004577637, -4.546999931335449, -4.717700004577637, -4.989500045776367, -5.089399814605713, -5.1057000160217285, -5.104899883270264, -4.035600185394287, -4.231599807739258, -4.348999977111816, -4.660299777984619, -4.712699890136719, -4.725500106811523, -4.875500202178955, -4.922500133514404, -4.955999851226807, -4.9567999839782715, -4.999199867248535, -5.0605998039245605, -5.127699851989746, -5.1666998863220215, -5.204699993133545, -5.223100185394287, -5.231500148773193, -5.304299831390381, -5.304900169372559, -5.341899871826172, -5.355999946594238, -5.38070011138916, -5.413599967956543, -5.413599967956543, -5.413599967956543, -5.413599967956543, -5.413599967956543, -5.413599967956543, -5.413599967956543, -5.413599967956543, -5.413599967956543, -5.413599967956543, -5.413599967956543, -5.413599967956543, -4.595900058746338, -4.580399990081787, -4.39139986038208, -4.85099983215332, -4.650899887084961, -4.676700115203857, -4.868899822235107, -4.541299819946289, -4.244100093841553, -5.088699817657471, -4.8144001960754395, -4.8445000648498535, -4.896100044250488, -5.0065999031066895, -3.529900074005127, -4.140200138092041, -4.2804999351501465, -4.38640022277832, -4.467800140380859, -4.467800140380859, -4.605100154876709, -4.637899875640869, -4.737800121307373, -4.767099857330322, -4.784900188446045, -4.796800136566162, -4.918399810791016, -5.023600101470947, -5.03879976272583, -5.044000148773193, -5.05049991607666, -5.05210018157959, -5.078100204467773, -5.080900192260742, -5.087100028991699, -5.109899997711182, -5.119999885559082, -5.153800010681152, -5.153800010681152, -5.154900074005127, -5.16540002822876, -5.178599834442139, -5.232600212097168, -5.218500137329102, -3.4321999549865723, -4.626800060272217, -4.378499984741211, -4.401400089263916, -4.931099891662598, -4.961599826812744, -4.739200115203857, -4.9375, -3.1319000720977783, -3.70740008354187, -3.902600049972534, -4.145500183105469, -4.210299968719482, -4.290999889373779, -4.3317999839782715, -4.424099922180176, -4.753399848937988, -4.8018999099731445, -4.86899995803833, -4.923699855804443, -4.965700149536133, -5.008900165557861, -5.012700080871582, -5.088699817657471, -5.147600173950195, -5.155200004577637, -5.161399841308594, -5.16379976272583, -5.163899898529053, -5.1641998291015625, -5.196899890899658, -5.277299880981445, -5.343900203704834, -5.2617998123168945, -5.368299961090088, -5.38129997253418, -5.421599864959717, -5.436600208282471, -3.0065999031066895, -4.737599849700928, -5.062600135803223, -4.760900020599365, -5.061299800872803, -5.154200077056885, -5.111100196838379, -3.3668999671936035, -3.777400016784668, -3.856300115585327, -3.983099937438965, -4.099699974060059, -4.163099765777588, -4.350299835205078, -4.218500137329102, -4.544099807739258, -4.619999885559082, -4.634900093078613, -4.683800220489502, -4.690800189971924, -4.737100124359131, -4.75629997253418, -4.768499851226807, -4.8225998878479, -4.825399875640869, -4.869200229644775, -4.869200229644775, -4.869200229644775, -4.869200229644775, -4.950900077819824, -4.999300003051758, -5.023600101470947, -5.129799842834473, -5.155700206756592, -5.215099811553955, -5.277699947357178, -5.456399917602539, -4.095300197601318, -4.617199897766113, -4.274199962615967, -3.8671000003814697, -4.277299880981445, -4.42710018157959, -3.790600061416626, -3.8055999279022217, -3.822000026702881, -3.9862000942230225, -4.036399841308594, -4.03849983215332, -4.261199951171875, -4.277900218963623, -4.417900085449219, -4.564199924468994, -4.614200115203857, -4.639400005340576, -4.640500068664551, -4.671299934387207, -4.74560022354126, -4.754799842834473, -4.756800174713135, -4.756999969482422, -4.7829999923706055, -4.7829999923706055, -4.823699951171875, -4.833899974822998, -4.878200054168701, -4.273399829864502, -4.9079999923706055, -4.9085001945495605, -4.932799816131592, -4.963399887084961, -4.965799808502197, -4.965799808502197, -4.965799808502197, -4.965799808502197, -4.965799808502197, -4.965799808502197, -3.904599905014038, -4.965799808502197, -4.965799808502197, -4.965799808502197, -4.965799808502197, -4.761600017547607, -4.539000034332275, -3.5209999084472656, -3.5924999713897705, -3.7511000633239746, -3.886399984359741, -4.31820011138916, -4.347499847412109, -4.426300048828125, -4.746799945831299, -4.764500141143799, -4.833600044250488, -4.882400035858154, -4.885700225830078, -4.977200031280518, -4.997600078582764, -5.052199840545654, -4.982500076293945, -5.125100135803223, -5.225800037384033, -5.277400016784668, -5.322199821472168, -5.3454999923706055, -5.37060022354126, -5.465199947357178, -5.5395002365112305, -5.5395002365112305, -5.540999889373779, -5.5518999099731445, -5.57450008392334, -5.600500106811523, -5.601200103759766, -4.810100078582764, -4.251399993896484, -4.9004998207092285, -5.198599815368652, -4.393700122833252, -4.486199855804443, -5.183800220489502, -5.046899795532227, -5.2606000900268555, -5.277299880981445, -3.6198999881744385, -3.8180999755859375, -3.934499979019165, -4.172100067138672, -4.380899906158447, -4.389100074768066, -4.421599864959717, -4.4583001136779785, -4.571300029754639, -4.607500076293945, -4.781799793243408, -4.8282999992370605, -4.990499973297119, -5.013299942016602, -5.07480001449585, -5.197999954223633, -5.221199989318848, -5.302299976348877, -5.347799777984619, -5.350399971008301, -5.3618998527526855, -5.413700103759766, -5.431099891662598, -5.4328999519348145, -5.466300010681152, -5.565100193023682, -5.591800212860107, -5.5995001792907715, -5.659599781036377, -5.665599822998047, -4.2540998458862305, -4.366300106048584, -4.926700115203857, -4.434599876403809, -4.578700065612793, -5.326300144195557, -4.6981000900268555, -5.2332000732421875, -4.988500118255615, -5.048600196838379, -5.281899929046631, -3.450500011444092, -3.786799907684326, -3.961899995803833, -4.211400032043457, -4.576300144195557, -3.8510000705718994, -5.117099761962891, -5.118000030517578, -5.135300159454346, -5.182400226593018, -5.202499866485596, -5.208499908447266, -5.248899936676025, -5.293799877166748, -5.323500156402588, -5.32480001449585, -5.329400062561035, -5.360599994659424, -5.414899826049805, -5.5655999183654785, -5.568399906158447, -5.612299919128418, -5.63700008392334, -5.646500110626221, -5.659999847412109, -5.725399971008301, -5.734099864959717, -5.758500099182129, -5.759200096130371, -5.788000106811523, -4.671899795532227, -3.3921000957489014, -4.077000141143799, -5.036399841308594, -4.843299865722656, -4.1230998039245605, -5.107699871063232, -5.160699844360352, -5.134900093078613, -5.434700012207031, -3.764899969100952, -3.9410998821258545, -4.134900093078613, -4.134900093078613, -4.178699970245361, -4.178699970245361, -4.178699970245361, -4.178699970245361, -4.178699970245361, -4.178699970245361, -4.178699970245361, -4.178699970245361, -4.328199863433838, -4.691400051116943, -4.712299823760986, -4.797500133514404, -4.800000190734863, -5.017300128936768, -5.104499816894531, -5.143400192260742, -3.651400089263916, -5.277900218963623, -5.414999961853027, -5.418300151824951, -5.470600128173828, -5.6020002365112305, -5.605599880218506, -4.264400005340576, -5.6519999504089355, -5.690800189971924, -4.115300178527832, -5.542600154876709], \"loglift\": [30.0, 29.0, 28.0, 27.0, 26.0, 25.0, 24.0, 23.0, 22.0, 21.0, 20.0, 19.0, 18.0, 17.0, 16.0, 15.0, 14.0, 13.0, 12.0, 11.0, 10.0, 9.0, 8.0, 7.0, 6.0, 5.0, 4.0, 3.0, 2.0, 1.0, 0.8874, 0.8863, 0.8846, 0.8832, 0.8821, 0.882, 0.8814, 0.8803, 0.8795, 0.8795, 0.8794, 0.8789, 0.8772, 0.8772, 0.8748, 0.8748, 0.8737, 0.8733, 0.8731, 0.8729, 0.8727, 0.8708, 0.8699, 0.8698, 0.8693, 0.869, 0.8682, 0.8678, 0.8674, 0.8659, 0.865, 0.8575, 0.8347, 0.8543, 0.6937, 0.5845, 0.7838, 0.5709, 0.618, 0.6457, 0.5634, 0.4981, 0.4384, 1.9592, 1.9549, 1.9519, 1.9421, 1.9401, 1.9396, 1.9333, 1.9312, 1.9296, 1.9296, 1.9274, 1.9243, 1.9206, 1.9183, 1.916, 1.9149, 1.9143, 1.9097, 1.9096, 1.9071, 1.9061, 1.9043, 1.9019, 1.9019, 1.9019, 1.9019, 1.9019, 1.9019, 1.9019, 1.9019, 1.9019, 1.9019, 1.9019, 1.9019, 1.8801, 1.8646, 1.6751, 1.7241, 1.4982, 1.3046, 1.3583, 0.996, 0.6262, 1.5338, 0.8817, 0.4911, 0.2219, 0.5973, 2.0766, 2.0634, 2.062, 2.0589, 2.0563, 2.0563, 2.0515, 2.0502, 2.0462, 2.0449, 2.0441, 2.0435, 2.0377, 2.0321, 2.0312, 2.031, 2.0306, 2.0305, 2.0289, 2.0288, 2.0284, 2.027, 2.0264, 2.0243, 2.0243, 2.0242, 2.0236, 2.0227, 2.0191, 2.0189, 1.9565, 1.997, 1.8684, 1.1522, 1.4438, 1.4234, 0.1629, 0.6057, 2.5052, 2.4943, 2.4889, 2.4807, 2.4782, 2.4748, 2.473, 2.4686, 2.4494, 2.4461, 2.4412, 2.437, 2.4336, 2.43, 2.4296, 2.4229, 2.4173, 2.4166, 2.416, 2.4157, 2.4157, 2.4156, 2.4124, 2.404, 2.3965, 2.3952, 2.3936, 2.3921, 2.3872, 2.3853, 2.36, 2.1206, 2.1649, 1.2647, 1.747, 1.7972, 1.3951, 2.6695, 2.6589, 2.6563, 2.6517, 2.647, 2.6441, 2.6348, 2.6336, 2.6232, 2.6181, 2.617, 2.6134, 2.6129, 2.6094, 2.6078, 2.6069, 2.6024, 2.6022, 2.5984, 2.5984, 2.5984, 2.5984, 2.5909, 2.5862, 2.5837, 2.5724, 2.5695, 2.5624, 2.5548, 2.5302, 2.3743, 2.3948, 2.2562, 1.8047, 1.3755, 1.5292, 2.7799, 2.7793, 2.7787, 2.7719, 2.7697, 2.7696, 2.758, 2.757, 2.7483, 2.7378, 2.7339, 2.7318, 2.7317, 2.7292, 2.7226, 2.7218, 2.7217, 2.7217, 2.7193, 2.7193, 2.7154, 2.7144, 2.7099, 2.7095, 2.7069, 2.7068, 2.7043, 2.7009, 2.7007, 2.7007, 2.7007, 2.7007, 2.7007, 2.7007, 2.6199, 2.7007, 2.7007, 2.7007, 2.7007, 2.3559, 1.851, 3.1833, 3.1803, 3.1727, 3.1653, 3.1344, 3.1319, 3.1246, 3.089, 3.0868, 3.0775, 3.0707, 3.0702, 3.0566, 3.0534, 3.0446, 3.0408, 3.0322, 3.0137, 3.0036, 2.9945, 2.9898, 2.9845, 2.9634, 2.9458, 2.9458, 2.9454, 2.9428, 2.9372, 2.9306, 2.9305, 2.9279, 2.7663, 2.7921, 2.8376, 2.546, 2.4652, 2.7609, 2.0575, 2.0339, 0.6818, 3.3031, 3.2919, 3.2842, 3.2659, 3.2461, 3.2452, 3.2418, 3.2377, 3.2245, 3.22, 3.1961, 3.1891, 3.1624, 3.1584, 3.147, 3.1227, 3.1178, 3.1, 3.0896, 3.0889, 3.0862, 3.0738, 3.0696, 3.0691, 3.0604, 3.0344, 3.027, 3.0249, 3.0076, 3.0057, 2.8937, 2.7949, 2.8302, 2.6114, 2.6547, 2.902, 1.8474, 2.6234, 1.5855, -0.1465, 1.9986, 3.5956, 3.5722, 3.5569, 3.5304, 3.4795, 3.3855, 3.3696, 3.3693, 3.3651, 3.3529, 3.3476, 3.346, 3.335, 3.3225, 3.314, 3.3134, 3.3123, 3.3032, 3.2867, 3.2375, 3.2367, 3.2214, 3.2125, 3.2092, 3.2043, 3.18, 3.1766, 3.1674, 3.1671, 3.1553, 3.0118, 2.835, 2.9222, 2.9287, 2.7097, 2.2668, 2.8103, 2.7371, 2.403, 0.1085, 3.8029, 3.7834, 3.7582, 3.7582, 3.752, 3.752, 3.752, 3.752, 3.752, 3.752, 3.752, 3.752, 3.7285, 3.6582, 3.6535, 3.6335, 3.6329, 3.5758, 3.5502, 3.5383, 3.5128, 3.4945, 3.4452, 3.4433, 3.4247, 3.3722, 3.3705, 3.3647, 3.351, 3.3342, 3.247, 0.7607]}, \"token.table\": {\"Topic\": [5, 8, 8, 2, 4, 2, 2, 2, 8, 7, 4, 2, 1, 4, 6, 1, 2, 7, 3, 4, 8, 6, 4, 9, 8, 6, 4, 10, 7, 4, 9, 8, 5, 1, 10, 1, 2, 9, 3, 4, 3, 4, 3, 2, 9, 10, 1, 1, 4, 6, 5, 7, 4, 8, 2, 7, 9, 3, 4, 9, 1, 2, 1, 9, 6, 3, 6, 2, 7, 1, 2, 5, 1, 10, 7, 1, 8, 1, 3, 8, 7, 9, 7, 9, 9, 8, 10, 3, 1, 4, 9, 4, 2, 7, 6, 7, 8, 8, 5, 4, 2, 1, 7, 2, 9, 6, 4, 5, 1, 2, 5, 7, 6, 8, 6, 7, 2, 4, 8, 4, 5, 6, 1, 5, 2, 6, 8, 4, 8, 5, 1, 7, 1, 3, 8, 8, 4, 3, 8, 7, 8, 1, 9, 3, 4, 1, 10, 2, 3, 2, 1, 3, 7, 7, 10, 3, 4, 10, 1, 6, 2, 6, 6, 1, 9, 1, 9, 2, 5, 2, 1, 5, 6, 2, 2, 6, 6, 1, 6, 3, 8, 6, 3, 6, 9, 3, 5, 1, 3, 6, 1, 2, 3, 2, 2, 4, 1, 3, 4, 6, 5, 5, 5, 2, 7, 9, 10, 1, 2, 2, 1, 4, 2, 10, 1, 6, 3, 8, 3, 8, 9, 1, 9, 1, 5, 1, 8, 10, 2, 2, 4, 9, 5, 2, 5, 7, 5, 5, 8, 7, 7, 8, 1, 10, 7, 7, 8, 1, 5, 3, 9, 2, 4, 5, 1, 4, 3, 6, 1, 4, 10, 1, 4, 7, 4, 3, 1, 2, 9, 5, 2, 1, 2, 3, 5, 6, 9, 1, 4, 6, 7, 9, 2, 7, 7, 4, 2, 9, 7, 6, 3, 8, 5, 6, 7, 10, 1, 7, 1, 2, 1, 2, 9, 1, 2, 6, 7, 5, 5, 6, 6, 10, 10, 8, 7, 2, 1, 5, 9, 3, 6, 10, 1, 5, 1, 9, 2, 9, 7, 10, 5, 2, 10, 9, 7, 4, 3, 1, 2, 3, 1, 4, 5, 8, 1, 5, 10, 2, 2, 3, 7, 6, 4, 6, 8, 10, 6, 8, 10, 4, 6, 6, 3, 6, 7, 10, 4, 8, 2, 9, 6, 7, 3, 7, 5, 3, 4, 1, 10, 7, 3, 10, 8, 4, 9, 9, 5, 9, 6, 8, 5, 4, 2, 6, 10, 10, 4, 8, 1, 6, 4, 7, 10, 10, 10, 1, 9, 1, 2, 1, 1, 2, 3, 9, 4, 1, 8, 4, 8, 1, 8, 10, 1, 2, 6, 6, 3, 6, 6, 2, 9, 4, 7, 6, 3, 8, 5, 3, 10, 2, 1, 6, 3, 9, 1, 2, 3, 9, 8, 2, 5, 6, 5, 4, 1, 9, 1, 2, 6, 2, 6, 1, 7, 3, 3, 7, 1, 2, 6, 9, 1, 2, 1, 2, 5, 7, 1, 1, 2, 3, 8], \"Freq\": [0.4810102020109617, 0.4810102020109617, 0.9480117366907226, 0.2644236573067079, 0.6610591432667698, 0.9519393908306895, 0.9754164443043473, 0.9593092414048543, 0.7542344184909261, 0.6728639558937385, 0.9033105327012715, 0.9399257330839085, 0.5031000601706647, 0.44021255264933157, 0.9419493309012115, 0.7335035111094672, 0.26261236817499445, 0.7893581921763251, 0.9350900332434238, 0.933052113703186, 0.9168854015632812, 0.8901135676742213, 0.9399634735653024, 0.5226404660946953, 0.887264480355224, 0.9318674621426318, 0.9484576345460831, 0.7727607272702326, 0.9626306771068445, 0.5608231537662246, 0.3738821025108164, 0.6832424123616403, 0.9516449776810407, 0.2693295408486905, 0.6284355953136112, 0.9762806319193414, 0.9843552820269797, 0.673764184563204, 0.9659308611278729, 0.8551836320661842, 0.9466405364119924, 0.9519059542718917, 0.9466651859989978, 0.381515723424016, 0.381515723424016, 0.8188111812445631, 0.9837874576252161, 0.2869073122369553, 0.6694503952195625, 0.8453260890426363, 0.9665165371577699, 0.7903332216181318, 0.3532522445274256, 0.6181914279229948, 0.1959104344443242, 0.5877313033329726, 0.1959104344443242, 0.8889818006292746, 0.05229304709583968, 0.46318461329306615, 0.3133469165998527, 0.6266938331997054, 0.9956846035768108, 0.4622836299858828, 0.8901135676742213, 0.9820178567732568, 0.9095755664023711, 0.21469735147591354, 0.6440920544277406, 0.9883283957337736, 0.9771484729817761, 0.9881481194275736, 0.9959980407698179, 0.7727607272702326, 0.6735244418506158, 0.9720072718345836, 0.8560701573988861, 0.8225973912008785, 0.14956316203652337, 0.02804309288184813, 0.3018334632375915, 0.4527501948563873, 0.8923005576433911, 0.9597314803489579, 0.5148103604477152, 0.8718541721188449, 0.9304565228545822, 0.9102354061940917, 0.9680746159401081, 0.8817098819255963, 0.7834376008839751, 0.9084981150307038, 0.9724649140400686, 0.9635155677082066, 0.4033857383978096, 0.3025393037983572, 0.3025393037983572, 0.8102178856801812, 0.9345528410179417, 0.9583306833721015, 0.9793044132121127, 0.9969009988445503, 0.8716219774371109, 0.5297308777549428, 0.3972981583162071, 0.8456318860950376, 0.8664286199170125, 0.9288714720223346, 0.9681261072327872, 0.7969663903347288, 0.14943119818776165, 0.04981039939592055, 0.9465913264940314, 0.6483003674890667, 0.8516841713584725, 0.8686481341174838, 0.9399257330839085, 0.3580111059114118, 0.5370166588671177, 0.9522087137578124, 0.8511390234736766, 0.9556195841782372, 0.9780781732047837, 0.8756078360913528, 0.9437798414062072, 0.9708579866036332, 0.9443511879470072, 0.9381420841998599, 0.8619265823941241, 0.9438401908280434, 0.15933229095634965, 0.7966614547817483, 0.12165573258086275, 0.8820040612112549, 0.8441793975658559, 0.81038388661342, 0.9761718184575179, 0.9831469386196332, 0.7238776870734144, 0.9710336287951572, 0.7732195198514018, 0.9859318640770768, 0.6830360948766716, 0.910027675234828, 0.8893784067957223, 0.43773394345351113, 0.5471674293168889, 0.9020746262845646, 0.04510373131422823, 0.9399257330839085, 0.36695123540431235, 0.5300406733617845, 0.08154471897873607, 0.6357109152945135, 0.7969895819381453, 0.9325898309318165, 0.9349300066055907, 0.5645649957352876, 0.3427020614400317, 0.5997286075200554, 0.1420437972730128, 0.8049148512137393, 0.881131378553837, 0.3999638705946329, 0.3999638705946329, 0.99376620613229, 0.4872475613567522, 0.9689726997903835, 0.9322066026760231, 0.9756702425473256, 0.536531889478762, 0.32191913368725716, 0.1341329723696905, 0.8909752017555, 0.9399257330839085, 0.881131378553837, 0.9142233469093326, 0.9903854579267101, 0.9430618756559169, 0.9700488911146449, 0.7755144740992855, 0.860573651140218, 0.9316725496958174, 0.6522088520469319, 0.26088354081877274, 0.9467608358068613, 0.838957629633586, 0.9932450005419807, 0.9087280548938712, 0.8901135676742213, 0.7783033525081289, 0.21403342193973543, 0.9031294227336583, 0.9123272366308727, 0.13387031540697328, 0.8478453309108308, 0.2882629536947475, 0.49416506347671, 0.16472168782557, 0.8995012930522084, 0.9423119457071848, 0.9460398314415996, 0.9825825764170345, 0.9695168198796572, 0.925038025808816, 0.7073601361681737, 0.448271289007629, 0.9705139275061924, 0.9399257330839085, 0.9399257330839085, 0.9074101825762179, 0.09306771103345823, 0.9399257330839085, 0.7727607272702326, 0.9737528113270268, 0.888136999070606, 0.948035867283138, 0.642584348628013, 0.3805581958028015, 0.1522232783211206, 0.45666983496336183, 0.973156457503403, 0.5120453027612427, 0.5852826136943751, 0.4036431818581897, 0.7960147513147102, 0.14925276587150815, 0.8766597800959851, 0.961980446685415, 0.9454864577291632, 0.9579608540369011, 0.4914083234910518, 0.9576155042066683, 0.9512251707545059, 0.9694725170279299, 0.7925927724383812, 0.9756748263710203, 0.8511165822998186, 0.768920610742275, 0.9472857466123845, 0.8478289901548391, 0.9167426000895236, 0.9695834393120312, 0.7727607272702326, 0.8526487613256174, 0.6908622546040857, 0.6413439984648562, 0.23129929127502138, 0.7709976375834047, 0.9618585970519019, 0.7210767418545837, 0.9399257330839085, 0.9533929493862778, 0.9199113953225583, 0.6508367870339407, 0.32541839351697033, 0.7891516448682245, 0.17935264656096014, 0.9886053183308567, 0.9498836279221312, 0.7727607272702326, 0.4302917663487002, 0.07171529439145004, 0.5020070607401502, 0.959995861862049, 0.9623544675528586, 0.23961555776917196, 0.7487986180286624, 0.4842547746708017, 0.9166296366886394, 0.9809982844239297, 0.719206129745259, 0.17400148300288523, 0.011600098866859015, 0.04640039546743606, 0.03480029660057705, 0.8726050389926523, 0.690029590577209, 0.2875123294071704, 0.9710404066230257, 0.6728639558937385, 0.5228505153928661, 0.9213154481192825, 0.8566957993114067, 0.8227556837920703, 0.9445545277908077, 0.9399257330839085, 0.7669995474644972, 0.9176684879522925, 0.8643020357458956, 0.9102354061940917, 0.7375944961928473, 0.851143273615411, 0.8901135676742213, 0.2857796638411737, 0.5715593276823474, 0.9146315514513064, 0.08070278395158585, 0.4675580206943842, 0.5225648466584294, 0.3578260911946821, 0.6180632484271782, 0.8352996386267759, 0.617470064809821, 0.37048203888589265, 0.8842599719641863, 0.9582687492196683, 0.8511390234736766, 0.9224100638909227, 0.9226716684501727, 0.8901135676742213, 0.49009672681157446, 0.7727607272702326, 0.9289067590513848, 0.8786016483096293, 0.9434496597854719, 0.7129407797483625, 0.2772547476799187, 0.7867037526939217, 0.9405929329460919, 0.8833348710367641, 0.8812512544251287, 0.9970285133985566, 0.8870190958426084, 0.9797056455237896, 0.89588768849646, 0.5275545281078758, 0.45721392436015906, 0.7047610123756957, 0.9408231136869589, 0.8171986194613233, 0.9399257330839085, 0.9433012513139328, 0.9572516232013034, 0.7269910289352635, 0.8254113632474999, 0.9867566765992901, 0.48420506613614805, 0.1255346467760384, 0.39453746129612066, 0.9724943922865549, 0.020260299839303227, 0.2601573457640546, 0.5203146915281092, 0.9816862512296655, 0.8819649938819503, 0.8955905239558251, 0.9117309374151984, 0.9399257330839085, 0.3101401590980478, 0.6202803181960956, 0.9569915544364901, 0.8405831544380364, 0.8901135676742213, 0.8070194607885747, 0.6372569370862278, 0.3588009260948171, 0.5382013891422257, 0.9304565228545822, 0.9434922547759543, 0.8901135676742213, 0.9601245695993876, 0.9740313297949261, 0.8901135676742213, 0.8611621606007244, 0.4894130601097961, 0.9643298992048063, 0.9353075161311379, 0.9440398661730677, 0.8042895137788706, 0.30455728204414856, 0.6091145640882971, 0.9202459048664737, 0.9124377644373382, 0.8771040034641272, 0.9726527206930421, 0.8160456706715341, 0.9487602869052963, 0.03795041147621185, 0.8860028930154282, 0.963014689485794, 0.7494226488401231, 0.842828270773128, 0.8740649932927409, 0.47665240154564, 0.8758466875277992, 0.9537100607381519, 0.7425670651630407, 0.32477796527648706, 0.6495559305529741, 0.9004676754713901, 0.9520156470813029, 0.8745482413612425, 0.08745482413612425, 0.577115567468532, 0.5495686266070474, 0.478607980737267, 0.478607980737267, 0.9729243390050143, 0.8588772426838507, 0.5079344127468493, 0.43537235378301364, 0.6384507523983141, 0.5068972952078107, 0.5485264078930505, 0.9858124903298028, 0.6741494346549793, 0.988999789762204, 0.006030486522940268, 0.9881410749065697, 0.9520600074697548, 0.02885030325665924, 0.9608892934872404, 0.7178599303993485, 0.948327295880648, 0.7252985652042515, 0.24176618840141714, 0.9452228606572409, 0.6841474350229543, 0.9695286261002358, 0.6743187803102457, 0.7727607272702326, 0.6788489950552631, 0.24513991488106723, 0.05657074958793859, 0.8604224560896946, 0.9112371636865398, 0.9272556696005763, 0.9412321790899836, 0.9202653103618965, 0.7839826695084707, 0.6135588280000724, 0.3067794140000362, 0.8901135676742213, 0.9664972015778174, 0.8556310401137235, 0.9228593957167455, 0.9477237889692168, 0.7727607272702326, 0.9399257330839085, 0.9760722441125936, 0.8901135676742213, 0.9798457792801925, 0.5318481414290429, 0.6389402245278621, 0.10649003742131036, 0.2307284144128391, 0.03549667914043678, 0.7012483038416647, 0.23814944347011177, 0.666818441716313, 0.09525977738804471, 0.8288641565120402, 0.9942435920632097, 0.19300023298629454, 0.7720009319451782, 0.5996693778979221, 0.33085207056437077, 0.06203476323081952, 0.07488613950697665, 0.8986336740837199, 0.9893891705105943, 0.6791768278833196, 0.9804315586764908, 0.5919295483899497, 0.3382454562228284, 0.16556015843547608, 0.2069501980443451, 0.37251035647982117, 0.2483402376532141, 0.9398267942511399, 0.052212599680618886, 0.9794881595292503, 0.22410884586948873, 0.717148306782364, 0.7044063727510705, 0.9737514840432805, 0.7643337430478339, 0.23074226205217627, 0.014421391378261017, 0.871338427099], \"Term\": [\"accord\", \"accord\", \"act\", \"adapt\", \"adapt\", \"address\", \"africa\", \"ago\", \"agreement\", \"ahtisaari\", \"al\", \"alf\", \"algorithm\", \"algorithm\", \"alreadi\", \"also\", \"also\", \"alway\", \"among\", \"appli\", \"approach\", \"asleep\", \"assess\", \"asset\", \"associ\", \"august\", \"avail\", \"averag\", \"away\", \"bag\", \"bag\", \"balanc\", \"bank\", \"bear\", \"bear\", \"becom\", \"begin\", \"benefici\", \"biodivers\", \"bit\", \"bitcoin\", \"block\", \"blockchain\", \"bottl\", \"bottl\", \"bottom\", \"busi\", \"buy\", \"buy\", \"calendar\", \"campaign\", \"capabl\", \"carbon_footprint\", \"carbon_footprint\", \"case\", \"case\", \"case\", \"caus\", \"caus\", \"cent\", \"challeng\", \"challeng\", \"chang\", \"chemic\", \"chew\", \"choic\", \"choos\", \"claim\", \"claim\", \"clean\", \"clear\", \"climat\", \"climat_chang\", \"cockroach\", \"cocktail\", \"come\", \"commit\", \"compani\", \"compani\", \"compani\", \"comput\", \"comput\", \"connect\", \"consid\", \"consider\", \"convers\", \"coral\", \"countdown\", \"countri\", \"cours\", \"crack\", \"crazi\", \"creatur\", \"credit\", \"cultur\", \"cultur\", \"cultur\", \"custom\", \"cute\", \"dataset\", \"datum\", \"day\", \"decad\", \"decid\", \"decid\", \"dedic\", \"despit\", \"destruct\", \"develop\", \"differ\", \"differ\", \"differ\", \"dinosaur\", \"disrupt\", \"donat\", \"drastic\", \"driftwood\", \"drive\", \"drive\", \"dump\", \"dystopian\", \"earli\", \"earth\", \"easi\", \"eat\", \"ecolog\", \"economi\", \"effect\", \"effici\", \"electr\", \"element\", \"element\", \"emiss\", \"emiss\", \"enabl\", \"encourag\", \"end\", \"energi\", \"engag\", \"entir\", \"entiti\", \"environment\", \"equal\", \"establish\", \"et\", \"europ\", \"europ\", \"everi\", \"everi\", \"exactli\", \"exampl\", \"exampl\", \"exampl\", \"expert\", \"explor\", \"expos\", \"extinct\", \"fair\", \"fall\", \"fall\", \"fashion\", \"fashion\", \"fauna\", \"femal\", \"femal\", \"fight\", \"fiji\", \"final\", \"financ\", \"find\", \"first\", \"first\", \"first\", \"fli\", \"float\", \"flora\", \"flower\", \"food\", \"footprint\", \"form\", \"fortun\", \"forward\", \"fossil\", \"free\", \"free\", \"fuel\", \"fund\", \"futur\", \"ga\", \"garbag\", \"get\", \"get\", \"ghg\", \"give\", \"go\", \"go\", \"good\", \"good\", \"good\", \"ground\", \"group\", \"habitat\", \"hand\", \"handl\", \"happen\", \"happi\", \"hear\", \"help\", \"hibern\", \"hitch\", \"human\", \"human\", \"humour\", \"iggi\", \"impact\", \"improv\", \"includ\", \"inclus\", \"increas\", \"increas\", \"increas\", \"incred\", \"india\", \"individu\", \"individu\", \"industri\", \"industri\", \"influenc\", \"initi\", \"innov\", \"inspir\", \"instal\", \"integr\", \"intellig\", \"intens\", \"interact\", \"invest\", \"investig\", \"isol\", \"iva\", \"job\", \"key\", \"know\", \"koala\", \"landfil\", \"languag\", \"later\", \"launch\", \"launch\", \"lca\", \"leadership\", \"legend\", \"lemur\", \"level\", \"life\", \"life\", \"life_cycl\", \"life_cycl\", \"like\", \"limit\", \"lion\", \"live\", \"live\", \"live\", \"local\", \"long\", \"look\", \"look\", \"lower\", \"machin\", \"madagascar\", \"make\", \"make\", \"make\", \"make\", \"make\", \"man\", \"manag\", \"manag\", \"mark\", \"marko\", \"mask\", \"materi\", \"minkova\", \"mission\", \"mitig\", \"mode\", \"momentum\", \"month\", \"morn\", \"mothership\", \"motiv\", \"movethed\", \"mud\", \"music\", \"music\", \"natur\", \"natur\", \"need\", \"need\", \"new\", \"new\", \"old\", \"one\", \"one\", \"open\", \"oper\", \"oppos\", \"organis\", \"overnight\", \"overshoot\", \"page\", \"panda\", \"pari\", \"parti\", \"past\", \"peopl\", \"peopl\", \"perfect\", \"phase\", \"pick\", \"piec\", \"plan\", \"plana\", \"planet\", \"planetwid\", \"plastic\", \"plastic\", \"playlist\", \"polar\", \"polici\", \"pollin\", \"pop\", \"posit\", \"present\", \"prioriti\", \"process\", \"product\", \"product\", \"product\", \"project\", \"project\", \"promot\", \"promot\", \"provid\", \"public\", \"purchas\", \"question\", \"quirki\", \"read\", \"read\", \"realiti\", \"reason\", \"rebuild\", \"recogn\", \"record\", \"reduct\", \"reduct\", \"reef\", \"region\", \"regrow\", \"remind\", \"renew\", \"replant\", \"repres\", \"republ\", \"requir\", \"result\", \"rise\", \"river\", \"room\", \"room\", \"rule\", \"scenario\", \"scientist\", \"scope\", \"second\", \"see\", \"see\", \"select\", \"serv\", \"shift\", \"short\", \"sing\", \"singl\", \"site\", \"sloth\", \"smart\", \"softwar\", \"softwar\", \"solar\", \"solid\", \"solut\", \"solut\", \"song\", \"soon\", \"stakehold\", \"stakehold\", \"start\", \"step\", \"still\", \"still\", \"stop\", \"street\", \"style\", \"support\", \"surpris\", \"sustain\", \"sustain\", \"system\", \"take\", \"take\", \"takeoff\", \"tap\", \"team\", \"technolog\", \"technolog\", \"tell\", \"test\", \"think\", \"third\", \"tiger\", \"time\", \"time\", \"time\", \"tomorrow\", \"tonn\", \"tool\", \"top\", \"topic\", \"tote\", \"tradit\", \"tradit\", \"trampl\", \"transact\", \"transit\", \"turn\", \"two\", \"uncommon\", \"undef\", \"understand\", \"unexpectedli\", \"unit\", \"untouch\", \"use\", \"use\", \"use\", \"use\", \"valid\", \"want\", \"want\", \"want\", \"warm\", \"wast\", \"water\", \"water\", \"way\", \"way\", \"way\", \"welcom\", \"welcom\", \"well\", \"white\", \"within\", \"without\", \"without\", \"woman\", \"woman\", \"woman\", \"woman\", \"work\", \"work\", \"world\", \"would\", \"would\", \"wzorek\", \"ye\", \"year\", \"year\", \"year\", \"zero\"]}, \"R\": 30, \"lambda.step\": 0.01, \"plot.opts\": {\"xlab\": \"PC1\", \"ylab\": \"PC2\"}, \"topic.order\": [10, 1, 3, 8, 2, 9, 5, 4, 6, 7]};\n",
       "\n",
       "function LDAvis_load_lib(url, callback){\n",
       "  var s = document.createElement('script');\n",
       "  s.src = url;\n",
       "  s.async = true;\n",
       "  s.onreadystatechange = s.onload = callback;\n",
       "  s.onerror = function(){console.warn(\"failed to load library \" + url);};\n",
       "  document.getElementsByTagName(\"head\")[0].appendChild(s);\n",
       "}\n",
       "\n",
       "if(typeof(LDAvis) !== \"undefined\"){\n",
       "   // already loaded: just create the visualization\n",
       "   !function(LDAvis){\n",
       "       new LDAvis(\"#\" + \"ldavis_el26961407093892305927815095816\", ldavis_el26961407093892305927815095816_data);\n",
       "   }(LDAvis);\n",
       "}else if(typeof define === \"function\" && define.amd){\n",
       "   // require.js is available: use it to load d3/LDAvis\n",
       "   require.config({paths: {d3: \"https://cdnjs.cloudflare.com/ajax/libs/d3/3.5.5/d3.min\"}});\n",
       "   require([\"d3\"], function(d3){\n",
       "      window.d3 = d3;\n",
       "      LDAvis_load_lib(\"https://cdn.rawgit.com/bmabey/pyLDAvis/files/ldavis.v1.0.0.js\", function(){\n",
       "        new LDAvis(\"#\" + \"ldavis_el26961407093892305927815095816\", ldavis_el26961407093892305927815095816_data);\n",
       "      });\n",
       "    });\n",
       "}else{\n",
       "    // require.js not available: dynamically load d3 & LDAvis\n",
       "    LDAvis_load_lib(\"https://cdnjs.cloudflare.com/ajax/libs/d3/3.5.5/d3.min.js\", function(){\n",
       "         LDAvis_load_lib(\"https://cdn.rawgit.com/bmabey/pyLDAvis/files/ldavis.v1.0.0.js\", function(){\n",
       "                 new LDAvis(\"#\" + \"ldavis_el26961407093892305927815095816\", ldavis_el26961407093892305927815095816_data);\n",
       "            })\n",
       "         });\n",
       "}\n",
       "</script>"
      ],
      "text/plain": [
       "<IPython.core.display.HTML object>"
      ]
     },
     "execution_count": 32,
     "metadata": {},
     "output_type": "execute_result"
    }
   ],
   "source": [
    "# Visualize the topics\n",
    "\n",
    "pyLDAvis.enable_notebook(sort=True)\n",
    "vis = pyLDAvis.gensim.prepare(lda_model, success_corpus, success_id2word)\n",
    "pyLDAvis.display(vis)"
   ]
  },
  {
   "cell_type": "code",
   "execution_count": null,
   "metadata": {},
   "outputs": [],
   "source": [
    "lda_model2 = gensim.models.ldamodel.LdaModel(corpus=academy_corpus,\n",
    "                                           id2word=academy_id2word,\n",
    "                                           num_topics=10,\n",
    "                                           random_state=42,\n",
    "                                           update_every=1,\n",
    "                                           chunksize=100,\n",
    "                                           passes=10,\n",
    "                                           alpha='auto',\n",
    "                                           per_word_topics=True)"
   ]
  },
  {
   "cell_type": "code",
   "execution_count": null,
   "metadata": {},
   "outputs": [],
   "source": [
    "pyLDAvis.enable_notebook(sort=True)\n",
    "vis2 = pyLDAvis.gensim.prepare(lda_model2, academy_corpus, academy_id2word)\n",
    "pyLDAvis.display(vis2)"
   ]
  }
 ],
 "metadata": {
  "kernelspec": {
   "display_name": "Python 3",
   "language": "python",
   "name": "python3"
  },
  "language_info": {
   "codemirror_mode": {
    "name": "ipython",
    "version": 3
   },
   "file_extension": ".py",
   "mimetype": "text/x-python",
   "name": "python",
   "nbconvert_exporter": "python",
   "pygments_lexer": "ipython3",
   "version": "3.8.5"
  }
 },
 "nbformat": 4,
 "nbformat_minor": 4
}

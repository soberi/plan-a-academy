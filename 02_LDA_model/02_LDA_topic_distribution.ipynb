{
 "cells": [
  {
   "cell_type": "markdown",
   "metadata": {},
   "source": [
    "# Getting the topic distribution for each article\n",
    "\n",
    "- Start with smaller success_urls df with goal13 completions\n",
    "- Run LDA on it\n",
    "- Get topic names printed\n",
    "- Get topic distributions per html element\n",
    "\n",
    "## 1. importing test data"
   ]
  },
  {
   "cell_type": "code",
   "execution_count": null,
   "metadata": {},
   "outputs": [],
   "source": [
    "import pickle\n",
    "import pandas as pd\n"
   ]
  },
  {
   "cell_type": "code",
   "execution_count": null,
   "metadata": {},
   "outputs": [],
   "source": [
    "with open('../04_Data/success_g13_corpus.pkl', 'rb') as file:\n",
    "    success_corpus = pickle.load(file)"
   ]
  },
  {
   "cell_type": "code",
   "execution_count": null,
   "metadata": {},
   "outputs": [],
   "source": [
    "with open('../04_Data/success_g13_id2word.pkl', 'rb') as file:\n",
    "    success_id2word = pickle.load(file)"
   ]
  },
  {
   "cell_type": "code",
   "execution_count": null,
   "metadata": {},
   "outputs": [],
   "source": [
    "with open('../04_Data/success_g13_train_bigram.pkl', 'rb') as file:\n",
    "    success_bigram = pickle.load(file)"
   ]
  },
  {
   "cell_type": "markdown",
   "metadata": {},
   "source": [
    "## 2. running the model "
   ]
  },
  {
   "cell_type": "code",
   "execution_count": null,
   "metadata": {},
   "outputs": [],
   "source": [
    "import gensim\n"
   ]
  },
  {
   "cell_type": "code",
   "execution_count": null,
   "metadata": {},
   "outputs": [],
   "source": [
    "lda_model = gensim.models.ldamodel.LdaModel(corpus=success_corpus,\n",
    "                                           id2word=success_id2word,\n",
    "                                           num_topics=10,\n",
    "                                           random_state=42,\n",
    "                                           update_every=1,\n",
    "                                           chunksize=100,\n",
    "                                           passes=10,\n",
    "                                           alpha='auto',\n",
    "                                           per_word_topics=True)"
   ]
  },
  {
   "cell_type": "code",
   "execution_count": 22,
   "metadata": {},
   "outputs": [
    {
     "data": {
      "text/plain": [
       "[(0,\n",
       "  '0.018*\"find\" + 0.015*\"datum\" + 0.014*\"also\" + 0.013*\"begin\" + 0.012*\"look\" + 0.011*\"one\" + 0.010*\"solut\" + 0.010*\"everi\" + 0.010*\"new\" + 0.009*\"creatur\"'),\n",
       " (1,\n",
       "  '0.034*\"climat\" + 0.023*\"sloth\" + 0.021*\"hand\" + 0.021*\"individu\" + 0.019*\"bank\" + 0.017*\"would\" + 0.017*\"habitat\" + 0.016*\"group\" + 0.015*\"level\" + 0.014*\"want\"'),\n",
       " (2,\n",
       "  '0.032*\"emiss\" + 0.029*\"energi\" + 0.016*\"lca\" + 0.014*\"process\" + 0.013*\"life_cycl\" + 0.012*\"long\" + 0.012*\"product\" + 0.011*\"bitcoin\" + 0.011*\"blockchain\" + 0.010*\"scope\"'),\n",
       " (3,\n",
       "  '0.027*\"approach\" + 0.022*\"result\" + 0.020*\"act\" + 0.015*\"economi\" + 0.014*\"carbon_footprint\" + 0.013*\"drive\" + 0.013*\"transit\" + 0.012*\"effici\" + 0.012*\"associ\" + 0.012*\"stakehold\"'),\n",
       " (4,\n",
       "  '0.030*\"credit\" + 0.028*\"entir\" + 0.023*\"month\" + 0.021*\"away\" + 0.014*\"read\" + 0.013*\"oper\" + 0.013*\"repres\" + 0.012*\"live\" + 0.012*\"happen\" + 0.011*\"still\"'),\n",
       " (5,\n",
       "  '0.034*\"plastic\" + 0.032*\"posit\" + 0.023*\"man\" + 0.021*\"water\" + 0.019*\"planetwid\" + 0.017*\"increas\" + 0.016*\"woman\" + 0.015*\"consid\" + 0.010*\"site\" + 0.009*\"comput\"'),\n",
       " (6,\n",
       "  '0.026*\"bear\" + 0.023*\"polar\" + 0.019*\"pop\" + 0.016*\"europ\" + 0.016*\"reef\" + 0.016*\"coral\" + 0.015*\"panda\" + 0.015*\"averag\" + 0.015*\"tiger\" + 0.015*\"cockroach\"'),\n",
       " (7,\n",
       "  '0.049*\"go\" + 0.044*\"wast\" + 0.025*\"local\" + 0.020*\"lemur\" + 0.016*\"region\" + 0.015*\"team\" + 0.014*\"requir\" + 0.013*\"assess\" + 0.012*\"inspir\" + 0.009*\"adapt\"'),\n",
       " (8,\n",
       "  '0.023*\"alreadi\" + 0.022*\"earli\" + 0.022*\"ecolog\" + 0.020*\"fashion\" + 0.019*\"realiti\" + 0.018*\"top\" + 0.018*\"footprint\" + 0.014*\"august\" + 0.014*\"welcom\" + 0.014*\"dinosaur\"'),\n",
       " (9,\n",
       "  '0.028*\"sustain\" + 0.022*\"climat_chang\" + 0.018*\"plan\" + 0.015*\"compani\" + 0.015*\"day\" + 0.014*\"also\" + 0.012*\"busi\" + 0.011*\"environment\" + 0.011*\"chang\" + 0.011*\"make\"')]"
      ]
     },
     "execution_count": 22,
     "metadata": {},
     "output_type": "execute_result"
    }
   ],
   "source": [
    "lda_model.print_topics()"
   ]
  },
  {
   "cell_type": "markdown",
   "metadata": {},
   "source": [
    "## 3. Topic titles and distributions"
   ]
  },
  {
   "cell_type": "code",
   "execution_count": null,
   "metadata": {},
   "outputs": [],
   "source": [
    "with open('../04_Data/success_g13.pkl', 'rb') as file:\n",
    "    success_g13 = pickle.load(file)\n",
    "    \n",
    "success_g13.head(10)"
   ]
  },
  {
   "cell_type": "code",
   "execution_count": null,
   "metadata": {},
   "outputs": [],
   "source": [
    "# displays the 10 topics and their top 10 words and weights\n",
    "\n",
    "model_topics = lda_model.show_topics(formatted=False)\n",
    "model_topics\n"
   ]
  },
  {
   "cell_type": "code",
   "execution_count": null,
   "metadata": {},
   "outputs": [],
   "source": [
    "topic_titles = []\n",
    "\n",
    "for i in model_topics:\n",
    "    index, word_list = i\n",
    "    word, prob = word_list[0]\n",
    "    word1, prob1 = word_list[1]\n",
    "    topic_title = f'{word}_{word1}'\n",
    "    topic_titles.append(topic_title)\n",
    "    "
   ]
  },
  {
   "cell_type": "code",
   "execution_count": null,
   "metadata": {},
   "outputs": [],
   "source": [
    "topic_titles"
   ]
  },
  {
   "cell_type": "code",
   "execution_count": null,
   "metadata": {},
   "outputs": [],
   "source": [
    "topic_dist = []\n",
    "\n",
    "for i in range(len(success_g13)):\n",
    "    top_topics = lda_model.get_document_topics(success_corpus[i], minimum_probability=0.0)\n",
    "    topic_vec = [top_topics[i][1] for i in range(10)]\n",
    "    topic_vec.extend([success_g13.index[i]]) \n",
    "    topic_dist.append(topic_vec)\n",
    "    "
   ]
  },
  {
   "cell_type": "code",
   "execution_count": null,
   "metadata": {},
   "outputs": [],
   "source": [
    "topic_dist"
   ]
  },
  {
   "cell_type": "markdown",
   "metadata": {},
   "source": [
    "## 4. One-hot encoding topics to df"
   ]
  },
  {
   "cell_type": "code",
   "execution_count": null,
   "metadata": {},
   "outputs": [],
   "source": [
    "# this can probably be part of the for loop that creates topic_dist to avoid this code repetition\n",
    "\n",
    "top_0 = [topic[0] for topic in topic_dist]\n",
    "top_1 = [topic[1] for topic in topic_dist]\n",
    "top_2 = [topic[2] for topic in topic_dist]\n",
    "top_3 = [topic[3] for topic in topic_dist]\n",
    "top_4 = [topic[4] for topic in topic_dist]\n",
    "top_5 = [topic[5] for topic in topic_dist]\n",
    "top_6 = [topic[6] for topic in topic_dist]\n",
    "top_7 = [topic[7] for topic in topic_dist]\n",
    "top_8 = [topic[8] for topic in topic_dist]\n",
    "top_9 = [topic[9] for topic in topic_dist]\n"
   ]
  },
  {
   "cell_type": "code",
   "execution_count": null,
   "metadata": {},
   "outputs": [],
   "source": [
    "topic_titles"
   ]
  },
  {
   "cell_type": "code",
   "execution_count": null,
   "metadata": {},
   "outputs": [],
   "source": [
    "success_g13 = success_g13.assign(find_datum=top_0, climat_sloth=top_1, emiss_energi=top_2, \n",
    "                                   approach_result=top_3, credit_entir=top_4, plastic_posit=top_5, \n",
    "                                   bear_polar=top_6, go_wast=top_7, alreadi_earli=top_8, \n",
    "                                   sustain_climat_chang=top_9)\n"
   ]
  },
  {
   "cell_type": "code",
   "execution_count": 23,
   "metadata": {},
   "outputs": [
    {
     "data": {
      "text/html": [
       "<div>\n",
       "<style scoped>\n",
       "    .dataframe tbody tr th:only-of-type {\n",
       "        vertical-align: middle;\n",
       "    }\n",
       "\n",
       "    .dataframe tbody tr th {\n",
       "        vertical-align: top;\n",
       "    }\n",
       "\n",
       "    .dataframe thead th {\n",
       "        text-align: right;\n",
       "    }\n",
       "</style>\n",
       "<table border=\"1\" class=\"dataframe\">\n",
       "  <thead>\n",
       "    <tr style=\"text-align: right;\">\n",
       "      <th></th>\n",
       "      <th>url</th>\n",
       "      <th>content</th>\n",
       "      <th>target_g13</th>\n",
       "      <th>find_datum</th>\n",
       "      <th>climat_sloth</th>\n",
       "      <th>emiss_energi</th>\n",
       "      <th>approach_result</th>\n",
       "      <th>credit_entir</th>\n",
       "      <th>plastic_posit</th>\n",
       "      <th>bear_polar</th>\n",
       "      <th>go_wast</th>\n",
       "      <th>alreadi_earli</th>\n",
       "      <th>sustain_climat_chang</th>\n",
       "    </tr>\n",
       "  </thead>\n",
       "  <tbody>\n",
       "    <tr>\n",
       "      <th>134</th>\n",
       "      <td>https://plana.earth/academy/why-president-of-e...</td>\n",
       "      <td>This Tuesday 1st December, the annual Digital ...</td>\n",
       "      <td>1.0</td>\n",
       "      <td>0.012890</td>\n",
       "      <td>0.007099</td>\n",
       "      <td>0.010526</td>\n",
       "      <td>0.103633</td>\n",
       "      <td>0.004172</td>\n",
       "      <td>0.002692</td>\n",
       "      <td>0.001743</td>\n",
       "      <td>0.008558</td>\n",
       "      <td>0.382059</td>\n",
       "      <td>0.466629</td>\n",
       "    </tr>\n",
       "    <tr>\n",
       "      <th>135</th>\n",
       "      <td>https://plana.earth/academy/why-president-of-e...</td>\n",
       "      <td>BREAKING: “Plan a is using scientific models t...</td>\n",
       "      <td>1.0</td>\n",
       "      <td>0.019767</td>\n",
       "      <td>0.010847</td>\n",
       "      <td>0.016415</td>\n",
       "      <td>0.005900</td>\n",
       "      <td>0.006402</td>\n",
       "      <td>0.004131</td>\n",
       "      <td>0.002674</td>\n",
       "      <td>0.012825</td>\n",
       "      <td>0.013341</td>\n",
       "      <td>0.907698</td>\n",
       "    </tr>\n",
       "    <tr>\n",
       "      <th>136</th>\n",
       "      <td>https://plana.earth/academy/why-president-of-e...</td>\n",
       "      <td>BREAKING: “Plan a is using scientific models t...</td>\n",
       "      <td>1.0</td>\n",
       "      <td>0.022347</td>\n",
       "      <td>0.012253</td>\n",
       "      <td>0.018589</td>\n",
       "      <td>0.006665</td>\n",
       "      <td>0.007231</td>\n",
       "      <td>0.004666</td>\n",
       "      <td>0.003021</td>\n",
       "      <td>0.014487</td>\n",
       "      <td>0.015070</td>\n",
       "      <td>0.895670</td>\n",
       "    </tr>\n",
       "    <tr>\n",
       "      <th>137</th>\n",
       "      <td>https://plana.earth/academy/why-president-of-e...</td>\n",
       "      <td>What is digital sustainability?</td>\n",
       "      <td>1.0</td>\n",
       "      <td>0.083676</td>\n",
       "      <td>0.046089</td>\n",
       "      <td>0.068636</td>\n",
       "      <td>0.025074</td>\n",
       "      <td>0.027208</td>\n",
       "      <td>0.017556</td>\n",
       "      <td>0.011366</td>\n",
       "      <td>0.054507</td>\n",
       "      <td>0.056702</td>\n",
       "      <td>0.609185</td>\n",
       "    </tr>\n",
       "    <tr>\n",
       "      <th>138</th>\n",
       "      <td>https://plana.earth/academy/why-president-of-e...</td>\n",
       "      <td>Digitization is an inherent part of our daily ...</td>\n",
       "      <td>1.0</td>\n",
       "      <td>0.019991</td>\n",
       "      <td>0.010071</td>\n",
       "      <td>0.015119</td>\n",
       "      <td>0.005485</td>\n",
       "      <td>0.005945</td>\n",
       "      <td>0.003836</td>\n",
       "      <td>0.002484</td>\n",
       "      <td>0.012075</td>\n",
       "      <td>0.012446</td>\n",
       "      <td>0.912549</td>\n",
       "    </tr>\n",
       "  </tbody>\n",
       "</table>\n",
       "</div>"
      ],
      "text/plain": [
       "                                                   url  \\\n",
       "134  https://plana.earth/academy/why-president-of-e...   \n",
       "135  https://plana.earth/academy/why-president-of-e...   \n",
       "136  https://plana.earth/academy/why-president-of-e...   \n",
       "137  https://plana.earth/academy/why-president-of-e...   \n",
       "138  https://plana.earth/academy/why-president-of-e...   \n",
       "\n",
       "                                               content  target_g13  \\\n",
       "134  This Tuesday 1st December, the annual Digital ...         1.0   \n",
       "135  BREAKING: “Plan a is using scientific models t...         1.0   \n",
       "136  BREAKING: “Plan a is using scientific models t...         1.0   \n",
       "137                    What is digital sustainability?         1.0   \n",
       "138  Digitization is an inherent part of our daily ...         1.0   \n",
       "\n",
       "     find_datum  climat_sloth  emiss_energi  approach_result  credit_entir  \\\n",
       "134    0.012890      0.007099      0.010526         0.103633      0.004172   \n",
       "135    0.019767      0.010847      0.016415         0.005900      0.006402   \n",
       "136    0.022347      0.012253      0.018589         0.006665      0.007231   \n",
       "137    0.083676      0.046089      0.068636         0.025074      0.027208   \n",
       "138    0.019991      0.010071      0.015119         0.005485      0.005945   \n",
       "\n",
       "     plastic_posit  bear_polar   go_wast  alreadi_earli  sustain_climat_chang  \n",
       "134       0.002692    0.001743  0.008558       0.382059              0.466629  \n",
       "135       0.004131    0.002674  0.012825       0.013341              0.907698  \n",
       "136       0.004666    0.003021  0.014487       0.015070              0.895670  \n",
       "137       0.017556    0.011366  0.054507       0.056702              0.609185  \n",
       "138       0.003836    0.002484  0.012075       0.012446              0.912549  "
      ]
     },
     "execution_count": 23,
     "metadata": {},
     "output_type": "execute_result"
    }
   ],
   "source": [
    "success_g13.head()\n"
   ]
  }
 ],
 "metadata": {
  "kernelspec": {
   "display_name": "Python 3",
   "language": "python",
   "name": "python3"
  },
  "language_info": {
   "codemirror_mode": {
    "name": "ipython",
    "version": 3
   },
   "file_extension": ".py",
   "mimetype": "text/x-python",
   "name": "python",
   "nbconvert_exporter": "python",
   "pygments_lexer": "ipython3",
   "version": "3.8.5"
  }
 },
 "nbformat": 4,
 "nbformat_minor": 4
}

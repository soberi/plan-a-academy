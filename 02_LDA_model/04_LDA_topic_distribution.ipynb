{
 "cells": [
  {
   "cell_type": "markdown",
   "metadata": {},
   "source": [
    "# Getting the topic distribution for each article\n",
    "\n",
    "- Start with smaller success_urls df with goal13 completions\n",
    "- Run LDA on it\n",
    "- Get topic names printed\n",
    "- Get topic distributions per html element\n",
    "- Run same process on complete academy df"
   ]
  },
  {
   "cell_type": "markdown",
   "metadata": {},
   "source": [
    "## 1. Importing test data"
   ]
  },
  {
   "cell_type": "code",
   "execution_count": null,
   "metadata": {},
   "outputs": [],
   "source": [
    "import pickle\n",
    "import pandas as pd"
   ]
  },
  {
   "cell_type": "code",
   "execution_count": null,
   "metadata": {},
   "outputs": [],
   "source": [
    "with open('../02_LDA_model/pkl_cellar/success_urls.pkl', 'rb') as file:\n",
    "    success_urls = pickle.load(file)\n",
    "    \n",
    "success_urls"
   ]
  },
  {
   "cell_type": "markdown",
   "metadata": {},
   "source": [
    "## 2. Run LDA\n",
    "Refer to 03_LDA_implement for more info on these functions"
   ]
  },
  {
   "cell_type": "code",
   "execution_count": null,
   "metadata": {},
   "outputs": [],
   "source": [
    "import gensim\n",
    "from gensim.utils import simple_preprocess\n",
    "from nltk.corpus import stopwords\n",
    "stop_words = stopwords.words('english')"
   ]
  },
  {
   "cell_type": "code",
   "execution_count": null,
   "metadata": {},
   "outputs": [],
   "source": [
    "def remove_stopwords(texts):\n",
    "    out = [[word for word in simple_preprocess(str(doc))\n",
    "            if word not in stop_words]\n",
    "            for doc in texts]\n",
    "    return out"
   ]
  },
  {
   "cell_type": "code",
   "execution_count": null,
   "metadata": {},
   "outputs": [],
   "source": [
    "def bigrams(words, bi_min=15, tri_min=10):\n",
    "    bigram = gensim.models.Phrases(words, min_count = bi_min)\n",
    "    bigram_mod = gensim.models.phrases.Phraser(bigram)\n",
    "    return bigram_mod"
   ]
  },
  {
   "cell_type": "code",
   "execution_count": null,
   "metadata": {},
   "outputs": [],
   "source": [
    "def get_corpus(df):\n",
    "\n",
    "    words = list((df.content))\n",
    "    words = remove_stopwords(words)\n",
    "    bigram_mod = bigrams(words)\n",
    "    bigram = [bigram_mod[article] for article in words]\n",
    "    id2word = gensim.corpora.Dictionary(bigram)\n",
    "    \n",
    "    # removes most common and rare words\n",
    "    # it's possible I need to get rid of this one\n",
    "    #id2word.filter_extremes(no_below=10, no_above=0.35)\n",
    "    \n",
    "    id2word.compactify()\n",
    "    corpus = [id2word.doc2bow(text) for text in bigram]\n",
    "    \n",
    "    return corpus, id2word, bigram"
   ]
  },
  {
   "cell_type": "code",
   "execution_count": null,
   "metadata": {},
   "outputs": [],
   "source": [
    "corpus, id2word, train_bigram = get_corpus(success_urls)"
   ]
  },
  {
   "cell_type": "code",
   "execution_count": null,
   "metadata": {},
   "outputs": [],
   "source": [
    "lda_model = gensim.models.ldamodel.LdaModel(corpus=corpus,\n",
    "                                           id2word=id2word,\n",
    "                                           num_topics=10,\n",
    "                                           random_state=42,\n",
    "                                           update_every=1,\n",
    "                                           chunksize=100,\n",
    "                                           passes=10,\n",
    "                                           alpha='auto',\n",
    "                                           per_word_topics=True)"
   ]
  },
  {
   "cell_type": "code",
   "execution_count": null,
   "metadata": {},
   "outputs": [],
   "source": [
    "lda_model.print_topics()"
   ]
  },
  {
   "cell_type": "code",
   "execution_count": null,
   "metadata": {},
   "outputs": [],
   "source": [
    "#import pyLDAvis\n",
    "#import pyLDAvis.gensim\n",
    "#import matplotlib.pyplot as plt\n",
    "#import warnings\n",
    "#warnings.filterwarnings(\"ignore\",category=DeprecationWarning)"
   ]
  },
  {
   "cell_type": "code",
   "execution_count": null,
   "metadata": {
    "scrolled": true
   },
   "outputs": [],
   "source": [
    "# Visualize the topics\n",
    "#pyLDAvis.enable_notebook(sort=True)\n",
    "#vis = pyLDAvis.gensim.prepare(lda_model, corpus, id2word)\n",
    "#pyLDAvis.display(vis)"
   ]
  },
  {
   "cell_type": "markdown",
   "metadata": {},
   "source": [
    "## 3. Get the topic names printed"
   ]
  },
  {
   "cell_type": "code",
   "execution_count": null,
   "metadata": {
    "scrolled": true
   },
   "outputs": [],
   "source": [
    "# displays the 10 topics and their top 10 words and weights\n",
    "\n",
    "model_topics = lda_model.show_topics(formatted=False)\n",
    "model_topics"
   ]
  },
  {
   "cell_type": "code",
   "execution_count": null,
   "metadata": {},
   "outputs": [],
   "source": [
    "topic_dist = []\n",
    "\n",
    "for i in range(len(success_urls)):\n",
    "    top_topics = lda_model.get_document_topics(corpus[i], minimum_probability=0.0)\n",
    "    topic_vec = [top_topics[i][1] for i in range(10)]\n",
    "    topic_vec.extend([success_urls.index[i]]) \n",
    "    topic_dist.append(topic_vec)\n"
   ]
  },
  {
   "cell_type": "code",
   "execution_count": null,
   "metadata": {},
   "outputs": [],
   "source": [
    "topic_dist"
   ]
  },
  {
   "cell_type": "markdown",
   "metadata": {},
   "source": [
    "## 4. Use top 2 words to name topics"
   ]
  },
  {
   "cell_type": "code",
   "execution_count": null,
   "metadata": {},
   "outputs": [],
   "source": [
    "topic_titles = []\n",
    "\n",
    "for i in model_topics:\n",
    "    index, word_list = i\n",
    "    word, prob = word_list[0]\n",
    "    word1, prob1 = word_list[1]\n",
    "    topic_title = f'{word}_{word1}'\n",
    "    topic_titles.append(topic_title)\n",
    "    "
   ]
  },
  {
   "cell_type": "code",
   "execution_count": null,
   "metadata": {},
   "outputs": [],
   "source": [
    "topic_titles"
   ]
  },
  {
   "cell_type": "markdown",
   "metadata": {},
   "source": [
    "## 5. Assign topic names to values in topic_dist\n",
    "\n",
    "- create dict with article_index:porbability_list\n",
    "- attach topic names to probabilities for readability\n",
    "- order list of probabilities in DESC"
   ]
  },
  {
   "cell_type": "raw",
   "metadata": {},
   "source": [
    "# STEP 1: INDICIES DICTIONARY\n",
    "# convert all topic distributions in topic_dist\n",
    "# to key:value of index:topic_probabilites\n",
    "\n",
    "dist = {}\n",
    "\n",
    "for topic in topic_dist:\n",
    "    dist.update({topic[-1]: topic[:-1]})\n",
    "\n",
    "dist"
   ]
  },
  {
   "cell_type": "raw",
   "metadata": {},
   "source": [
    "{'plan_compani': 0.22395013,\n",
    " 'chang_way': 0.02100196,\n",
    " 'sustain_posit': 0.011783422,\n",
    " 'emiss_system': 0.039834768,\n",
    " 'individu_peopl': 0.02663375,\n",
    " 'ecolog_natur': 0.008098452,\n",
    " 'realiti_august': 0.5028543,\n",
    " 'top_iso': 0.001632354,\n",
    " 'go_ye': 0.15208527,\n",
    " 'day_year': 0.012125612}"
   ]
  },
  {
   "cell_type": "raw",
   "metadata": {},
   "source": [
    "# STEP 2: ADD TOPIC NAMES TO PROBABILITIES\n",
    "\n",
    "# adding topic titles to probabilities\n",
    "# original order must be maintained as\n",
    "# topic titles are based on the list index\n",
    "\n",
    "topic_dict = dict(zip(topic_titles,(list(dist.values())[0])))\n",
    "topic_dict\n"
   ]
  },
  {
   "cell_type": "raw",
   "metadata": {},
   "source": [
    "for i,prob in dist.items():\n",
    "    dist[i] = dict(zip(topic_titles, prob))\n"
   ]
  },
  {
   "cell_type": "raw",
   "metadata": {},
   "source": [
    "dist"
   ]
  },
  {
   "cell_type": "raw",
   "metadata": {},
   "source": [
    "# First item in dict\n",
    "\n",
    "dist[12]"
   ]
  },
  {
   "cell_type": "raw",
   "metadata": {},
   "source": [
    "{'realiti_august': 0.5028543,\n",
    " 'plan_compani': 0.22395013,\n",
    " 'go_ye': 0.15208527,\n",
    " 'emiss_system': 0.039834768,\n",
    " 'individu_peopl': 0.02663375,\n",
    " 'chang_way': 0.02100196,\n",
    " 'day_year': 0.012125612,\n",
    " 'sustain_posit': 0.011783422,\n",
    " 'ecolog_natur': 0.008098452,\n",
    " 'top_iso': 0.001632354}"
   ]
  },
  {
   "cell_type": "raw",
   "metadata": {},
   "source": [
    "dict(sorted(dist[12].items(), key=lambda x:x[1], reverse=True))"
   ]
  },
  {
   "cell_type": "raw",
   "metadata": {},
   "source": [
    "for i,prob in dist.items():\n",
    "    dist[i] = dict(sorted(dist[i].items(), key=lambda x:x[1], reverse=True))\n",
    "\n",
    "dist"
   ]
  },
  {
   "cell_type": "markdown",
   "metadata": {},
   "source": [
    "## 6. one-hot encoding topics to df"
   ]
  },
  {
   "cell_type": "code",
   "execution_count": null,
   "metadata": {},
   "outputs": [],
   "source": [
    "# first we have the df\n",
    "\n",
    "success_urls.head()"
   ]
  },
  {
   "cell_type": "code",
   "execution_count": null,
   "metadata": {},
   "outputs": [],
   "source": [
    "topic_dist"
   ]
  },
  {
   "cell_type": "code",
   "execution_count": null,
   "metadata": {},
   "outputs": [],
   "source": [
    "topic_dist[0]"
   ]
  },
  {
   "cell_type": "code",
   "execution_count": null,
   "metadata": {},
   "outputs": [],
   "source": [
    "for topic in topic_dist:\n",
    "    print(topic[0])"
   ]
  },
  {
   "cell_type": "code",
   "execution_count": null,
   "metadata": {},
   "outputs": [],
   "source": [
    "top_0 = [topic[0] for topic in topic_dist]"
   ]
  },
  {
   "cell_type": "code",
   "execution_count": null,
   "metadata": {},
   "outputs": [],
   "source": [
    "success_urls['top_0'] = top_0"
   ]
  },
  {
   "cell_type": "code",
   "execution_count": null,
   "metadata": {},
   "outputs": [],
   "source": [
    "success_urls"
   ]
  },
  {
   "cell_type": "code",
   "execution_count": null,
   "metadata": {},
   "outputs": [],
   "source": [
    "# this can probably be part of the for loop that creates topic_dist to avoid this code repetition\n",
    "\n",
    "top_1 = [topic[1] for topic in topic_dist]\n",
    "top_2 = [topic[2] for topic in topic_dist]\n",
    "top_3 = [topic[3] for topic in topic_dist]\n",
    "top_4 = [topic[4] for topic in topic_dist]\n",
    "top_5 = [topic[5] for topic in topic_dist]\n",
    "top_6 = [topic[6] for topic in topic_dist]\n",
    "top_7 = [topic[7] for topic in topic_dist]\n",
    "top_8 = [topic[8] for topic in topic_dist]\n",
    "top_9 = [topic[9] for topic in topic_dist]"
   ]
  },
  {
   "cell_type": "code",
   "execution_count": null,
   "metadata": {},
   "outputs": [],
   "source": [
    "success_urls = success_urls.assign(top_1=top_1, top_2=top_2, top_3=top_3, \n",
    "                                   top_4=top_4, top_5=top_5, top_6=top_6, \n",
    "                                   top_7=top_7, top_8=top_8, top_9=top_9)"
   ]
  },
  {
   "cell_type": "code",
   "execution_count": 55,
   "metadata": {},
   "outputs": [
    {
     "data": {
      "text/html": [
       "<div>\n",
       "<style scoped>\n",
       "    .dataframe tbody tr th:only-of-type {\n",
       "        vertical-align: middle;\n",
       "    }\n",
       "\n",
       "    .dataframe tbody tr th {\n",
       "        vertical-align: top;\n",
       "    }\n",
       "\n",
       "    .dataframe thead th {\n",
       "        text-align: right;\n",
       "    }\n",
       "</style>\n",
       "<table border=\"1\" class=\"dataframe\">\n",
       "  <thead>\n",
       "    <tr style=\"text-align: right;\">\n",
       "      <th></th>\n",
       "      <th>url</th>\n",
       "      <th>content</th>\n",
       "      <th>target_g13</th>\n",
       "      <th>top_0</th>\n",
       "      <th>top_1</th>\n",
       "      <th>top_2</th>\n",
       "      <th>top_3</th>\n",
       "      <th>top_4</th>\n",
       "      <th>top_5</th>\n",
       "      <th>top_6</th>\n",
       "      <th>top_7</th>\n",
       "      <th>top_8</th>\n",
       "      <th>top_9</th>\n",
       "    </tr>\n",
       "  </thead>\n",
       "  <tbody>\n",
       "    <tr>\n",
       "      <th>12</th>\n",
       "      <td>https://plana.earth/academy/release-carbon-man...</td>\n",
       "      <td>proud present major updat softwar product plan...</td>\n",
       "      <td>1.0</td>\n",
       "      <td>0.223932</td>\n",
       "      <td>0.021002</td>\n",
       "      <td>0.011783</td>\n",
       "      <td>0.039847</td>\n",
       "      <td>0.026634</td>\n",
       "      <td>0.008098</td>\n",
       "      <td>0.502835</td>\n",
       "      <td>0.001632</td>\n",
       "      <td>0.152110</td>\n",
       "      <td>0.012126</td>\n",
       "    </tr>\n",
       "    <tr>\n",
       "      <th>13</th>\n",
       "      <td>https://plana.earth/academy/release-carbon-man...</td>\n",
       "      <td>make seriou upgrad help measur accur carbon fo...</td>\n",
       "      <td>1.0</td>\n",
       "      <td>0.020330</td>\n",
       "      <td>0.013785</td>\n",
       "      <td>0.007615</td>\n",
       "      <td>0.773814</td>\n",
       "      <td>0.017148</td>\n",
       "      <td>0.088187</td>\n",
       "      <td>0.057267</td>\n",
       "      <td>0.001034</td>\n",
       "      <td>0.013157</td>\n",
       "      <td>0.007663</td>\n",
       "    </tr>\n",
       "    <tr>\n",
       "      <th>14</th>\n",
       "      <td>https://plana.earth/academy/release-carbon-man...</td>\n",
       "      <td>want get inform book demo call discov plan car...</td>\n",
       "      <td>1.0</td>\n",
       "      <td>0.211783</td>\n",
       "      <td>0.043621</td>\n",
       "      <td>0.016583</td>\n",
       "      <td>0.057654</td>\n",
       "      <td>0.038511</td>\n",
       "      <td>0.558914</td>\n",
       "      <td>0.024015</td>\n",
       "      <td>0.002297</td>\n",
       "      <td>0.029592</td>\n",
       "      <td>0.017030</td>\n",
       "    </tr>\n",
       "    <tr>\n",
       "      <th>15</th>\n",
       "      <td>https://plana.earth/academy/release-carbon-man...</td>\n",
       "      <td>carbon account busi</td>\n",
       "      <td>1.0</td>\n",
       "      <td>0.514872</td>\n",
       "      <td>0.065822</td>\n",
       "      <td>0.036323</td>\n",
       "      <td>0.123103</td>\n",
       "      <td>0.082100</td>\n",
       "      <td>0.024935</td>\n",
       "      <td>0.052141</td>\n",
       "      <td>0.005032</td>\n",
       "      <td>0.058371</td>\n",
       "      <td>0.037301</td>\n",
       "    </tr>\n",
       "    <tr>\n",
       "      <th>16</th>\n",
       "      <td>https://plana.earth/academy/release-carbon-man...</td>\n",
       "      <td>emiss dashboard add depth context carbon footp...</td>\n",
       "      <td>1.0</td>\n",
       "      <td>0.095629</td>\n",
       "      <td>0.013309</td>\n",
       "      <td>0.006307</td>\n",
       "      <td>0.508645</td>\n",
       "      <td>0.014854</td>\n",
       "      <td>0.004371</td>\n",
       "      <td>0.009633</td>\n",
       "      <td>0.000874</td>\n",
       "      <td>0.088323</td>\n",
       "      <td>0.258056</td>\n",
       "    </tr>\n",
       "    <tr>\n",
       "      <th>...</th>\n",
       "      <td>...</td>\n",
       "      <td>...</td>\n",
       "      <td>...</td>\n",
       "      <td>...</td>\n",
       "      <td>...</td>\n",
       "      <td>...</td>\n",
       "      <td>...</td>\n",
       "      <td>...</td>\n",
       "      <td>...</td>\n",
       "      <td>...</td>\n",
       "      <td>...</td>\n",
       "      <td>...</td>\n",
       "      <td>...</td>\n",
       "    </tr>\n",
       "    <tr>\n",
       "      <th>3081</th>\n",
       "      <td>https://plana.earth/academy/earth-overshoot-day/</td>\n",
       "      <td>pick futur</td>\n",
       "      <td>1.0</td>\n",
       "      <td>0.093717</td>\n",
       "      <td>0.091450</td>\n",
       "      <td>0.042673</td>\n",
       "      <td>0.132630</td>\n",
       "      <td>0.096453</td>\n",
       "      <td>0.029275</td>\n",
       "      <td>0.061256</td>\n",
       "      <td>0.005912</td>\n",
       "      <td>0.068576</td>\n",
       "      <td>0.378059</td>\n",
       "    </tr>\n",
       "    <tr>\n",
       "      <th>3082</th>\n",
       "      <td>https://plana.earth/academy/earth-overshoot-day/</td>\n",
       "      <td>movethed plana</td>\n",
       "      <td>1.0</td>\n",
       "      <td>0.443342</td>\n",
       "      <td>0.076058</td>\n",
       "      <td>0.042674</td>\n",
       "      <td>0.132631</td>\n",
       "      <td>0.096453</td>\n",
       "      <td>0.029276</td>\n",
       "      <td>0.061256</td>\n",
       "      <td>0.005912</td>\n",
       "      <td>0.068576</td>\n",
       "      <td>0.043822</td>\n",
       "    </tr>\n",
       "    <tr>\n",
       "      <th>3156</th>\n",
       "      <td>https://plana.earth/academy/a-message-from-the...</td>\n",
       "      <td>month intens investig topic sloth sloth habita...</td>\n",
       "      <td>1.0</td>\n",
       "      <td>0.166513</td>\n",
       "      <td>0.117698</td>\n",
       "      <td>0.042813</td>\n",
       "      <td>0.188631</td>\n",
       "      <td>0.376733</td>\n",
       "      <td>0.005635</td>\n",
       "      <td>0.011869</td>\n",
       "      <td>0.001138</td>\n",
       "      <td>0.013242</td>\n",
       "      <td>0.075728</td>\n",
       "    </tr>\n",
       "    <tr>\n",
       "      <th>3157</th>\n",
       "      <td>https://plana.earth/academy/a-message-from-the...</td>\n",
       "      <td>wednesday may plan launch first planetwid camp...</td>\n",
       "      <td>1.0</td>\n",
       "      <td>0.422576</td>\n",
       "      <td>0.036065</td>\n",
       "      <td>0.176416</td>\n",
       "      <td>0.063210</td>\n",
       "      <td>0.048285</td>\n",
       "      <td>0.013165</td>\n",
       "      <td>0.108261</td>\n",
       "      <td>0.002658</td>\n",
       "      <td>0.031050</td>\n",
       "      <td>0.098313</td>\n",
       "    </tr>\n",
       "    <tr>\n",
       "      <th>3158</th>\n",
       "      <td>https://plana.earth/academy/a-message-from-the...</td>\n",
       "      <td>mothership set fli look forward welcom two day...</td>\n",
       "      <td>1.0</td>\n",
       "      <td>0.104341</td>\n",
       "      <td>0.029557</td>\n",
       "      <td>0.016613</td>\n",
       "      <td>0.052176</td>\n",
       "      <td>0.118038</td>\n",
       "      <td>0.011377</td>\n",
       "      <td>0.214971</td>\n",
       "      <td>0.002297</td>\n",
       "      <td>0.026649</td>\n",
       "      <td>0.423981</td>\n",
       "    </tr>\n",
       "  </tbody>\n",
       "</table>\n",
       "<p>614 rows × 13 columns</p>\n",
       "</div>"
      ],
      "text/plain": [
       "                                                    url  \\\n",
       "12    https://plana.earth/academy/release-carbon-man...   \n",
       "13    https://plana.earth/academy/release-carbon-man...   \n",
       "14    https://plana.earth/academy/release-carbon-man...   \n",
       "15    https://plana.earth/academy/release-carbon-man...   \n",
       "16    https://plana.earth/academy/release-carbon-man...   \n",
       "...                                                 ...   \n",
       "3081   https://plana.earth/academy/earth-overshoot-day/   \n",
       "3082   https://plana.earth/academy/earth-overshoot-day/   \n",
       "3156  https://plana.earth/academy/a-message-from-the...   \n",
       "3157  https://plana.earth/academy/a-message-from-the...   \n",
       "3158  https://plana.earth/academy/a-message-from-the...   \n",
       "\n",
       "                                                content  target_g13     top_0  \\\n",
       "12    proud present major updat softwar product plan...         1.0  0.223932   \n",
       "13    make seriou upgrad help measur accur carbon fo...         1.0  0.020330   \n",
       "14    want get inform book demo call discov plan car...         1.0  0.211783   \n",
       "15                                  carbon account busi         1.0  0.514872   \n",
       "16    emiss dashboard add depth context carbon footp...         1.0  0.095629   \n",
       "...                                                 ...         ...       ...   \n",
       "3081                                         pick futur         1.0  0.093717   \n",
       "3082                                     movethed plana         1.0  0.443342   \n",
       "3156  month intens investig topic sloth sloth habita...         1.0  0.166513   \n",
       "3157  wednesday may plan launch first planetwid camp...         1.0  0.422576   \n",
       "3158  mothership set fli look forward welcom two day...         1.0  0.104341   \n",
       "\n",
       "         top_1     top_2     top_3     top_4     top_5     top_6     top_7  \\\n",
       "12    0.021002  0.011783  0.039847  0.026634  0.008098  0.502835  0.001632   \n",
       "13    0.013785  0.007615  0.773814  0.017148  0.088187  0.057267  0.001034   \n",
       "14    0.043621  0.016583  0.057654  0.038511  0.558914  0.024015  0.002297   \n",
       "15    0.065822  0.036323  0.123103  0.082100  0.024935  0.052141  0.005032   \n",
       "16    0.013309  0.006307  0.508645  0.014854  0.004371  0.009633  0.000874   \n",
       "...        ...       ...       ...       ...       ...       ...       ...   \n",
       "3081  0.091450  0.042673  0.132630  0.096453  0.029275  0.061256  0.005912   \n",
       "3082  0.076058  0.042674  0.132631  0.096453  0.029276  0.061256  0.005912   \n",
       "3156  0.117698  0.042813  0.188631  0.376733  0.005635  0.011869  0.001138   \n",
       "3157  0.036065  0.176416  0.063210  0.048285  0.013165  0.108261  0.002658   \n",
       "3158  0.029557  0.016613  0.052176  0.118038  0.011377  0.214971  0.002297   \n",
       "\n",
       "         top_8     top_9  \n",
       "12    0.152110  0.012126  \n",
       "13    0.013157  0.007663  \n",
       "14    0.029592  0.017030  \n",
       "15    0.058371  0.037301  \n",
       "16    0.088323  0.258056  \n",
       "...        ...       ...  \n",
       "3081  0.068576  0.378059  \n",
       "3082  0.068576  0.043822  \n",
       "3156  0.013242  0.075728  \n",
       "3157  0.031050  0.098313  \n",
       "3158  0.026649  0.423981  \n",
       "\n",
       "[614 rows x 13 columns]"
      ]
     },
     "execution_count": 55,
     "metadata": {},
     "output_type": "execute_result"
    }
   ],
   "source": [
    "success_urls"
   ]
  }
 ],
 "metadata": {
  "kernelspec": {
   "display_name": "Python 3",
   "language": "python",
   "name": "python3"
  },
  "language_info": {
   "codemirror_mode": {
    "name": "ipython",
    "version": 3
   },
   "file_extension": ".py",
   "mimetype": "text/x-python",
   "name": "python",
   "nbconvert_exporter": "python",
   "pygments_lexer": "ipython3",
   "version": "3.8.5"
  }
 },
 "nbformat": 4,
 "nbformat_minor": 4
}

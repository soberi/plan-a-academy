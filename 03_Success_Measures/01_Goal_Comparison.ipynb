{
 "cells": [
  {
   "cell_type": "markdown",
   "metadata": {},
   "source": [
    "# Goal 13: User visited the demo page"
   ]
  },
  {
   "cell_type": "code",
   "execution_count": null,
   "metadata": {
    "scrolled": true
   },
   "outputs": [],
   "source": [
    "# loading goal completions\n",
    "import pickle\n",
    "import pandas as pd\n",
    "\n",
    "with open('../04_Data/goal_completions.pkl', 'rb') as file:\n",
    "    goal_completions = pickle.load(file)\n",
    "    \n",
    "goal_completions.head(10)"
   ]
  },
  {
   "cell_type": "code",
   "execution_count": null,
   "metadata": {
    "scrolled": true
   },
   "outputs": [],
   "source": [
    "# loading academy content\n",
    "\n",
    "with open('../04_Data/academy_posts.pkl', 'rb') as file:\n",
    "    academy_content = pickle.load(file)\n",
    "    \n",
    "academy_content"
   ]
  },
  {
   "cell_type": "markdown",
   "metadata": {},
   "source": [
    "## need to subset academy_content according to urls with goal completions, !must keep indices of academy_content"
   ]
  },
  {
   "cell_type": "code",
   "execution_count": null,
   "metadata": {
    "scrolled": true
   },
   "outputs": [],
   "source": [
    "goal_urls = goal_completions['academy_url'].to_list()\n",
    "\n",
    "goal_urls"
   ]
  },
  {
   "cell_type": "code",
   "execution_count": null,
   "metadata": {
    "scrolled": true
   },
   "outputs": [],
   "source": [
    "success_urls = academy_content[academy_content.url.isin(goal_urls)]\n",
    "success_urls"
   ]
  },
  {
   "cell_type": "markdown",
   "metadata": {},
   "source": [
    "# Adding goal 13 completions to success_urls to train lda\n",
    "\n",
    "This will work per url."
   ]
  },
  {
   "cell_type": "code",
   "execution_count": null,
   "metadata": {
    "scrolled": true
   },
   "outputs": [],
   "source": [
    "# Creating dict of goals\n",
    "\n",
    "goal13_dict = dict(zip(goal_completions.academy_url, goal_completions.goal13Completions))\n",
    "goal13_dict"
   ]
  },
  {
   "cell_type": "code",
   "execution_count": null,
   "metadata": {},
   "outputs": [],
   "source": [
    "success_urls['target_g13'] = success_urls['url'].map(goal13_dict)"
   ]
  },
  {
   "cell_type": "code",
   "execution_count": null,
   "metadata": {
    "scrolled": true
   },
   "outputs": [],
   "source": [
    "pd.set_option('display.max_rows', None)\n",
    "success_urls"
   ]
  },
  {
   "cell_type": "code",
   "execution_count": 16,
   "metadata": {},
   "outputs": [
    {
     "data": {
      "text/html": [
       "<div>\n",
       "<style scoped>\n",
       "    .dataframe tbody tr th:only-of-type {\n",
       "        vertical-align: middle;\n",
       "    }\n",
       "\n",
       "    .dataframe tbody tr th {\n",
       "        vertical-align: top;\n",
       "    }\n",
       "\n",
       "    .dataframe thead th {\n",
       "        text-align: right;\n",
       "    }\n",
       "</style>\n",
       "<table border=\"1\" class=\"dataframe\">\n",
       "  <thead>\n",
       "    <tr style=\"text-align: right;\">\n",
       "      <th></th>\n",
       "      <th>url</th>\n",
       "      <th>content</th>\n",
       "      <th>target_g13</th>\n",
       "    </tr>\n",
       "  </thead>\n",
       "  <tbody>\n",
       "    <tr>\n",
       "      <th>134</th>\n",
       "      <td>https://plana.earth/academy/why-president-of-e...</td>\n",
       "      <td>This Tuesday 1st December, the annual Digital ...</td>\n",
       "      <td>1.0</td>\n",
       "    </tr>\n",
       "    <tr>\n",
       "      <th>135</th>\n",
       "      <td>https://plana.earth/academy/why-president-of-e...</td>\n",
       "      <td>BREAKING: “Plan a is using scientific models t...</td>\n",
       "      <td>1.0</td>\n",
       "    </tr>\n",
       "    <tr>\n",
       "      <th>136</th>\n",
       "      <td>https://plana.earth/academy/why-president-of-e...</td>\n",
       "      <td>BREAKING: “Plan a is using scientific models t...</td>\n",
       "      <td>1.0</td>\n",
       "    </tr>\n",
       "    <tr>\n",
       "      <th>137</th>\n",
       "      <td>https://plana.earth/academy/why-president-of-e...</td>\n",
       "      <td>What is digital sustainability?</td>\n",
       "      <td>1.0</td>\n",
       "    </tr>\n",
       "    <tr>\n",
       "      <th>138</th>\n",
       "      <td>https://plana.earth/academy/why-president-of-e...</td>\n",
       "      <td>Digitization is an inherent part of our daily ...</td>\n",
       "      <td>1.0</td>\n",
       "    </tr>\n",
       "    <tr>\n",
       "      <th>139</th>\n",
       "      <td>https://plana.earth/academy/why-president-of-e...</td>\n",
       "      <td>“If we want to lead the digital revolution glo...</td>\n",
       "      <td>1.0</td>\n",
       "    </tr>\n",
       "    <tr>\n",
       "      <th>140</th>\n",
       "      <td>https://plana.earth/academy/why-president-of-e...</td>\n",
       "      <td>The Digital Summit 2020 (Digital Gipfel), is t...</td>\n",
       "      <td>1.0</td>\n",
       "    </tr>\n",
       "    <tr>\n",
       "      <th>141</th>\n",
       "      <td>https://plana.earth/academy/why-president-of-e...</td>\n",
       "      <td>Digital sustainability is how digitization, as...</td>\n",
       "      <td>1.0</td>\n",
       "    </tr>\n",
       "    <tr>\n",
       "      <th>142</th>\n",
       "      <td>https://plana.earth/academy/why-president-of-e...</td>\n",
       "      <td>To recover from the global pandemic, the Europ...</td>\n",
       "      <td>1.0</td>\n",
       "    </tr>\n",
       "    <tr>\n",
       "      <th>143</th>\n",
       "      <td>https://plana.earth/academy/why-president-of-e...</td>\n",
       "      <td>Plan A is on Europe’s sustainability agenda</td>\n",
       "      <td>1.0</td>\n",
       "    </tr>\n",
       "  </tbody>\n",
       "</table>\n",
       "</div>"
      ],
      "text/plain": [
       "                                                   url  \\\n",
       "134  https://plana.earth/academy/why-president-of-e...   \n",
       "135  https://plana.earth/academy/why-president-of-e...   \n",
       "136  https://plana.earth/academy/why-president-of-e...   \n",
       "137  https://plana.earth/academy/why-president-of-e...   \n",
       "138  https://plana.earth/academy/why-president-of-e...   \n",
       "139  https://plana.earth/academy/why-president-of-e...   \n",
       "140  https://plana.earth/academy/why-president-of-e...   \n",
       "141  https://plana.earth/academy/why-president-of-e...   \n",
       "142  https://plana.earth/academy/why-president-of-e...   \n",
       "143  https://plana.earth/academy/why-president-of-e...   \n",
       "\n",
       "                                               content  target_g13  \n",
       "134  This Tuesday 1st December, the annual Digital ...         1.0  \n",
       "135  BREAKING: “Plan a is using scientific models t...         1.0  \n",
       "136  BREAKING: “Plan a is using scientific models t...         1.0  \n",
       "137                    What is digital sustainability?         1.0  \n",
       "138  Digitization is an inherent part of our daily ...         1.0  \n",
       "139  “If we want to lead the digital revolution glo...         1.0  \n",
       "140  The Digital Summit 2020 (Digital Gipfel), is t...         1.0  \n",
       "141  Digital sustainability is how digitization, as...         1.0  \n",
       "142  To recover from the global pandemic, the Europ...         1.0  \n",
       "143        Plan A is on Europe’s sustainability agenda         1.0  "
      ]
     },
     "execution_count": 16,
     "metadata": {},
     "output_type": "execute_result"
    }
   ],
   "source": [
    "success_g13 = success_urls[['url', 'content', 'target_g13']]\n",
    "success_g13.head(10)"
   ]
  },
  {
   "cell_type": "code",
   "execution_count": null,
   "metadata": {},
   "outputs": [],
   "source": [
    "# with open('../04_Data/success_g13.pkl', 'wb') as sg:\n",
    "#    pickle.dump(success_g13, sg, protocol=pickle.HIGHEST_PROTOCOL)"
   ]
  },
  {
   "cell_type": "code",
   "execution_count": null,
   "metadata": {
    "scrolled": false
   },
   "outputs": [],
   "source": [
    "goal_completions.sort_values(['goal12Completions', 'goal13Completions'], ascending=False)"
   ]
  }
 ],
 "metadata": {
  "kernelspec": {
   "display_name": "Python 3",
   "language": "python",
   "name": "python3"
  },
  "language_info": {
   "codemirror_mode": {
    "name": "ipython",
    "version": 3
   },
   "file_extension": ".py",
   "mimetype": "text/x-python",
   "name": "python",
   "nbconvert_exporter": "python",
   "pygments_lexer": "ipython3",
   "version": "3.8.5"
  }
 },
 "nbformat": 4,
 "nbformat_minor": 4
}

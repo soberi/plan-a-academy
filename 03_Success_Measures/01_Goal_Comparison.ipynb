{
 "cells": [
  {
   "cell_type": "markdown",
   "metadata": {},
   "source": [
    "# Comparing goal completions with LDA results"
   ]
  },
  {
   "cell_type": "code",
   "execution_count": null,
   "metadata": {
    "scrolled": true
   },
   "outputs": [],
   "source": [
    "# loading goal completions\n",
    "import pickle\n",
    "import pandas as pd\n",
    "\n",
    "with open('../02_LDA_model/pkl_cellar/goal_completions.pkl', 'rb') as file:\n",
    "    goal_completions = pickle.load(file)\n",
    "    \n",
    "goal_completions"
   ]
  },
  {
   "cell_type": "code",
   "execution_count": null,
   "metadata": {
    "scrolled": true
   },
   "outputs": [],
   "source": [
    "# loading academy content\n",
    "\n",
    "with open('../02_LDA_model/pkl_cellar/df_stemmed.pkl', 'rb') as file:\n",
    "    academy_content = pickle.load(file)\n",
    "    \n",
    "academy_content"
   ]
  },
  {
   "cell_type": "markdown",
   "metadata": {},
   "source": [
    "## need to subset academy_content according to urls with goal completions, !must keep indices of academy_content"
   ]
  },
  {
   "cell_type": "code",
   "execution_count": null,
   "metadata": {
    "scrolled": true
   },
   "outputs": [],
   "source": [
    "goal_urls = goal_completions['academy_url'].to_list()\n",
    "\n",
    "goal_urls"
   ]
  },
  {
   "cell_type": "code",
   "execution_count": null,
   "metadata": {
    "scrolled": true
   },
   "outputs": [],
   "source": [
    "success_urls = academy_content[academy_content.url.isin(goal_urls)]\n",
    "success_urls"
   ]
  },
  {
   "cell_type": "markdown",
   "metadata": {},
   "source": [
    "# Adding goal 13 completions to success_urls to train lda\n",
    "\n",
    "This will work per url."
   ]
  },
  {
   "cell_type": "code",
   "execution_count": null,
   "metadata": {
    "scrolled": true
   },
   "outputs": [],
   "source": [
    "# Creating dict of goals\n",
    "\n",
    "goal13_dict = dict(zip(goal_completions.academy_url, goal_completions.goal13Completions))\n",
    "goal13_dict"
   ]
  },
  {
   "cell_type": "code",
   "execution_count": null,
   "metadata": {},
   "outputs": [],
   "source": [
    "success_urls['target_g13'] = success_urls['url'].map(goal13_dict)"
   ]
  },
  {
   "cell_type": "code",
   "execution_count": null,
   "metadata": {
    "scrolled": true
   },
   "outputs": [],
   "source": [
    "pd.set_option('display.max_rows', None)\n",
    "success_urls"
   ]
  },
  {
   "cell_type": "code",
   "execution_count": null,
   "metadata": {},
   "outputs": [],
   "source": [
    "# with open('../02_LDA_model/pkl_cellar/success_urls.pkl', 'wb') as su:\n",
    "#    pickle.dump(success_urls, su, protocol=pickle.HIGHEST_PROTOCOL)"
   ]
  },
  {
   "cell_type": "code",
   "execution_count": null,
   "metadata": {
    "scrolled": false
   },
   "outputs": [],
   "source": [
    "goal_completions.sort_values(['goal12Completions', 'goal13Completions'], ascending=False)"
   ]
  }
 ],
 "metadata": {
  "kernelspec": {
   "display_name": "Python 3",
   "language": "python",
   "name": "python3"
  },
  "language_info": {
   "codemirror_mode": {
    "name": "ipython",
    "version": 3
   },
   "file_extension": ".py",
   "mimetype": "text/x-python",
   "name": "python",
   "nbconvert_exporter": "python",
   "pygments_lexer": "ipython3",
   "version": "3.8.5"
  }
 },
 "nbformat": 4,
 "nbformat_minor": 4
}

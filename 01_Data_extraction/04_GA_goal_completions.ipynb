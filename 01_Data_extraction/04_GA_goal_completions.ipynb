{
 "cells": [
  {
   "cell_type": "markdown",
   "metadata": {},
   "source": [
    "# All-site data extraction from Google Analytics\n",
    "\n",
    "A possible (and first choice) success metric for the Academy posts is looking at which posts led to a conversion – this is the Goal Completion data. We'll have to walk back from the all-site data, as the conversion are not present in the Academy-only view."
   ]
  },
  {
   "cell_type": "code",
   "execution_count": null,
   "metadata": {},
   "outputs": [],
   "source": [
    "from apiclient.discovery import build\n",
    "from oauth2client.service_account import ServiceAccountCredentials\n",
    "\n",
    "# There was an error when trying to reuse the functions from\n",
    "# 03_GA_page_sessions, which is why they are all rewritten in\n",
    "# this notebook. Will troubleshoot after MVP\n",
    "from ga_extractor import ga_to_df\n",
    "\n",
    "import pandas as pd\n",
    "import numpy as np\n",
    "import json\n",
    "\n",
    "pd.set_option('display.max_colwidth', None)\n",
    "pd.set_option('display.max_rows', None)"
   ]
  },
  {
   "cell_type": "markdown",
   "metadata": {},
   "source": [
    "# 1. Checking that the connection is setup"
   ]
  },
  {
   "cell_type": "code",
   "execution_count": null,
   "metadata": {},
   "outputs": [],
   "source": [
    "SCOPES = ['https://www.googleapis.com/auth/analytics.readonly']\n",
    "KEY_FILE_LOCATION = 'keys/all_site_api.json'\n",
    "VIEW_ID = 'ga:151086072'"
   ]
  },
  {
   "cell_type": "code",
   "execution_count": null,
   "metadata": {},
   "outputs": [],
   "source": [
    "def initialize_analyticsreporting():\n",
    "    \"\"\"Initializes an Analytics Reporting API V4 service object.\n",
    "    Returns: An authorized Analytics Reporting API V4 service object.\"\"\"\n",
    "\n",
    "    credentials = ServiceAccountCredentials.from_json_keyfile_name(KEY_FILE_LOCATION, SCOPES)\n",
    "\n",
    "    # Build the service object.\n",
    "    analytics = build('analyticsreporting', 'v4', credentials=credentials)\n",
    "\n",
    "    return analytics"
   ]
  },
  {
   "cell_type": "code",
   "execution_count": null,
   "metadata": {},
   "outputs": [],
   "source": [
    "def get_report(analytics, metrics, dimensions, start, end):\n",
    "    \"\"\"Queries the Analytics Reporting API V4.\n",
    "    Args:\n",
    "    analytics: An authorized Analytics Reporting API V4 service object.\n",
    "    Returns:\n",
    "    The Analytics Reporting API V4 response.\n",
    "    Using date range 2020-11-09 to 2020-11-15 for testing purposes\"\"\"\n",
    "    METS = [f'ga:{metric}' for metric in metrics]\n",
    "    DIMS = [f'ga:{dimension}' for dimension in dimensions]\n",
    "    \n",
    "    return analytics.reports().batchGet(\n",
    "        body={\n",
    "            'reportRequests': [\n",
    "                                {\n",
    "                                    'viewId': VIEW_ID,\n",
    "                                    'dateRanges': [{'startDate': start\n",
    "                                                    , 'endDate': end}],\n",
    "                                    'metrics': [{'expression': expression} for expression in METS],\n",
    "                                    'orderBys': [{'fieldName': METS[0], \n",
    "                                                  'sortOrder': 'DESCENDING'}],\n",
    "                                    'dimensions': [{'name': name} for name in DIMS]\n",
    "                                }]\n",
    "            }).execute(), METS, DIMS"
   ]
  },
  {
   "cell_type": "code",
   "execution_count": null,
   "metadata": {},
   "outputs": [],
   "source": [
    "def to_df(response, METS, DIMS):\n",
    "    data_dict = {f\"{i}\": [] for i in DIMS + METS}\n",
    "    \n",
    "    for report in response.get('reports', []):\n",
    "        rows = report.get('data', {}).get('rows', [])\n",
    "        for row in rows:\n",
    "            for i, key in enumerate(DIMS):\n",
    "                data_dict[key].append(row.get('dimensions', [])[i])\n",
    "            date_values = row.get('metrics', [])\n",
    "            for values in date_values:\n",
    "                all_values = values.get('values', [])\n",
    "                for i, key in enumerate(METS):\n",
    "                    data_dict[key].append(all_values[i])\n",
    "                    \n",
    "    df = pd.DataFrame(data=data_dict)\n",
    "    df.columns = [col.split(':')[-1] for col in df.columns]\n",
    "    \n",
    "    return df"
   ]
  },
  {
   "cell_type": "code",
   "execution_count": null,
   "metadata": {},
   "outputs": [],
   "source": [
    "def ga_to_df(metrics,dimensions,start,end):\n",
    "    '''metrics = list, dimesnions = list,\n",
    "    start = str, end = str'''\n",
    "    analytics = initialize_analyticsreporting()\n",
    "    response, METS, DIMS = get_report(analytics, metrics, dimensions, start, end)\n",
    "    response_df = to_df(response, metrics, dimensions)\n",
    "    \n",
    "    return response_df"
   ]
  },
  {
   "cell_type": "code",
   "execution_count": null,
   "metadata": {},
   "outputs": [],
   "source": [
    "# Goal 12: book a demo success\n",
    "\n",
    "\n",
    "traceback_goal12 = ga_to_df(metrics=['goal12Completions'], \n",
    "                            dimensions=['goalPreviousStep1',\n",
    "                                        'goalPreviousStep2',\n",
    "                                        'goalPreviousStep3'],\n",
    "                            start='2020-01-01',\n",
    "                            end='today')"
   ]
  },
  {
   "cell_type": "code",
   "execution_count": 65,
   "metadata": {
    "scrolled": true
   },
   "outputs": [
    {
     "data": {
      "text/html": [
       "<div>\n",
       "<style scoped>\n",
       "    .dataframe tbody tr th:only-of-type {\n",
       "        vertical-align: middle;\n",
       "    }\n",
       "\n",
       "    .dataframe tbody tr th {\n",
       "        vertical-align: top;\n",
       "    }\n",
       "\n",
       "    .dataframe thead th {\n",
       "        text-align: right;\n",
       "    }\n",
       "</style>\n",
       "<table border=\"1\" class=\"dataframe\">\n",
       "  <thead>\n",
       "    <tr style=\"text-align: right;\">\n",
       "      <th></th>\n",
       "      <th>goalPreviousStep1</th>\n",
       "      <th>goalPreviousStep2</th>\n",
       "      <th>goalPreviousStep3</th>\n",
       "      <th>goal12Completions</th>\n",
       "    </tr>\n",
       "  </thead>\n",
       "  <tbody>\n",
       "    <tr>\n",
       "      <th>0</th>\n",
       "      <td>/calculator/request-demo</td>\n",
       "      <td>/</td>\n",
       "      <td>/</td>\n",
       "      <td>32</td>\n",
       "    </tr>\n",
       "    <tr>\n",
       "      <th>1</th>\n",
       "      <td>/calculator/request-demo</td>\n",
       "      <td>/</td>\n",
       "      <td>(entrance)</td>\n",
       "      <td>18</td>\n",
       "    </tr>\n",
       "    <tr>\n",
       "      <th>2</th>\n",
       "      <td>/calculator/request-demo</td>\n",
       "      <td>(entrance)</td>\n",
       "      <td>(not set)</td>\n",
       "      <td>9</td>\n",
       "    </tr>\n",
       "    <tr>\n",
       "      <th>3</th>\n",
       "      <td>/calculator/request-demo</td>\n",
       "      <td>/offsetting</td>\n",
       "      <td>/offsetting</td>\n",
       "      <td>9</td>\n",
       "    </tr>\n",
       "    <tr>\n",
       "      <th>4</th>\n",
       "      <td>/calculator/request-demo</td>\n",
       "      <td>/calculator/request-demo</td>\n",
       "      <td>/</td>\n",
       "      <td>5</td>\n",
       "    </tr>\n",
       "  </tbody>\n",
       "</table>\n",
       "</div>"
      ],
      "text/plain": [
       "          goalPreviousStep1         goalPreviousStep2 goalPreviousStep3  \\\n",
       "0  /calculator/request-demo                         /                 /   \n",
       "1  /calculator/request-demo                         /        (entrance)   \n",
       "2  /calculator/request-demo                (entrance)         (not set)   \n",
       "3  /calculator/request-demo               /offsetting       /offsetting   \n",
       "4  /calculator/request-demo  /calculator/request-demo                 /   \n",
       "\n",
       "  goal12Completions  \n",
       "0                32  \n",
       "1                18  \n",
       "2                 9  \n",
       "3                 9  \n",
       "4                 5  "
      ]
     },
     "execution_count": 65,
     "metadata": {},
     "output_type": "execute_result"
    }
   ],
   "source": [
    "traceback_goal12.head()"
   ]
  },
  {
   "cell_type": "code",
   "execution_count": null,
   "metadata": {},
   "outputs": [],
   "source": [
    "# Goal 13: seen demo page\n",
    "\n",
    "\n",
    "traceback_goal13 = ga_to_df(metrics=['goal13Completions'], \n",
    "                            dimensions=['goalPreviousStep1',\n",
    "                                        'goalPreviousStep2',\n",
    "                                        'goalPreviousStep3'],\n",
    "                            start='2020-01-01',\n",
    "                            end='today')"
   ]
  },
  {
   "cell_type": "code",
   "execution_count": 66,
   "metadata": {},
   "outputs": [
    {
     "data": {
      "text/html": [
       "<div>\n",
       "<style scoped>\n",
       "    .dataframe tbody tr th:only-of-type {\n",
       "        vertical-align: middle;\n",
       "    }\n",
       "\n",
       "    .dataframe tbody tr th {\n",
       "        vertical-align: top;\n",
       "    }\n",
       "\n",
       "    .dataframe thead th {\n",
       "        text-align: right;\n",
       "    }\n",
       "</style>\n",
       "<table border=\"1\" class=\"dataframe\">\n",
       "  <thead>\n",
       "    <tr style=\"text-align: right;\">\n",
       "      <th></th>\n",
       "      <th>goalPreviousStep1</th>\n",
       "      <th>goalPreviousStep2</th>\n",
       "      <th>goalPreviousStep3</th>\n",
       "      <th>goal13Completions</th>\n",
       "    </tr>\n",
       "  </thead>\n",
       "  <tbody>\n",
       "    <tr>\n",
       "      <th>0</th>\n",
       "      <td>/</td>\n",
       "      <td>(entrance)</td>\n",
       "      <td>(not set)</td>\n",
       "      <td>487</td>\n",
       "    </tr>\n",
       "    <tr>\n",
       "      <th>1</th>\n",
       "      <td>/</td>\n",
       "      <td>/</td>\n",
       "      <td>(entrance)</td>\n",
       "      <td>451</td>\n",
       "    </tr>\n",
       "    <tr>\n",
       "      <th>2</th>\n",
       "      <td>(entrance)</td>\n",
       "      <td>(not set)</td>\n",
       "      <td>(not set)</td>\n",
       "      <td>246</td>\n",
       "    </tr>\n",
       "    <tr>\n",
       "      <th>3</th>\n",
       "      <td>/</td>\n",
       "      <td>/</td>\n",
       "      <td>/academy/</td>\n",
       "      <td>46</td>\n",
       "    </tr>\n",
       "    <tr>\n",
       "      <th>4</th>\n",
       "      <td>/</td>\n",
       "      <td>/</td>\n",
       "      <td>/</td>\n",
       "      <td>41</td>\n",
       "    </tr>\n",
       "  </tbody>\n",
       "</table>\n",
       "</div>"
      ],
      "text/plain": [
       "  goalPreviousStep1 goalPreviousStep2 goalPreviousStep3 goal13Completions\n",
       "0                 /        (entrance)         (not set)               487\n",
       "1                 /                 /        (entrance)               451\n",
       "2        (entrance)         (not set)         (not set)               246\n",
       "3                 /                 /         /academy/                46\n",
       "4                 /                 /                 /                41"
      ]
     },
     "execution_count": 66,
     "metadata": {},
     "output_type": "execute_result"
    }
   ],
   "source": [
    "traceback_goal13.head()"
   ]
  },
  {
   "cell_type": "markdown",
   "metadata": {},
   "source": [
    "# Combine goal12 and goal13 for MVP\n",
    "\n",
    "- extract rows that refer to the academy, egal whether step 1, 2 or 3\n",
    "- combine 2 dataframes\n",
    "- cols = post_url | goal12 | goal13\n",
    "- prepend 'https://plana.earth' to urls"
   ]
  },
  {
   "cell_type": "markdown",
   "metadata": {},
   "source": [
    "# 2.1 extract academy rows for Goal 12"
   ]
  },
  {
   "cell_type": "code",
   "execution_count": null,
   "metadata": {},
   "outputs": [],
   "source": [
    "url = r'(\\/academy\\/[a-z])'"
   ]
  },
  {
   "cell_type": "code",
   "execution_count": null,
   "metadata": {},
   "outputs": [],
   "source": [
    "# only keep academy articles\n",
    "\n",
    "df_12 = traceback_goal12[(traceback_goal12['goalPreviousStep2'].str\n",
    "                                                            .contains(url) == True) | \n",
    "                      (traceback_goal12['goalPreviousStep3'].str\n",
    "                                                            .contains(url) == True)]"
   ]
  },
  {
   "cell_type": "code",
   "execution_count": null,
   "metadata": {
    "scrolled": true
   },
   "outputs": [],
   "source": [
    "df_12"
   ]
  },
  {
   "cell_type": "code",
   "execution_count": null,
   "metadata": {},
   "outputs": [],
   "source": [
    "# need to drop 23 and 24\n",
    "\n",
    "df_12 = df_12.drop([24, 25])"
   ]
  },
  {
   "cell_type": "code",
   "execution_count": null,
   "metadata": {},
   "outputs": [],
   "source": [
    "df_12 = df_12.drop(['goalPreviousStep1'], axis=1)"
   ]
  },
  {
   "cell_type": "code",
   "execution_count": null,
   "metadata": {},
   "outputs": [],
   "source": [
    "# replacing unwanted values\n",
    "unwanted = ['/', '/academy/']\n",
    "\n",
    "df_12 = df_12.replace(to_replace=unwanted, value=np.nan)"
   ]
  },
  {
   "cell_type": "code",
   "execution_count": null,
   "metadata": {},
   "outputs": [],
   "source": [
    "# new_col of col1 values\n",
    "# fillna() with prev step vals if NaN\n",
    "\n",
    "df_12.goalPreviousStep2.fillna(df_12.goalPreviousStep3, inplace=True)"
   ]
  },
  {
   "cell_type": "code",
   "execution_count": null,
   "metadata": {},
   "outputs": [],
   "source": [
    "df_12"
   ]
  },
  {
   "cell_type": "code",
   "execution_count": null,
   "metadata": {},
   "outputs": [],
   "source": [
    "df_12 = df_12.drop(['goalPreviousStep3'], axis=1)"
   ]
  },
  {
   "cell_type": "code",
   "execution_count": null,
   "metadata": {},
   "outputs": [],
   "source": [
    "df_12.info()"
   ]
  },
  {
   "cell_type": "code",
   "execution_count": null,
   "metadata": {},
   "outputs": [],
   "source": [
    "# conveting goalcompletions to int64\n",
    "\n",
    "df_12['goal12Completions'] = pd.to_numeric(df_12.goal12Completions)"
   ]
  },
  {
   "cell_type": "code",
   "execution_count": null,
   "metadata": {},
   "outputs": [],
   "source": [
    "# groupby article name\n",
    "\n",
    "df_12_group = df_12.groupby('goalPreviousStep2', as_index=False).agg({'goal12Completions':'sum'})"
   ]
  },
  {
   "cell_type": "code",
   "execution_count": 67,
   "metadata": {},
   "outputs": [
    {
     "data": {
      "text/html": [
       "<div>\n",
       "<style scoped>\n",
       "    .dataframe tbody tr th:only-of-type {\n",
       "        vertical-align: middle;\n",
       "    }\n",
       "\n",
       "    .dataframe tbody tr th {\n",
       "        vertical-align: top;\n",
       "    }\n",
       "\n",
       "    .dataframe thead th {\n",
       "        text-align: right;\n",
       "    }\n",
       "</style>\n",
       "<table border=\"1\" class=\"dataframe\">\n",
       "  <thead>\n",
       "    <tr style=\"text-align: right;\">\n",
       "      <th></th>\n",
       "      <th>goalPreviousStep2</th>\n",
       "      <th>goal12Completions</th>\n",
       "    </tr>\n",
       "  </thead>\n",
       "  <tbody>\n",
       "    <tr>\n",
       "      <th>0</th>\n",
       "      <td>/academy/how-to-check-the-sustainability-of-your-company/</td>\n",
       "      <td>1</td>\n",
       "    </tr>\n",
       "    <tr>\n",
       "      <th>1</th>\n",
       "      <td>/academy/how-to-spot-greenwashing/</td>\n",
       "      <td>2</td>\n",
       "    </tr>\n",
       "    <tr>\n",
       "      <th>2</th>\n",
       "      <td>/academy/sustainable-climate-change-organisation-partnership/</td>\n",
       "      <td>2</td>\n",
       "    </tr>\n",
       "    <tr>\n",
       "      <th>3</th>\n",
       "      <td>/academy/the-benefits-of-monitoring-carbon-emissions-for-a-business/</td>\n",
       "      <td>1</td>\n",
       "    </tr>\n",
       "    <tr>\n",
       "      <th>4</th>\n",
       "      <td>/academy/what-are-scope-1-2-3-emissions/</td>\n",
       "      <td>3</td>\n",
       "    </tr>\n",
       "  </tbody>\n",
       "</table>\n",
       "</div>"
      ],
      "text/plain": [
       "                                                      goalPreviousStep2  \\\n",
       "0             /academy/how-to-check-the-sustainability-of-your-company/   \n",
       "1                                    /academy/how-to-spot-greenwashing/   \n",
       "2         /academy/sustainable-climate-change-organisation-partnership/   \n",
       "3  /academy/the-benefits-of-monitoring-carbon-emissions-for-a-business/   \n",
       "4                              /academy/what-are-scope-1-2-3-emissions/   \n",
       "\n",
       "   goal12Completions  \n",
       "0                  1  \n",
       "1                  2  \n",
       "2                  2  \n",
       "3                  1  \n",
       "4                  3  "
      ]
     },
     "execution_count": 67,
     "metadata": {},
     "output_type": "execute_result"
    }
   ],
   "source": [
    "df_12_group"
   ]
  },
  {
   "cell_type": "markdown",
   "metadata": {},
   "source": [
    "# 2.2 extract academy rows for Goal 13"
   ]
  },
  {
   "cell_type": "code",
   "execution_count": null,
   "metadata": {},
   "outputs": [],
   "source": [
    "traceback_goal13.head()"
   ]
  },
  {
   "cell_type": "code",
   "execution_count": null,
   "metadata": {},
   "outputs": [],
   "source": [
    "# url = r'(\\/academy\\/[a-z])'\n",
    "# only keep academy articles\n",
    "\n",
    "df_13 = traceback_goal13[(traceback_goal13['goalPreviousStep1'].str.contains(url) == True) | \n",
    "                         (traceback_goal13['goalPreviousStep2'].str.contains(url) == True) | \n",
    "                         (traceback_goal13['goalPreviousStep3'].str.contains(url) == True)]"
   ]
  },
  {
   "cell_type": "code",
   "execution_count": null,
   "metadata": {},
   "outputs": [],
   "source": [
    "# removing manually, will set up regex finder at later stage\n",
    "\n",
    "unwanted_13 = ['/', '/academy/', '/about', '/faq', '/offsetting', \n",
    "               '/academy/how-to-check-the-sustainability-of-your-company/?hss_channel=tw-805839858992316416', \n",
    "               '/project/ocean-plastic-collection', '/projects', '(entrance)', \n",
    "               '/academy/is-it-too-late-for-our-planet/?preview_id=273&preview_nonce=80c11f0354&preview=true&_thumbnail_id=3911', \n",
    "               '/academy/the-benefits-of-monitoring-carbon-emissions-for-a-business/?hss_channel=lcp-17966020', \n",
    "               '/academy/the-benefits-of-monitoring-carbon-emissions-for-a-business/facebook-sharing-3/', \n",
    "               '/project/solid-waste-management-and-transformation-from-waste-to-revenue-in-gasabo-district', \n",
    "               '/academy/author/tara/', '/academy/?s=greenwashing&post_type=post', \n",
    "               '/academy/why-measure-carbon-emissions/wnitqlvwxbrd1p5kh0xnn3bwynvt0ybrkrv_mlppqba5bdc65pesfgco_azlypy1bs6jarbtw7xz2xsmkmv3ckkl2sqhxzg25tcybiqu4ikdh5qpqsmu_ego1e5gmnn8anhzpoyf-2/', \n",
    "               '(not set)' , '/academy/?s=whitepaper&post_type=post', \n",
    "               '/academy/release-carbon-manager-software/?fbclid=IwAR3nKFCmA8_dqWvoiVJqrMF17hAGS9aR9sfPfq-FXPwahG9Nzkv-TOxq3YU', \n",
    "               '/academy/release-carbon-manager-software/?hss_channel=lcp-17966020', '/academy/tag/spotify/', \n",
    "               '/academy/category/forests/', \n",
    "               '/academy/is-it-too-late-for-our-planet/?preview_id=273&preview_nonce=80c11f0354&preview=true&_thumbnail_id=3911', \n",
    "               '/academy/category/waste/', '/imprint',\n",
    "               '/academy/top-options-reduce-carbon-footprint/#35&utm_content=Planetarium+#35&utm_medium=email_action&utm_source=customer.io', \n",
    "               '/academy/why-measure-carbon-emissions/https:/plana.earth/academy/why-measure-carbon-emissions/']\n",
    "\n",
    "\n",
    "\n",
    "df_13 = df_13.replace(to_replace=unwanted_13, value=np.nan)"
   ]
  },
  {
   "cell_type": "code",
   "execution_count": null,
   "metadata": {},
   "outputs": [],
   "source": [
    "# filling NaN in goalPreviousStep1 with prev step goalPreviousStep2\n",
    "\n",
    "df_13.goalPreviousStep1.fillna(df_13.goalPreviousStep2, inplace=True)"
   ]
  },
  {
   "cell_type": "code",
   "execution_count": null,
   "metadata": {},
   "outputs": [],
   "source": [
    "# Now filling NaN in goalPreviousStep1 with prev step goalPreviousStep3\n",
    "\n",
    "df_13.goalPreviousStep1.fillna(df_13.goalPreviousStep3, inplace=True)"
   ]
  },
  {
   "cell_type": "code",
   "execution_count": null,
   "metadata": {},
   "outputs": [],
   "source": [
    "# dropping unneeded cols goalPreviousStep2 and goalPreviousStep3\n",
    "df_13 = df_13.drop(['goalPreviousStep2','goalPreviousStep3'], axis=1)"
   ]
  },
  {
   "cell_type": "code",
   "execution_count": null,
   "metadata": {},
   "outputs": [],
   "source": [
    "# keeping rows where goalstep1 not NaN\n",
    "\n",
    "df_13 = df_13[df_13['goalPreviousStep1'].notna()]"
   ]
  },
  {
   "cell_type": "code",
   "execution_count": null,
   "metadata": {},
   "outputs": [],
   "source": [
    "# conveting goalcompletions to int64\n",
    "\n",
    "df_13['goal13Completions'] = pd.to_numeric(df_13.goal13Completions)"
   ]
  },
  {
   "cell_type": "code",
   "execution_count": null,
   "metadata": {},
   "outputs": [],
   "source": [
    "df_13_group = df_13.groupby('goalPreviousStep1', as_index=False).agg({'goal13Completions':'sum'})"
   ]
  },
  {
   "cell_type": "code",
   "execution_count": 68,
   "metadata": {
    "scrolled": true
   },
   "outputs": [
    {
     "data": {
      "text/html": [
       "<div>\n",
       "<style scoped>\n",
       "    .dataframe tbody tr th:only-of-type {\n",
       "        vertical-align: middle;\n",
       "    }\n",
       "\n",
       "    .dataframe tbody tr th {\n",
       "        vertical-align: top;\n",
       "    }\n",
       "\n",
       "    .dataframe thead th {\n",
       "        text-align: right;\n",
       "    }\n",
       "</style>\n",
       "<table border=\"1\" class=\"dataframe\">\n",
       "  <thead>\n",
       "    <tr style=\"text-align: right;\">\n",
       "      <th></th>\n",
       "      <th>goalPreviousStep1</th>\n",
       "      <th>goal13Completions</th>\n",
       "    </tr>\n",
       "  </thead>\n",
       "  <tbody>\n",
       "    <tr>\n",
       "      <th>0</th>\n",
       "      <td>/academy/10-rules-plastic-free-office/</td>\n",
       "      <td>1</td>\n",
       "    </tr>\n",
       "    <tr>\n",
       "      <th>1</th>\n",
       "      <td>/academy/5-graphs-to-understand-climate-change/</td>\n",
       "      <td>1</td>\n",
       "    </tr>\n",
       "    <tr>\n",
       "      <th>2</th>\n",
       "      <td>/academy/a-message-from-the-mothership/</td>\n",
       "      <td>1</td>\n",
       "    </tr>\n",
       "    <tr>\n",
       "      <th>3</th>\n",
       "      <td>/academy/ai-climate-change/</td>\n",
       "      <td>2</td>\n",
       "    </tr>\n",
       "    <tr>\n",
       "      <th>4</th>\n",
       "      <td>/academy/blockchain-versus-sustainability/</td>\n",
       "      <td>1</td>\n",
       "    </tr>\n",
       "  </tbody>\n",
       "</table>\n",
       "</div>"
      ],
      "text/plain": [
       "                                 goalPreviousStep1  goal13Completions\n",
       "0           /academy/10-rules-plastic-free-office/                  1\n",
       "1  /academy/5-graphs-to-understand-climate-change/                  1\n",
       "2          /academy/a-message-from-the-mothership/                  1\n",
       "3                      /academy/ai-climate-change/                  2\n",
       "4       /academy/blockchain-versus-sustainability/                  1"
      ]
     },
     "execution_count": 68,
     "metadata": {},
     "output_type": "execute_result"
    }
   ],
   "source": [
    "df_13_group.head()"
   ]
  },
  {
   "cell_type": "markdown",
   "metadata": {},
   "source": [
    "# 3. Merging df_12 and df_13"
   ]
  },
  {
   "cell_type": "code",
   "execution_count": null,
   "metadata": {},
   "outputs": [],
   "source": [
    "df_goals = pd.concat([df_12_group, df_13_group]).reset_index()"
   ]
  },
  {
   "cell_type": "code",
   "execution_count": null,
   "metadata": {
    "scrolled": true
   },
   "outputs": [],
   "source": [
    "df_goals = df_goals.drop(['index'], axis=1)"
   ]
  },
  {
   "cell_type": "code",
   "execution_count": null,
   "metadata": {},
   "outputs": [],
   "source": [
    "df_goals.goalPreviousStep2.fillna(df_goals.goalPreviousStep1, inplace=True)"
   ]
  },
  {
   "cell_type": "code",
   "execution_count": null,
   "metadata": {},
   "outputs": [],
   "source": [
    "df_goals = df_goals.drop(['goalPreviousStep1'], axis=1)"
   ]
  },
  {
   "cell_type": "code",
   "execution_count": null,
   "metadata": {},
   "outputs": [],
   "source": [
    "df_goals.fillna(0, inplace=True)"
   ]
  },
  {
   "cell_type": "code",
   "execution_count": null,
   "metadata": {},
   "outputs": [],
   "source": [
    "df_goals = df_goals.groupby('goalPreviousStep2', as_index=False).agg({'goal12Completions':'sum',\n",
    "                                                                      'goal13Completions':'sum'})"
   ]
  },
  {
   "cell_type": "code",
   "execution_count": null,
   "metadata": {},
   "outputs": [],
   "source": [
    "# adding 'https://plana.earth' prefix to academy_url\n",
    "\n",
    "df_goals['goalPreviousStep2'] = 'https://plana.earth' + df_goals['goalPreviousStep2'].astype(str)"
   ]
  },
  {
   "cell_type": "code",
   "execution_count": null,
   "metadata": {
    "scrolled": true
   },
   "outputs": [],
   "source": [
    "goal_completions = df_goals.rename(columns={'goalPreviousStep2':'academy_url'})"
   ]
  },
  {
   "cell_type": "code",
   "execution_count": 64,
   "metadata": {
    "scrolled": true
   },
   "outputs": [
    {
     "data": {
      "text/html": [
       "<div>\n",
       "<style scoped>\n",
       "    .dataframe tbody tr th:only-of-type {\n",
       "        vertical-align: middle;\n",
       "    }\n",
       "\n",
       "    .dataframe tbody tr th {\n",
       "        vertical-align: top;\n",
       "    }\n",
       "\n",
       "    .dataframe thead th {\n",
       "        text-align: right;\n",
       "    }\n",
       "</style>\n",
       "<table border=\"1\" class=\"dataframe\">\n",
       "  <thead>\n",
       "    <tr style=\"text-align: right;\">\n",
       "      <th></th>\n",
       "      <th>academy_url</th>\n",
       "      <th>goal12Completions</th>\n",
       "      <th>goal13Completions</th>\n",
       "    </tr>\n",
       "  </thead>\n",
       "  <tbody>\n",
       "    <tr>\n",
       "      <th>0</th>\n",
       "      <td>https://plana.earth/academy/10-rules-plastic-free-office/</td>\n",
       "      <td>0.0</td>\n",
       "      <td>1.0</td>\n",
       "    </tr>\n",
       "    <tr>\n",
       "      <th>1</th>\n",
       "      <td>https://plana.earth/academy/5-graphs-to-understand-climate-change/</td>\n",
       "      <td>0.0</td>\n",
       "      <td>1.0</td>\n",
       "    </tr>\n",
       "    <tr>\n",
       "      <th>2</th>\n",
       "      <td>https://plana.earth/academy/a-message-from-the-mothership/</td>\n",
       "      <td>0.0</td>\n",
       "      <td>1.0</td>\n",
       "    </tr>\n",
       "    <tr>\n",
       "      <th>3</th>\n",
       "      <td>https://plana.earth/academy/ai-climate-change/</td>\n",
       "      <td>0.0</td>\n",
       "      <td>2.0</td>\n",
       "    </tr>\n",
       "    <tr>\n",
       "      <th>4</th>\n",
       "      <td>https://plana.earth/academy/blockchain-versus-sustainability/</td>\n",
       "      <td>0.0</td>\n",
       "      <td>1.0</td>\n",
       "    </tr>\n",
       "    <tr>\n",
       "      <th>5</th>\n",
       "      <td>https://plana.earth/academy/carbon-reduction-software-for-companies/</td>\n",
       "      <td>0.0</td>\n",
       "      <td>4.0</td>\n",
       "    </tr>\n",
       "    <tr>\n",
       "      <th>6</th>\n",
       "      <td>https://plana.earth/academy/climate-action-data-driven-approach/</td>\n",
       "      <td>0.0</td>\n",
       "      <td>4.0</td>\n",
       "    </tr>\n",
       "    <tr>\n",
       "      <th>7</th>\n",
       "      <td>https://plana.earth/academy/creating-plastic-monsters/</td>\n",
       "      <td>0.0</td>\n",
       "      <td>2.0</td>\n",
       "    </tr>\n",
       "    <tr>\n",
       "      <th>8</th>\n",
       "      <td>https://plana.earth/academy/earth-overshoot-day/</td>\n",
       "      <td>0.0</td>\n",
       "      <td>1.0</td>\n",
       "    </tr>\n",
       "    <tr>\n",
       "      <th>9</th>\n",
       "      <td>https://plana.earth/academy/from-waste-to-revenue-upcycling-in-rwanda/</td>\n",
       "      <td>0.0</td>\n",
       "      <td>1.0</td>\n",
       "    </tr>\n",
       "  </tbody>\n",
       "</table>\n",
       "</div>"
      ],
      "text/plain": [
       "                                                              academy_url  \\\n",
       "0               https://plana.earth/academy/10-rules-plastic-free-office/   \n",
       "1      https://plana.earth/academy/5-graphs-to-understand-climate-change/   \n",
       "2              https://plana.earth/academy/a-message-from-the-mothership/   \n",
       "3                          https://plana.earth/academy/ai-climate-change/   \n",
       "4           https://plana.earth/academy/blockchain-versus-sustainability/   \n",
       "5    https://plana.earth/academy/carbon-reduction-software-for-companies/   \n",
       "6        https://plana.earth/academy/climate-action-data-driven-approach/   \n",
       "7                  https://plana.earth/academy/creating-plastic-monsters/   \n",
       "8                        https://plana.earth/academy/earth-overshoot-day/   \n",
       "9  https://plana.earth/academy/from-waste-to-revenue-upcycling-in-rwanda/   \n",
       "\n",
       "   goal12Completions  goal13Completions  \n",
       "0                0.0                1.0  \n",
       "1                0.0                1.0  \n",
       "2                0.0                1.0  \n",
       "3                0.0                2.0  \n",
       "4                0.0                1.0  \n",
       "5                0.0                4.0  \n",
       "6                0.0                4.0  \n",
       "7                0.0                2.0  \n",
       "8                0.0                1.0  \n",
       "9                0.0                1.0  "
      ]
     },
     "execution_count": 64,
     "metadata": {},
     "output_type": "execute_result"
    }
   ],
   "source": [
    "goal_completions.head(10)"
   ]
  },
  {
   "cell_type": "code",
   "execution_count": null,
   "metadata": {},
   "outputs": [],
   "source": [
    "# import pickle\n",
    "\n",
    "# with open('../04_Data/goal_completions.pkl', 'wb') as gc:\n",
    "#    pickle.dump(goal_completions, gc, protocol=pickle.HIGHEST_PROTOCOL)"
   ]
  }
 ],
 "metadata": {
  "kernelspec": {
   "display_name": "Python 3",
   "language": "python",
   "name": "python3"
  },
  "language_info": {
   "codemirror_mode": {
    "name": "ipython",
    "version": 3
   },
   "file_extension": ".py",
   "mimetype": "text/x-python",
   "name": "python",
   "nbconvert_exporter": "python",
   "pygments_lexer": "ipython3",
   "version": "3.8.5"
  }
 },
 "nbformat": 4,
 "nbformat_minor": 4
}

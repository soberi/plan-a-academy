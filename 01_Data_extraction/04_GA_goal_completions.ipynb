{
 "cells": [
  {
   "cell_type": "markdown",
   "metadata": {},
   "source": [
    "# All-site data extraction from Google Analytics\n",
    "\n",
    "A possible (and first choice) success metric for the Academy posts is looking at which posts led to a conversion – this is the Goal Completion data. We'll have to walk back from the all-site data, as the conversion are not present in the Academy-only view."
   ]
  },
  {
   "cell_type": "code",
   "execution_count": null,
   "metadata": {},
   "outputs": [],
   "source": [
    "from apiclient.discovery import build\n",
    "from oauth2client.service_account import ServiceAccountCredentials\n",
    "\n",
    "# There was an error when trying to reuse the functions from\n",
    "# 03_GA_page_sessions, which is why they are all rewritten in\n",
    "# this notebook. Will troubleshoot after MVP\n",
    "from ga_extractor import ga_to_df\n",
    "\n",
    "import pandas as pd\n",
    "import numpy as np\n",
    "import json\n",
    "\n",
    "pd.set_option('display.max_colwidth', None)\n",
    "pd.set_option('display.max_rows', None)"
   ]
  },
  {
   "cell_type": "markdown",
   "metadata": {},
   "source": [
    "# 1. Checking that the connection is setup"
   ]
  },
  {
   "cell_type": "code",
   "execution_count": null,
   "metadata": {},
   "outputs": [],
   "source": [
    "SCOPES = ['https://www.googleapis.com/auth/analytics.readonly']\n",
    "KEY_FILE_LOCATION = 'keys/all_site_api.json'\n",
    "VIEW_ID = 'ga:151086072'"
   ]
  },
  {
   "cell_type": "code",
   "execution_count": null,
   "metadata": {},
   "outputs": [],
   "source": [
    "def initialize_analyticsreporting():\n",
    "    \"\"\"Initializes an Analytics Reporting API V4 service object.\n",
    "    Returns: An authorized Analytics Reporting API V4 service object.\"\"\"\n",
    "\n",
    "    credentials = ServiceAccountCredentials.from_json_keyfile_name(KEY_FILE_LOCATION, SCOPES)\n",
    "\n",
    "    # Build the service object.\n",
    "    analytics = build('analyticsreporting', 'v4', credentials=credentials)\n",
    "\n",
    "    return analytics"
   ]
  },
  {
   "cell_type": "code",
   "execution_count": null,
   "metadata": {},
   "outputs": [],
   "source": [
    "def get_report(analytics, metrics, dimensions, start, end):\n",
    "    \"\"\"Queries the Analytics Reporting API V4.\n",
    "    Args:\n",
    "    analytics: An authorized Analytics Reporting API V4 service object.\n",
    "    Returns:\n",
    "    The Analytics Reporting API V4 response.\n",
    "    Using date range 2020-11-09 to 2020-11-15 for testing purposes\"\"\"\n",
    "    METS = [f'ga:{metric}' for metric in metrics]\n",
    "    DIMS = [f'ga:{dimension}' for dimension in dimensions]\n",
    "    \n",
    "    return analytics.reports().batchGet(\n",
    "        body={\n",
    "            'reportRequests': [\n",
    "                                {\n",
    "                                    'viewId': VIEW_ID,\n",
    "                                    'dateRanges': [{'startDate': start\n",
    "                                                    , 'endDate': end}],\n",
    "                                    'metrics': [{'expression': expression} for expression in METS],\n",
    "                                    'orderBys': [{'fieldName': METS[0], \n",
    "                                                  'sortOrder': 'DESCENDING'}],\n",
    "                                    'dimensions': [{'name': name} for name in DIMS]\n",
    "                                }]\n",
    "            }).execute(), METS, DIMS"
   ]
  },
  {
   "cell_type": "code",
   "execution_count": null,
   "metadata": {},
   "outputs": [],
   "source": [
    "def to_df(response, METS, DIMS):\n",
    "    data_dict = {f\"{i}\": [] for i in DIMS + METS}\n",
    "    \n",
    "    for report in response.get('reports', []):\n",
    "        rows = report.get('data', {}).get('rows', [])\n",
    "        for row in rows:\n",
    "            for i, key in enumerate(DIMS):\n",
    "                data_dict[key].append(row.get('dimensions', [])[i])\n",
    "            date_values = row.get('metrics', [])\n",
    "            for values in date_values:\n",
    "                all_values = values.get('values', [])\n",
    "                for i, key in enumerate(METS):\n",
    "                    data_dict[key].append(all_values[i])\n",
    "                    \n",
    "    df = pd.DataFrame(data=data_dict)\n",
    "    df.columns = [col.split(':')[-1] for col in df.columns]\n",
    "    \n",
    "    return df"
   ]
  },
  {
   "cell_type": "code",
   "execution_count": null,
   "metadata": {},
   "outputs": [],
   "source": [
    "def ga_to_df(metrics,dimensions,start,end):\n",
    "    '''metrics = list, dimesnions = list,\n",
    "    start = str, end = str'''\n",
    "    analytics = initialize_analyticsreporting()\n",
    "    response, METS, DIMS = get_report(analytics, metrics, dimensions, start, end)\n",
    "    response_df = to_df(response, metrics, dimensions)\n",
    "    \n",
    "    return response_df"
   ]
  },
  {
   "cell_type": "code",
   "execution_count": null,
   "metadata": {},
   "outputs": [],
   "source": [
    "# Goal 12: book a demo success\n",
    "\n",
    "\n",
    "traceback_goal12 = ga_to_df(metrics=['goal12Completions'], \n",
    "                            dimensions=['goalPreviousStep1',\n",
    "                                        'goalPreviousStep2',\n",
    "                                        'goalPreviousStep3'],\n",
    "                            start='2020-01-01',\n",
    "                            end='2020-11-30')"
   ]
  },
  {
   "cell_type": "code",
   "execution_count": null,
   "metadata": {
    "scrolled": true
   },
   "outputs": [],
   "source": [
    "traceback_goal12.head()"
   ]
  },
  {
   "cell_type": "code",
   "execution_count": null,
   "metadata": {},
   "outputs": [],
   "source": [
    "# Goal 13: seen demo page\n",
    "\n",
    "\n",
    "traceback_goal13 = ga_to_df(metrics=['goal13Completions'], \n",
    "                            dimensions=['goalPreviousStep1',\n",
    "                                        'goalPreviousStep2',\n",
    "                                        'goalPreviousStep3'],\n",
    "                            start='2020-01-01',\n",
    "                            end='2020-11-30')"
   ]
  },
  {
   "cell_type": "code",
   "execution_count": null,
   "metadata": {},
   "outputs": [],
   "source": [
    "traceback_goal13.head()"
   ]
  },
  {
   "cell_type": "markdown",
   "metadata": {},
   "source": [
    "# Combine goal12 and goal13 for MVP\n",
    "\n",
    "- extract rows that refer to the academy, egal whether step 1, 2 or 3\n",
    "- combine 2 dataframes\n",
    "- cols = post_url | goal12 | goal13\n",
    "- prepend 'https://plana.earth' to urls"
   ]
  },
  {
   "cell_type": "markdown",
   "metadata": {},
   "source": [
    "# 2.1 extract academy rows for Goal 12"
   ]
  },
  {
   "cell_type": "code",
   "execution_count": null,
   "metadata": {},
   "outputs": [],
   "source": [
    "url = r'(\\/academy\\/[a-z])'"
   ]
  },
  {
   "cell_type": "code",
   "execution_count": null,
   "metadata": {},
   "outputs": [],
   "source": [
    "# only keep academy articles\n",
    "\n",
    "df_12 = traceback_goal12[(traceback_goal12['goalPreviousStep2'].str\n",
    "                                                            .contains(url) == True) | \n",
    "                      (traceback_goal12['goalPreviousStep3'].str\n",
    "                                                            .contains(url) == True)]"
   ]
  },
  {
   "cell_type": "code",
   "execution_count": null,
   "metadata": {
    "scrolled": true
   },
   "outputs": [],
   "source": [
    "df_12"
   ]
  },
  {
   "cell_type": "code",
   "execution_count": null,
   "metadata": {},
   "outputs": [],
   "source": [
    "# need to drop 23 and 24\n",
    "\n",
    "df_12 = df_12.drop([23, 24])"
   ]
  },
  {
   "cell_type": "code",
   "execution_count": null,
   "metadata": {},
   "outputs": [],
   "source": [
    "df_12"
   ]
  },
  {
   "cell_type": "code",
   "execution_count": null,
   "metadata": {},
   "outputs": [],
   "source": [
    "df_12 = df_12.drop(['goalPreviousStep1'], axis=1)"
   ]
  },
  {
   "cell_type": "code",
   "execution_count": null,
   "metadata": {},
   "outputs": [],
   "source": [
    "# replacing unwanted values\n",
    "unwanted = ['/', '/academy/']\n",
    "\n",
    "df_12 = df_12.replace(to_replace=unwanted, value=np.nan)"
   ]
  },
  {
   "cell_type": "code",
   "execution_count": null,
   "metadata": {},
   "outputs": [],
   "source": [
    "df_12"
   ]
  },
  {
   "cell_type": "code",
   "execution_count": null,
   "metadata": {},
   "outputs": [],
   "source": [
    "# new_col of col1 values\n",
    "# fillna() with prev step vals if NaN\n",
    "\n",
    "df_12.goalPreviousStep2.fillna(df_12.goalPreviousStep3, inplace=True)"
   ]
  },
  {
   "cell_type": "code",
   "execution_count": null,
   "metadata": {},
   "outputs": [],
   "source": [
    "df_12"
   ]
  },
  {
   "cell_type": "code",
   "execution_count": null,
   "metadata": {},
   "outputs": [],
   "source": [
    "df_12 = df_12.drop(['goalPreviousStep3'], axis=1)"
   ]
  },
  {
   "cell_type": "code",
   "execution_count": null,
   "metadata": {},
   "outputs": [],
   "source": [
    "df_12"
   ]
  },
  {
   "cell_type": "code",
   "execution_count": null,
   "metadata": {},
   "outputs": [],
   "source": [
    "df_12.info()"
   ]
  },
  {
   "cell_type": "code",
   "execution_count": null,
   "metadata": {},
   "outputs": [],
   "source": [
    "# conveting goalcompletions to int64\n",
    "\n",
    "df_12['goal12Completions'] = pd.to_numeric(df_12.goal12Completions)"
   ]
  },
  {
   "cell_type": "code",
   "execution_count": null,
   "metadata": {},
   "outputs": [],
   "source": [
    "# groupby article name\n",
    "\n",
    "df_12_group = df_12.groupby('goalPreviousStep2', as_index=False).agg({'goal12Completions':'sum'})"
   ]
  },
  {
   "cell_type": "code",
   "execution_count": null,
   "metadata": {},
   "outputs": [],
   "source": [
    "df_12_group"
   ]
  },
  {
   "cell_type": "markdown",
   "metadata": {},
   "source": [
    "# 2.2 extract academy rows for Goal 13"
   ]
  },
  {
   "cell_type": "code",
   "execution_count": null,
   "metadata": {},
   "outputs": [],
   "source": [
    "traceback_goal13"
   ]
  },
  {
   "cell_type": "code",
   "execution_count": null,
   "metadata": {},
   "outputs": [],
   "source": [
    "# url = r'(\\/academy\\/[a-z])'\n",
    "# only keep academy articles\n",
    "\n",
    "df_13 = traceback_goal13[(traceback_goal13['goalPreviousStep1'].str.contains(url) == True) | \n",
    "                         (traceback_goal13['goalPreviousStep2'].str.contains(url) == True) | \n",
    "                         (traceback_goal13['goalPreviousStep3'].str.contains(url) == True)]"
   ]
  },
  {
   "cell_type": "code",
   "execution_count": null,
   "metadata": {},
   "outputs": [],
   "source": [
    "df_13"
   ]
  },
  {
   "cell_type": "code",
   "execution_count": null,
   "metadata": {},
   "outputs": [],
   "source": [
    "# removing manually, will set up regex finder at later stage\n",
    "\n",
    "unwanted_13 = ['/', '/academy/', '/about', '/faq', '/offsetting', \n",
    "               '/academy/how-to-check-the-sustainability-of-your-company/?hss_channel=tw-805839858992316416', \n",
    "               '/project/ocean-plastic-collection', '/projects', '(entrance)', \n",
    "               '/academy/is-it-too-late-for-our-planet/?preview_id=273&preview_nonce=80c11f0354&preview=true&_thumbnail_id=3911', \n",
    "               '/academy/the-benefits-of-monitoring-carbon-emissions-for-a-business/?hss_channel=lcp-17966020', \n",
    "               '/academy/the-benefits-of-monitoring-carbon-emissions-for-a-business/facebook-sharing-3/', \n",
    "               '/project/solid-waste-management-and-transformation-from-waste-to-revenue-in-gasabo-district', \n",
    "               '/academy/author/tara/', '/academy/?s=greenwashing&post_type=post', \n",
    "               '/academy/why-measure-carbon-emissions/wnitqlvwxbrd1p5kh0xnn3bwynvt0ybrkrv_mlppqba5bdc65pesfgco_azlypy1bs6jarbtw7xz2xsmkmv3ckkl2sqhxzg25tcybiqu4ikdh5qpqsmu_ego1e5gmnn8anhzpoyf-2/', \n",
    "               '(not set)' , '/academy/?s=whitepaper&post_type=post', \n",
    "               '/academy/release-carbon-manager-software/?fbclid=IwAR3nKFCmA8_dqWvoiVJqrMF17hAGS9aR9sfPfq-FXPwahG9Nzkv-TOxq3YU', \n",
    "               '/academy/release-carbon-manager-software/?hss_channel=lcp-17966020', '/academy/tag/spotify/', \n",
    "               '/academy/category/forests/', \n",
    "               '/academy/is-it-too-late-for-our-planet/?preview_id=273&preview_nonce=80c11f0354&preview=true&_thumbnail_id=3911', \n",
    "               '/academy/category/waste/', '/imprint',\n",
    "               '/academy/top-options-reduce-carbon-footprint/#35&utm_content=Planetarium+#35&utm_medium=email_action&utm_source=customer.io', \n",
    "               '/academy/why-measure-carbon-emissions/https:/plana.earth/academy/why-measure-carbon-emissions/']\n",
    "\n",
    "\n",
    "\n",
    "df_13 = df_13.replace(to_replace=unwanted_13, value=np.nan)"
   ]
  },
  {
   "cell_type": "code",
   "execution_count": null,
   "metadata": {},
   "outputs": [],
   "source": [
    "df_13"
   ]
  },
  {
   "cell_type": "code",
   "execution_count": null,
   "metadata": {},
   "outputs": [],
   "source": [
    "# filling NaN in goalPreviousStep1 with prev step goalPreviousStep2\n",
    "\n",
    "df_13.goalPreviousStep1.fillna(df_13.goalPreviousStep2, inplace=True)"
   ]
  },
  {
   "cell_type": "code",
   "execution_count": null,
   "metadata": {},
   "outputs": [],
   "source": [
    "df_13"
   ]
  },
  {
   "cell_type": "code",
   "execution_count": null,
   "metadata": {},
   "outputs": [],
   "source": [
    "# Now filling NaN in goalPreviousStep1 with prev step goalPreviousStep3\n",
    "\n",
    "df_13.goalPreviousStep1.fillna(df_13.goalPreviousStep3, inplace=True)"
   ]
  },
  {
   "cell_type": "code",
   "execution_count": null,
   "metadata": {},
   "outputs": [],
   "source": [
    "df_13"
   ]
  },
  {
   "cell_type": "code",
   "execution_count": null,
   "metadata": {},
   "outputs": [],
   "source": [
    "# dropping unneeded cols goalPreviousStep2 and goalPreviousStep3\n",
    "df_13 = df_13.drop(['goalPreviousStep2','goalPreviousStep3'], axis=1)"
   ]
  },
  {
   "cell_type": "code",
   "execution_count": null,
   "metadata": {},
   "outputs": [],
   "source": [
    "df_13"
   ]
  },
  {
   "cell_type": "code",
   "execution_count": null,
   "metadata": {},
   "outputs": [],
   "source": [
    "# keeping rows where goalstep1 not NaN\n",
    "\n",
    "df_13 = df_13[df_13['goalPreviousStep1'].notna()]"
   ]
  },
  {
   "cell_type": "code",
   "execution_count": null,
   "metadata": {},
   "outputs": [],
   "source": [
    "df_13"
   ]
  },
  {
   "cell_type": "code",
   "execution_count": null,
   "metadata": {},
   "outputs": [],
   "source": [
    "# conveting goalcompletions to int64\n",
    "\n",
    "df_13['goal13Completions'] = pd.to_numeric(df_13.goal13Completions)"
   ]
  },
  {
   "cell_type": "code",
   "execution_count": null,
   "metadata": {},
   "outputs": [],
   "source": [
    "df_13_group = df_13.groupby('goalPreviousStep1', as_index=False).agg({'goal13Completions':'sum'})"
   ]
  },
  {
   "cell_type": "code",
   "execution_count": null,
   "metadata": {
    "scrolled": true
   },
   "outputs": [],
   "source": [
    "df_13_group"
   ]
  },
  {
   "cell_type": "markdown",
   "metadata": {},
   "source": [
    "# 3. Merging df_12 and df_13"
   ]
  },
  {
   "cell_type": "code",
   "execution_count": null,
   "metadata": {},
   "outputs": [],
   "source": [
    "df_12_group"
   ]
  },
  {
   "cell_type": "code",
   "execution_count": null,
   "metadata": {},
   "outputs": [],
   "source": [
    "df_goals = pd.concat([df_12_group, df_13_group]).reset_index()"
   ]
  },
  {
   "cell_type": "code",
   "execution_count": null,
   "metadata": {
    "scrolled": true
   },
   "outputs": [],
   "source": [
    "df_goals = df_goals.drop(['index'], axis=1)"
   ]
  },
  {
   "cell_type": "code",
   "execution_count": null,
   "metadata": {
    "scrolled": true
   },
   "outputs": [],
   "source": [
    "df_goals"
   ]
  },
  {
   "cell_type": "code",
   "execution_count": null,
   "metadata": {},
   "outputs": [],
   "source": [
    "df_goals.goalPreviousStep2.fillna(df_goals.goalPreviousStep1, inplace=True)"
   ]
  },
  {
   "cell_type": "code",
   "execution_count": null,
   "metadata": {
    "scrolled": true
   },
   "outputs": [],
   "source": [
    "df_goals"
   ]
  },
  {
   "cell_type": "code",
   "execution_count": null,
   "metadata": {},
   "outputs": [],
   "source": [
    "df_goals = df_goals.drop(['goalPreviousStep1'], axis=1)"
   ]
  },
  {
   "cell_type": "code",
   "execution_count": null,
   "metadata": {
    "scrolled": true
   },
   "outputs": [],
   "source": [
    "df_goals"
   ]
  },
  {
   "cell_type": "code",
   "execution_count": null,
   "metadata": {},
   "outputs": [],
   "source": [
    "df_goals.fillna(0, inplace=True)"
   ]
  },
  {
   "cell_type": "code",
   "execution_count": null,
   "metadata": {
    "scrolled": true
   },
   "outputs": [],
   "source": [
    "df_goals"
   ]
  },
  {
   "cell_type": "code",
   "execution_count": null,
   "metadata": {},
   "outputs": [],
   "source": [
    "df_goals = df_goals.groupby('goalPreviousStep2', as_index=False).agg({'goal12Completions':'sum',\n",
    "                                                                      'goal13Completions':'sum'})"
   ]
  },
  {
   "cell_type": "code",
   "execution_count": null,
   "metadata": {
    "scrolled": true
   },
   "outputs": [],
   "source": [
    "df_goals"
   ]
  },
  {
   "cell_type": "code",
   "execution_count": null,
   "metadata": {},
   "outputs": [],
   "source": [
    "# adding 'https://plana.earth' prefix to academy_url\n",
    "\n",
    "df_goals['goalPreviousStep2'] = 'https://plana.earth' + df_goals['goalPreviousStep2'].astype(str)"
   ]
  },
  {
   "cell_type": "code",
   "execution_count": null,
   "metadata": {
    "scrolled": true
   },
   "outputs": [],
   "source": [
    "df_goals"
   ]
  },
  {
   "cell_type": "code",
   "execution_count": null,
   "metadata": {
    "scrolled": true
   },
   "outputs": [],
   "source": [
    "goal_completions = df_goals.rename(columns={'goalPreviousStep2':'academy_url'})"
   ]
  },
  {
   "cell_type": "code",
   "execution_count": null,
   "metadata": {
    "scrolled": true
   },
   "outputs": [],
   "source": [
    "goal_completions"
   ]
  },
  {
   "cell_type": "code",
   "execution_count": null,
   "metadata": {},
   "outputs": [],
   "source": [
    "#import pickle\n",
    "\n",
    "#with open('../01_LDA_model/pkl_cellar/goal_completions.pkl', 'wb') as gc:\n",
    "#    pickle.dump(goal_completions, gc, protocol=pickle.HIGHEST_PROTOCOL)"
   ]
  }
 ],
 "metadata": {
  "kernelspec": {
   "display_name": "Python 3",
   "language": "python",
   "name": "python3"
  },
  "language_info": {
   "codemirror_mode": {
    "name": "ipython",
    "version": 3
   },
   "file_extension": ".py",
   "mimetype": "text/x-python",
   "name": "python",
   "nbconvert_exporter": "python",
   "pygments_lexer": "ipython3",
   "version": "3.8.5"
  }
 },
 "nbformat": 4,
 "nbformat_minor": 4
}

{
 "cells": [
  {
   "cell_type": "markdown",
   "metadata": {},
   "source": [
    "## Selenium for article permalinks\n",
    "Due to frontend refactoring, the code 'find_element_by_class_name('more-articles-trigger')' may no longer work in order to load more articles. This code will only be rerun and the permalinks.txt updated once the MVP is completed. "
   ]
  },
  {
   "cell_type": "code",
   "execution_count": null,
   "metadata": {},
   "outputs": [],
   "source": [
    "from selenium import webdriver\n",
    "import time"
   ]
  },
  {
   "cell_type": "code",
   "execution_count": null,
   "metadata": {},
   "outputs": [],
   "source": [
    "# open browser\n",
    "driver = webdriver.Chrome()"
   ]
  },
  {
   "cell_type": "code",
   "execution_count": null,
   "metadata": {},
   "outputs": [],
   "source": [
    "# open academy\n",
    "driver.get('https://plana.earth/academy/')"
   ]
  },
  {
   "cell_type": "code",
   "execution_count": null,
   "metadata": {},
   "outputs": [],
   "source": [
    "# Locate \"Load more\" button\n",
    "load_more = driver.find_element_by_class_name('more-articles-trigger')"
   ]
  },
  {
   "cell_type": "code",
   "execution_count": null,
   "metadata": {},
   "outputs": [],
   "source": [
    "load_more"
   ]
  },
  {
   "cell_type": "code",
   "execution_count": null,
   "metadata": {},
   "outputs": [],
   "source": [
    "# run about 50 times to get all posts on page\n",
    "load_more.click()"
   ]
  },
  {
   "cell_type": "code",
   "execution_count": null,
   "metadata": {},
   "outputs": [],
   "source": [
    "main = driver.find_element_by_tag_name('main')"
   ]
  },
  {
   "cell_type": "code",
   "execution_count": null,
   "metadata": {},
   "outputs": [],
   "source": [
    "articles = main.find_elements_by_tag_name('article')"
   ]
  },
  {
   "cell_type": "code",
   "execution_count": null,
   "metadata": {},
   "outputs": [],
   "source": [
    "permalinks = []\n",
    "\n",
    "for article in articles:\n",
    "    article_href = article.find_element_by_tag_name('a')\n",
    "    permalinks.append(article_href.get_attribute(\"href\"))"
   ]
  },
  {
   "cell_type": "code",
   "execution_count": 72,
   "metadata": {},
   "outputs": [
    {
     "data": {
      "text/plain": [
       "['https://plana.earth/academy/how-sustainable-is-your-office-christmas-party/',\n",
       " 'https://plana.earth/academy/how-joe-biden-u-s-will-rejoin-paris-agreement/',\n",
       " 'https://plana.earth/academy/playlist-for-the-planet-arab-world-music-for-the-vibrant-city-of-beirut/',\n",
       " 'https://plana.earth/academy/how-sustainable-is-your-office-christmas-party/',\n",
       " 'https://plana.earth/academy/how-joe-biden-u-s-will-rejoin-paris-agreement/',\n",
       " 'https://plana.earth/academy/playlist-for-the-planet-arab-world-music-for-the-vibrant-city-of-beirut/',\n",
       " 'https://plana.earth/academy/how-sustainable-is-your-office-christmas-party/',\n",
       " 'https://plana.earth/academy/playlist-for-the-planet-disco-funk-music-love-disco-dance-playlist/',\n",
       " 'https://plana.earth/academy/mitigating-climate-change-it-starts-with-better-ocean-data/',\n",
       " 'https://plana.earth/academy/environmental-impact-2020-pandemic-covid19-nature-is-not-healing/',\n",
       " 'https://plana.earth/academy/why-president-of-european-commission-has-spoken-about-plan-a/',\n",
       " 'https://plana.earth/academy/black-friday-revolution-planet-not-for-sale/',\n",
       " 'https://plana.earth/academy/playlist-for-the-planet-german-immersion/',\n",
       " 'https://plana.earth/academy/invest-in-sustainable-future-make-2021-count/',\n",
       " 'https://plana.earth/academy/multinational-companies-emit-20-percent-global-co2-emissions/',\n",
       " 'https://plana.earth/academy/plana-new-brand-identity/',\n",
       " 'https://plana.earth/academy/how-to-check-the-sustainability-of-your-company/',\n",
       " 'https://plana.earth/academy/cooking-gas-local-outreach-clean-stove/',\n",
       " 'https://plana.earth/academy/world-cleanup-day-park/',\n",
       " 'https://plana.earth/academy/how-to-spot-greenwashing/',\n",
       " 'https://plana.earth/academy/music-playlist-berlin-techno/',\n",
       " 'https://plana.earth/academy/planetary-hero-ingrid-frontend-developer-plan-a/',\n",
       " 'https://plana.earth/academy/sustainable-friday-tips-plan-a-office-part-3/',\n",
       " 'https://plana.earth/academy/top-5-biodiversity-important-carbon-dioxide/',\n",
       " 'https://plana.earth/academy/top-options-reduce-carbon-footprint/',\n",
       " 'https://plana.earth/academy/what-are-scope-1-2-3-emissions/',\n",
       " 'https://plana.earth/academy/playlist-for-planet-2000s-pop-music-revival/',\n",
       " 'https://plana.earth/academy/creating-plastic-monsters/',\n",
       " 'https://plana.earth/academy/sustainable-friday-tips-from-plan-a-office/',\n",
       " 'https://plana.earth/academy/10-rules-plastic-free-office/',\n",
       " 'https://plana.earth/academy/10-steps-sustainability-conversation-office-ceo/',\n",
       " 'https://plana.earth/academy/why-must-company-work-become-sustainable/',\n",
       " 'https://plana.earth/academy/sustainable-friday-tips-plan-a-green-office/',\n",
       " 'https://plana.earth/academy/playlist-for-the-planet-fauna-flora/',\n",
       " 'https://plana.earth/academy/brief-history-river-conservation/',\n",
       " 'https://plana.earth/academy/ai-climate-change/',\n",
       " 'https://plana.earth/academy/summer-fruit-vegetables-sustainable-living-food/',\n",
       " 'https://plana.earth/academy/whitepaper-why-does-sustainability-matter-to-your-business/',\n",
       " 'https://plana.earth/academy/why-measure-carbon-emissions/',\n",
       " 'https://plana.earth/academy/green-recovery-european-union/',\n",
       " 'https://plana.earth/academy/indigenous-community-local-knowledge-fight-climate-change-research/',\n",
       " 'https://plana.earth/academy/women-stem-tech-2020/',\n",
       " 'https://plana.earth/academy/5-reasons-to-give-ceo-climate-action/',\n",
       " 'https://plana.earth/academy/covid-climate-change-sasha-bezuhanova/',\n",
       " 'https://plana.earth/academy/covid-19-climate-change-takeaways/',\n",
       " 'https://plana.earth/academy/mymoneymyplanet-banking-sustainable-finance-campaign/',\n",
       " 'https://plana.earth/academy/plan-a-turns-3-years-old/',\n",
       " 'https://plana.earth/academy/coronavirus-businesses-help-society/',\n",
       " 'https://plana.earth/academy/the-benefits-of-monitoring-carbon-emissions-for-a-business/',\n",
       " 'https://plana.earth/academy/getting-creative-with-emily-besas-sustainability/',\n",
       " 'https://plana.earth/academy/sustainable-shoes-iva-minkova/',\n",
       " 'https://plana.earth/academy/aviation-heavy-industry-and-energy-3-sectors-ripe-for-a-tech-revolution/',\n",
       " 'https://plana.earth/academy/tracking-climate-data-and-cheetahs-with-ivan-palmegiani/',\n",
       " 'https://plana.earth/academy/how-can-the-circular-economy-support-sustainable-development/',\n",
       " 'https://plana.earth/academy/happy-holidays-from-plan-a/',\n",
       " 'https://plana.earth/academy/start-a-green-team-in-your-company/',\n",
       " 'https://plana.earth/academy/carbon-reduction-software-for-companies/',\n",
       " 'https://plana.earth/academy/its-time-to-slow-down/',\n",
       " 'https://plana.earth/academy/planetnotforsale-take-part-in-our-black-friday-campaign/',\n",
       " 'https://plana.earth/academy/antibiotic-resistance-wildlife-ecosystem/',\n",
       " 'https://plana.earth/academy/protect-amazon-investing-indigenous-culture-in-brazil/',\n",
       " 'https://plana.earth/academy/clubs-berlin-sustainable-future/',\n",
       " 'https://plana.earth/academy/sustainable-climate-change-organisation-partnership/',\n",
       " 'https://plana.earth/academy/hurricane-climate-change-relation-powerful-frequent/',\n",
       " 'https://plana.earth/academy/measuring-climate-change-life-cycle-analysis/',\n",
       " 'https://plana.earth/academy/mapping-berlin-sustainable-action-with-natalie-magee/',\n",
       " 'https://plana.earth/academy/how-generate-100-percent-renewable-electricity/',\n",
       " 'https://plana.earth/academy/using-social-media-for-climate-action/',\n",
       " 'https://plana.earth/academy/infographic-spooky-data-climate-change/',\n",
       " 'https://plana.earth/academy/data-gaps-climate-science/',\n",
       " 'https://plana.earth/academy/infographic-fast-fashion-industry/',\n",
       " 'https://plana.earth/academy/the-stakeholders-of-climate-change/',\n",
       " 'https://plana.earth/academy/is-it-too-late-for-our-planet/',\n",
       " 'https://plana.earth/academy/why-organise-park-clean-up/',\n",
       " 'https://plana.earth/academy/what-climate-change-effects-will-a-greenland-shark-born-today-experience/',\n",
       " 'https://plana.earth/academy/an-identity-in-danger-climate-change-in-mongolia/',\n",
       " 'https://plana.earth/academy/infographic-iucn-endangered-species-red-list/',\n",
       " 'https://plana.earth/academy/climate-mayday-on-the-aviation-industry/',\n",
       " 'https://plana.earth/academy/synergy-climate-action/',\n",
       " 'https://plana.earth/academy/why-fish-disappearing-overfishing/',\n",
       " 'https://plana.earth/academy/measuring-climate-change-what-are-marine-protected-areas/',\n",
       " 'https://plana.earth/academy/autumn-fruit-and-vegetable-calendar/',\n",
       " 'https://plana.earth/academy/infographic-the-internets-carbon-footprint/',\n",
       " 'https://plana.earth/academy/little-big-things-the-insect-armageddon/',\n",
       " 'https://plana.earth/academy/letters-from-the-climate-front-forest-recovery-in-the-brazilian-amazon/',\n",
       " 'https://plana.earth/academy/opening-windows-on-the-people-of-the-world-with-amar-bakshi/',\n",
       " 'https://plana.earth/academy/climate-front-elephant-conflict-co-existence-malaysia/',\n",
       " 'https://plana.earth/academy/planetary-hero-13-ben-trollope/',\n",
       " 'https://plana.earth/academy/playlist-african-jazz-for-the-planet/',\n",
       " 'https://plana.earth/academy/the-woman-who-led-the-fight-against-the-dutch-government-and-won/',\n",
       " 'https://plana.earth/academy/datacenters-environmental-threat-or-chance-of-a-sustainable-future/',\n",
       " 'https://plana.earth/academy/infographic-air-conditioning/',\n",
       " 'https://plana.earth/academy/how-is-berlin-nightlife-preparing-for-the-green-transition/',\n",
       " 'https://plana.earth/academy/final-frontier-reaching-for-the-stars/',\n",
       " 'https://plana.earth/academy/infographic-earth-overshoot-day-2019/',\n",
       " 'https://plana.earth/academy/planetary-hero-11-sami-deweerdt/',\n",
       " 'https://plana.earth/academy/eliminating-single-use-straws-halm/',\n",
       " 'https://plana.earth/academy/planetary-hero-10-amy-mcpherson/',\n",
       " 'https://plana.earth/academy/carving-out-the-new-world-with-the-woodwork-academy/',\n",
       " 'https://plana.earth/academy/summer-fruit-and-vegetable-calendar/',\n",
       " 'https://plana.earth/academy/from-waste-to-revenue-upcycling-in-rwanda/',\n",
       " 'https://plana.earth/academy/building-bridges-for-climate-fundraising/',\n",
       " 'https://plana.earth/academy/putting-data-to-the-service-of-action-with-tom-crowther/',\n",
       " 'https://plana.earth/academy/eu-parliamentary-elections-matter-why/',\n",
       " 'https://plana.earth/academy/art-and-sustainability-zeitgeist-19/',\n",
       " 'https://plana.earth/academy/woman-who-inspired-the-environmental-movement/',\n",
       " 'https://plana.earth/academy/we-have-visited-earth-for-earth-day/',\n",
       " 'https://plana.earth/academy/spring-fruit-and-vegetable-calendar/',\n",
       " 'https://plana.earth/academy/what-is-climate-vulnerability-and-readiness/',\n",
       " 'https://plana.earth/academy/5-graphs-to-understand-climate-change/',\n",
       " 'https://plana.earth/academy/doing-fashion-right-assunta-crux/',\n",
       " 'https://plana.earth/academy/waters-edge-gender-climate/',\n",
       " 'https://plana.earth/academy/lemur-ally-social-media/',\n",
       " 'https://plana.earth/academy/playlist-planet-hip-hop-loves-nature/',\n",
       " 'https://plana.earth/academy/food-shopping-in-the-forest/',\n",
       " 'https://plana.earth/academy/planetary-hero-vamsi-akuraju/',\n",
       " 'https://plana.earth/academy/yvon-chouinard-patagonia-boss-has-something-to-share/',\n",
       " 'https://plana.earth/academy/blockchain-versus-sustainability/',\n",
       " 'https://plana.earth/academy/drivers-of-deforestation/',\n",
       " 'https://plana.earth/academy/deep-dive-into-ecosystem-services/',\n",
       " 'https://plana.earth/academy/climate-action-data-driven-approach/',\n",
       " 'https://plana.earth/academy/faq-of-climate-change/',\n",
       " 'https://plana.earth/academy/the-urban-exodus-of-wildlife/',\n",
       " 'https://plana.earth/academy/discussing-degrowth-with-giorgos-kallis/',\n",
       " 'https://plana.earth/academy/playlist-for-the-planet-christmas-carol-rock/',\n",
       " 'https://plana.earth/academy/planetary-hero-lubomila-jordanova/',\n",
       " 'https://plana.earth/academy/wework-creator-awards-winner/',\n",
       " 'https://plana.earth/academy/zero-emissions-day/',\n",
       " 'https://plana.earth/academy/planetary-hero-takashi-ueda/',\n",
       " 'https://plana.earth/academy/planetary-hero-petya-koleva/',\n",
       " 'https://plana.earth/academy/excuses-kids-climate-change/',\n",
       " 'https://plana.earth/academy/where-has-the-berlin-bear-gone/',\n",
       " 'https://plana.earth/academy/imagining-the-design-of-the-future-with-jeremy-faludi-part-2/',\n",
       " 'https://plana.earth/academy/planetary-hero-nathan-bonnisseau/',\n",
       " 'https://plana.earth/academy/planetary-hero-tom-kerby/',\n",
       " 'https://plana.earth/academy/wildfires-related-climate-change/',\n",
       " 'https://plana.earth/academy/most-powerful-greenhouse-gas/',\n",
       " 'https://plana.earth/academy/planetary-hero-scarlett-otoole/',\n",
       " 'https://plana.earth/academy/playlist-for-the-planet-cool-cosy-october/',\n",
       " 'https://plana.earth/academy/playlist-planet-back-school/',\n",
       " 'https://plana.earth/academy/putting-art-to-work-al-grumet/',\n",
       " 'https://plana.earth/academy/playlist-planet-summer-vibrations/',\n",
       " 'https://plana.earth/academy/planetary-hero-berta-llugany/',\n",
       " 'https://plana.earth/academy/road-to-sustainability/',\n",
       " 'https://plana.earth/academy/imagining-the-design-of-the-future-with-jeremy-faludi-part-1/',\n",
       " 'https://plana.earth/academy/event-time-for-a-summer-clean-up-in-the-park/',\n",
       " 'https://plana.earth/academy/biophilic-design-productivity-workspace/',\n",
       " 'https://plana.earth/academy/plana-algorithm/',\n",
       " 'https://plana.earth/academy/bees-wildlife/',\n",
       " 'https://plana.earth/academy/mission-possible-grow-life-a-used-veggie/',\n",
       " 'https://plana.earth/academy/mission-possible-meat-free/',\n",
       " 'https://plana.earth/academy/celebrate-earth-day-this-year/',\n",
       " 'https://plana.earth/academy/new-relationship-wilderness/',\n",
       " 'https://plana.earth/academy/berlins-first-water-festival/',\n",
       " 'https://plana.earth/academy/proof-is-poop/',\n",
       " 'https://plana.earth/academy/lemurs-love/',\n",
       " 'https://plana.earth/academy/fair-trade-chocolate/',\n",
       " 'https://plana.earth/academy/riverboating-awely-renaud-fulconis/',\n",
       " 'https://plana.earth/academy/big-teeth-big-hearts-wildlife-campaign/',\n",
       " 'https://plana.earth/academy/expedition-photographer-valentin-pacaut/',\n",
       " 'https://plana.earth/academy/tales-of-a-tree/',\n",
       " 'https://plana.earth/academy/palm-oils-irresistible-rise/',\n",
       " 'https://plana.earth/academy/pipeline-and-rivers/',\n",
       " 'https://plana.earth/academy/trees-have-internet/',\n",
       " 'https://plana.earth/academy/shaping-environment-consequences/',\n",
       " 'https://plana.earth/academy/bye-bye-cassini/',\n",
       " 'https://plana.earth/academy/europe-climate-change-and-the-world/',\n",
       " 'https://plana.earth/academy/how-did-we-find-out-about-climate-change/',\n",
       " 'https://plana.earth/academy/earth-overshoot-day/',\n",
       " 'https://plana.earth/academy/what-are-we-overshooting-exactly/',\n",
       " 'https://plana.earth/academy/so-whats-this-plan-a-anyway/',\n",
       " 'https://plana.earth/academy/playlists-for-the-planet/',\n",
       " 'https://plana.earth/academy/happy-world-environment-day/',\n",
       " 'https://plana.earth/academy/cop21-paris-agreement-stands/',\n",
       " 'https://plana.earth/academy/a-message-from-the-mothership/',\n",
       " 'https://plana.earth/academy/there-is-no-plan-b-for-our-planet/',\n",
       " 'https://plana.earth/academy/what-do-we-do-with-all-that-carbon/',\n",
       " 'https://plana.earth/academy/trees-men/']"
      ]
     },
     "execution_count": 72,
     "metadata": {},
     "output_type": "execute_result"
    }
   ],
   "source": [
    "permalinks"
   ]
  },
  {
   "cell_type": "code",
   "execution_count": 73,
   "metadata": {},
   "outputs": [],
   "source": [
    "# Saved on 12/01/2021\n",
    "\n",
    "with open('../04_Data/academy_permalinks.txt', 'w') as filehandle:\n",
    "    filehandle.writelines(\"%s\\n\" % link for link in permalinks)"
   ]
  },
  {
   "cell_type": "code",
   "execution_count": null,
   "metadata": {},
   "outputs": [],
   "source": [
    "# to close the browser\n",
    "driver.quit()"
   ]
  }
 ],
 "metadata": {
  "kernelspec": {
   "display_name": "Python 3",
   "language": "python",
   "name": "python3"
  },
  "language_info": {
   "codemirror_mode": {
    "name": "ipython",
    "version": 3
   },
   "file_extension": ".py",
   "mimetype": "text/x-python",
   "name": "python",
   "nbconvert_exporter": "python",
   "pygments_lexer": "ipython3",
   "version": "3.8.5"
  }
 },
 "nbformat": 4,
 "nbformat_minor": 4
}

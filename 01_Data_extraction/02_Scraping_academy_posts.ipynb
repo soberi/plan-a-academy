{
 "cells": [
  {
   "cell_type": "markdown",
   "metadata": {},
   "source": [
    "## Scraping content from the Academy\n",
    "\n",
    "- Import permalinks list of all blog posts\n",
    "- Run list through web_scraper function to get df\n",
    "- Clean df data\n",
    "- Export as csv for LDA model"
   ]
  },
  {
   "cell_type": "markdown",
   "metadata": {},
   "source": [
    "### 1. Gathering list of urls"
   ]
  },
  {
   "cell_type": "code",
   "execution_count": null,
   "metadata": {},
   "outputs": [],
   "source": [
    "import pandas as pd\n",
    "from academy_extractor import scraped_to_df\n",
    "\n",
    "pd.set_option('display.max_colwidth', None)\n",
    "pd.set_option('display.max_rows', None)"
   ]
  },
  {
   "cell_type": "code",
   "execution_count": null,
   "metadata": {},
   "outputs": [],
   "source": [
    "permalinks = []\n",
    "\n",
    "with open('../04_Data/academy_permalinks.txt', 'r') as filehandle:\n",
    "    permalinks = [current_link.rstrip() for current_link in filehandle.readlines()]"
   ]
  },
  {
   "cell_type": "code",
   "execution_count": 23,
   "metadata": {},
   "outputs": [
    {
     "data": {
      "text/plain": [
       "178"
      ]
     },
     "execution_count": 23,
     "metadata": {},
     "output_type": "execute_result"
    }
   ],
   "source": [
    "len(permalinks)"
   ]
  },
  {
   "cell_type": "markdown",
   "metadata": {},
   "source": [
    "### 2. Testing the df function"
   ]
  },
  {
   "cell_type": "code",
   "execution_count": null,
   "metadata": {},
   "outputs": [],
   "source": [
    "test_list = [permalinks[0], permalinks[34], permalinks[126]]"
   ]
  },
  {
   "cell_type": "code",
   "execution_count": null,
   "metadata": {},
   "outputs": [],
   "source": [
    "test_list"
   ]
  },
  {
   "cell_type": "code",
   "execution_count": null,
   "metadata": {},
   "outputs": [],
   "source": [
    "test_df = pd.DataFrame()"
   ]
  },
  {
   "cell_type": "code",
   "execution_count": null,
   "metadata": {},
   "outputs": [],
   "source": [
    "for item in test_list:\n",
    "    test_df = test_df.append(scraped_to_df(item), ignore_index=True)"
   ]
  },
  {
   "cell_type": "code",
   "execution_count": null,
   "metadata": {},
   "outputs": [],
   "source": [
    "test_df"
   ]
  },
  {
   "cell_type": "markdown",
   "metadata": {},
   "source": [
    "### 3. We are good to go, let's create the final df"
   ]
  },
  {
   "cell_type": "code",
   "execution_count": null,
   "metadata": {},
   "outputs": [],
   "source": [
    "final_df = pd.DataFrame()"
   ]
  },
  {
   "cell_type": "code",
   "execution_count": null,
   "metadata": {},
   "outputs": [],
   "source": [
    "for link in permalinks:\n",
    "    final_df = final_df.append(scraped_to_df(link), ignore_index=True)"
   ]
  },
  {
   "cell_type": "code",
   "execution_count": 24,
   "metadata": {
    "scrolled": false
   },
   "outputs": [
    {
     "data": {
      "text/html": [
       "<div>\n",
       "<style scoped>\n",
       "    .dataframe tbody tr th:only-of-type {\n",
       "        vertical-align: middle;\n",
       "    }\n",
       "\n",
       "    .dataframe tbody tr th {\n",
       "        vertical-align: top;\n",
       "    }\n",
       "\n",
       "    .dataframe thead th {\n",
       "        text-align: right;\n",
       "    }\n",
       "</style>\n",
       "<table border=\"1\" class=\"dataframe\">\n",
       "  <thead>\n",
       "    <tr style=\"text-align: right;\">\n",
       "      <th></th>\n",
       "      <th>url</th>\n",
       "      <th>title</th>\n",
       "      <th>published</th>\n",
       "      <th>content</th>\n",
       "      <th>tag</th>\n",
       "    </tr>\n",
       "  </thead>\n",
       "  <tbody>\n",
       "    <tr>\n",
       "      <th>0</th>\n",
       "      <td>https://plana.earth/academy/how-sustainable-is-your-office-christmas-party/</td>\n",
       "      <td>How sustainable is your office Christmas party?</td>\n",
       "      <td>2020-12-18</td>\n",
       "      <td>Christmas is just around the corner! Unfortunately, this year many of us won’t be able to celebrate the office Christmas party how we’d like to. To wrap up 2020, the Plan A team is helping you plan the imaginary party of your dreams.</td>\n",
       "      <td>p</td>\n",
       "    </tr>\n",
       "    <tr>\n",
       "      <th>1</th>\n",
       "      <td>https://plana.earth/academy/how-sustainable-is-your-office-christmas-party/</td>\n",
       "      <td>How sustainable is your office Christmas party?</td>\n",
       "      <td>2020-12-18</td>\n",
       "      <td>Before we start, here are a few statistics on the carbon footprint caused by end of the year parties. Partying is fun, but let’s remember not to give Mother Nature a hangover.</td>\n",
       "      <td>p</td>\n",
       "    </tr>\n",
       "    <tr>\n",
       "      <th>2</th>\n",
       "      <td>https://plana.earth/academy/how-sustainable-is-your-office-christmas-party/</td>\n",
       "      <td>How sustainable is your office Christmas party?</td>\n",
       "      <td>2020-12-18</td>\n",
       "      <td>It is time for the office Christmas Party Quiz!</td>\n",
       "      <td>h2</td>\n",
       "    </tr>\n",
       "    <tr>\n",
       "      <th>3</th>\n",
       "      <td>https://plana.earth/academy/how-sustainable-is-your-office-christmas-party/</td>\n",
       "      <td>How sustainable is your office Christmas party?</td>\n",
       "      <td>2020-12-18</td>\n",
       "      <td>Find out how sustainable your Christmas Party would have been.</td>\n",
       "      <td>p</td>\n",
       "    </tr>\n",
       "    <tr>\n",
       "      <th>4</th>\n",
       "      <td>https://plana.earth/academy/how-sustainable-is-your-office-christmas-party/</td>\n",
       "      <td>How sustainable is your office Christmas party?</td>\n",
       "      <td>2020-12-18</td>\n",
       "      <td>May the Merry Force be with you!</td>\n",
       "      <td>h2</td>\n",
       "    </tr>\n",
       "    <tr>\n",
       "      <th>5</th>\n",
       "      <td>https://plana.earth/academy/how-joe-biden-u-s-will-rejoin-paris-agreement/</td>\n",
       "      <td>How will Biden and the US rejoin the Paris Agreement?</td>\n",
       "      <td>2020-12-15</td>\n",
       "      <td>It is the fifth anniversary of the Paris Climate Agreement. At the same time, the global average temperature has risen around 1-degree celsius. It is time to speed up on climate action, especially for the United States.</td>\n",
       "      <td>p</td>\n",
       "    </tr>\n",
       "    <tr>\n",
       "      <th>6</th>\n",
       "      <td>https://plana.earth/academy/how-joe-biden-u-s-will-rejoin-paris-agreement/</td>\n",
       "      <td>How will Biden and the US rejoin the Paris Agreement?</td>\n",
       "      <td>2020-12-15</td>\n",
       "      <td>The US President-Elect Joe Biden vows to rejoin the Paris Agreement on his first day of office on 20 January 2021. With the US back on track, all 197 signatories to the United Nations Framework Convention on Climate Change will have ratified the historic treaty.</td>\n",
       "      <td>p</td>\n",
       "    </tr>\n",
       "    <tr>\n",
       "      <th>7</th>\n",
       "      <td>https://plana.earth/academy/how-joe-biden-u-s-will-rejoin-paris-agreement/</td>\n",
       "      <td>How will Biden and the US rejoin the Paris Agreement?</td>\n",
       "      <td>2020-12-15</td>\n",
       "      <td>This follows the United States’ withdrawal from the Paris Climate Agreement on November 4th, 2020. The decision made it the first country in history to leave the Climate Agreement. It all started in 2017, when former U.S. President Donald Trump decided to “cease all implementation of the non-binding Paris Accord and the draconian financial and economic burdens the agreement imposes.” However, the process took three years, because no country could give the notice to leave the Paris agreement until three years had passed after ratification.</td>\n",
       "      <td>p</td>\n",
       "    </tr>\n",
       "    <tr>\n",
       "      <th>8</th>\n",
       "      <td>https://plana.earth/academy/how-joe-biden-u-s-will-rejoin-paris-agreement/</td>\n",
       "      <td>How will Biden and the US rejoin the Paris Agreement?</td>\n",
       "      <td>2020-12-15</td>\n",
       "      <td>Today, the Trump Administration officially left the Paris Climate Agreement. And in exactly 77 days, a Biden Administration will rejoin it. https://t.co/L8UJimS6v2— Joe Biden (@JoeBiden) November 5, 2020</td>\n",
       "      <td>p</td>\n",
       "    </tr>\n",
       "    <tr>\n",
       "      <th>9</th>\n",
       "      <td>https://plana.earth/academy/how-joe-biden-u-s-will-rejoin-paris-agreement/</td>\n",
       "      <td>How will Biden and the US rejoin the Paris Agreement?</td>\n",
       "      <td>2020-12-15</td>\n",
       "      <td>Today, the Trump Administration officially left the Paris Climate Agreement. And in exactly 77 days, a Biden Administration will rejoin it. https://t.co/L8UJimS6v2</td>\n",
       "      <td>p</td>\n",
       "    </tr>\n",
       "  </tbody>\n",
       "</table>\n",
       "</div>"
      ],
      "text/plain": [
       "                                                                           url  \\\n",
       "0  https://plana.earth/academy/how-sustainable-is-your-office-christmas-party/   \n",
       "1  https://plana.earth/academy/how-sustainable-is-your-office-christmas-party/   \n",
       "2  https://plana.earth/academy/how-sustainable-is-your-office-christmas-party/   \n",
       "3  https://plana.earth/academy/how-sustainable-is-your-office-christmas-party/   \n",
       "4  https://plana.earth/academy/how-sustainable-is-your-office-christmas-party/   \n",
       "5   https://plana.earth/academy/how-joe-biden-u-s-will-rejoin-paris-agreement/   \n",
       "6   https://plana.earth/academy/how-joe-biden-u-s-will-rejoin-paris-agreement/   \n",
       "7   https://plana.earth/academy/how-joe-biden-u-s-will-rejoin-paris-agreement/   \n",
       "8   https://plana.earth/academy/how-joe-biden-u-s-will-rejoin-paris-agreement/   \n",
       "9   https://plana.earth/academy/how-joe-biden-u-s-will-rejoin-paris-agreement/   \n",
       "\n",
       "                                                   title  published  \\\n",
       "0        How sustainable is your office Christmas party? 2020-12-18   \n",
       "1        How sustainable is your office Christmas party? 2020-12-18   \n",
       "2        How sustainable is your office Christmas party? 2020-12-18   \n",
       "3        How sustainable is your office Christmas party? 2020-12-18   \n",
       "4        How sustainable is your office Christmas party? 2020-12-18   \n",
       "5  How will Biden and the US rejoin the Paris Agreement? 2020-12-15   \n",
       "6  How will Biden and the US rejoin the Paris Agreement? 2020-12-15   \n",
       "7  How will Biden and the US rejoin the Paris Agreement? 2020-12-15   \n",
       "8  How will Biden and the US rejoin the Paris Agreement? 2020-12-15   \n",
       "9  How will Biden and the US rejoin the Paris Agreement? 2020-12-15   \n",
       "\n",
       "                                                                                                                                                                                                                                                                                                                                                                                                                                                                                                                                                            content  \\\n",
       "0                                                                                                                                                                                                                                                                                                                         Christmas is just around the corner! Unfortunately, this year many of us won’t be able to celebrate the office Christmas party how we’d like to. To wrap up 2020, the Plan A team is helping you plan the imaginary party of your dreams.   \n",
       "1                                                                                                                                                                                                                                                                                                                                                                                  Before we start, here are a few statistics on the carbon footprint caused by end of the year parties. Partying is fun, but let’s remember not to give Mother Nature a hangover.    \n",
       "2                                                                                                                                                                                                                                                                                                                                                                                                                                                                                                                   It is time for the office Christmas Party Quiz!   \n",
       "3                                                                                                                                                                                                                                                                                                                                                                                                                                                                                                   Find out how sustainable your Christmas Party would have been.    \n",
       "4                                                                                                                                                                                                                                                                                                                                                                                                                                                                                                                                 May the Merry Force be with you!    \n",
       "5                                                                                                                                                                                                                                                                                                                                      It is the fifth anniversary of the Paris Climate Agreement. At the same time, the global average temperature has risen around 1-degree celsius. It is time to speed up on climate action, especially for the United States.    \n",
       "6                                                                                                                                                                                                                                                                                            The US President-Elect Joe Biden vows to rejoin the Paris Agreement on his first day of office on 20 January 2021. With the US back on track, all 197 signatories to the United Nations Framework Convention on Climate Change will have ratified the historic treaty.   \n",
       "7  This follows the United States’ withdrawal from the Paris Climate Agreement on November 4th, 2020. The decision made it the first country in history to leave the Climate Agreement. It all started in 2017, when former U.S. President Donald Trump decided to “cease all implementation of the non-binding Paris Accord and the draconian financial and economic burdens the agreement imposes.” However, the process took three years, because no country could give the notice to leave the Paris agreement until three years had passed after ratification.   \n",
       "8                                                                                                                                                                                                                                                                                                                                                       Today, the Trump Administration officially left the Paris Climate Agreement. And in exactly 77 days, a Biden Administration will rejoin it. https://t.co/L8UJimS6v2— Joe Biden (@JoeBiden) November 5, 2020   \n",
       "9                                                                                                                                                                                                                                                                                                                                                                                               Today, the Trump Administration officially left the Paris Climate Agreement. And in exactly 77 days, a Biden Administration will rejoin it. https://t.co/L8UJimS6v2   \n",
       "\n",
       "  tag  \n",
       "0   p  \n",
       "1   p  \n",
       "2  h2  \n",
       "3   p  \n",
       "4  h2  \n",
       "5   p  \n",
       "6   p  \n",
       "7   p  \n",
       "8   p  \n",
       "9   p  "
      ]
     },
     "execution_count": 24,
     "metadata": {},
     "output_type": "execute_result"
    }
   ],
   "source": [
    "final_df.head(10)"
   ]
  },
  {
   "cell_type": "markdown",
   "metadata": {},
   "source": [
    "### 4. Final checks to make sure everything's alright"
   ]
  },
  {
   "cell_type": "code",
   "execution_count": null,
   "metadata": {},
   "outputs": [],
   "source": [
    "# Checking that published is datetime dtype\n",
    "\n",
    "final_df.dtypes"
   ]
  },
  {
   "cell_type": "code",
   "execution_count": null,
   "metadata": {},
   "outputs": [],
   "source": [
    "# Checking that all urls made it\n",
    "\n",
    "final_df.nunique(axis=0)"
   ]
  },
  {
   "cell_type": "markdown",
   "metadata": {},
   "source": [
    "Seems like we are missing 11 links."
   ]
  },
  {
   "cell_type": "code",
   "execution_count": null,
   "metadata": {},
   "outputs": [],
   "source": [
    "# Searching for missing links\n",
    "\n",
    "missing_urls = []\n",
    "\n",
    "for item in permalinks:\n",
    "    if item not in final_df['url'].values:\n",
    "        missing_urls.append(item)\n",
    "    "
   ]
  },
  {
   "cell_type": "code",
   "execution_count": null,
   "metadata": {},
   "outputs": [],
   "source": [
    "# Infographic posts have a different html set up\n",
    "# extracting content not as straightforward as expected,\n",
    "# will be resumed after MVP\n",
    "\n",
    "missing_urls"
   ]
  },
  {
   "cell_type": "code",
   "execution_count": null,
   "metadata": {},
   "outputs": [],
   "source": [
    "# final_df.to_csv('../04_Data/processed_posts.csv')"
   ]
  }
 ],
 "metadata": {
  "kernelspec": {
   "display_name": "Python 3",
   "language": "python",
   "name": "python3"
  },
  "language_info": {
   "codemirror_mode": {
    "name": "ipython",
    "version": 3
   },
   "file_extension": ".py",
   "mimetype": "text/x-python",
   "name": "python",
   "nbconvert_exporter": "python",
   "pygments_lexer": "ipython3",
   "version": "3.8.5"
  }
 },
 "nbformat": 4,
 "nbformat_minor": 4
}

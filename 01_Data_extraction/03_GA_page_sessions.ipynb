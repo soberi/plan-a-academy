{
 "cells": [
  {
   "cell_type": "markdown",
   "metadata": {},
   "source": [
    "## Connecting to Google Analytics with reporting API"
   ]
  },
  {
   "cell_type": "code",
   "execution_count": 1,
   "metadata": {},
   "outputs": [],
   "source": [
    "# Importing modules for API setup and data conversion\n",
    "\n",
    "from apiclient.discovery import build\n",
    "from oauth2client.service_account import ServiceAccountCredentials\n",
    "import pandas as pd\n",
    "import json\n",
    "\n",
    "pd.set_option('display.max_colwidth', None)\n",
    "pd.set_option('display.max_rows', None)"
   ]
  },
  {
   "cell_type": "code",
   "execution_count": 2,
   "metadata": {},
   "outputs": [],
   "source": [
    "# Google API params. Views = Academy only report\n",
    "\n",
    "SCOPES = ['https://www.googleapis.com/auth/analytics.readonly']\n",
    "KEY_FILE_LOCATION = 'keys/client_secrets.json'\n",
    "VIEW_ID = 'ga:175337801'"
   ]
  },
  {
   "cell_type": "markdown",
   "metadata": {},
   "source": [
    "### Func 1: Get data report from google analytics"
   ]
  },
  {
   "cell_type": "code",
   "execution_count": 3,
   "metadata": {},
   "outputs": [],
   "source": [
    "def initialize_analyticsreporting():\n",
    "    \"\"\"Initializes an Analytics Reporting API V4 service object.\n",
    "    Returns: An authorized Analytics Reporting API V4 service object.\"\"\"\n",
    "\n",
    "    credentials = ServiceAccountCredentials.from_json_keyfile_name(KEY_FILE_LOCATION, SCOPES)\n",
    "\n",
    "    # Build the service object.\n",
    "    analytics = build('analyticsreporting', 'v4', credentials=credentials)\n",
    "\n",
    "    return analytics"
   ]
  },
  {
   "cell_type": "markdown",
   "metadata": {},
   "source": [
    "### Func 2: Return report in json dict, plus metrics and dimensions used"
   ]
  },
  {
   "cell_type": "code",
   "execution_count": 4,
   "metadata": {},
   "outputs": [],
   "source": [
    "def get_report(analytics, metrics, dimensions, start, end):\n",
    "    \"\"\"Queries the Analytics Reporting API V4.\n",
    "    Args:\n",
    "    analytics: An authorized Analytics Reporting API V4 service object.\n",
    "    Returns:\n",
    "    The Analytics Reporting API V4 response.\n",
    "    Using date range 2020-11-09 to 2020-11-15 for testing purposes\"\"\"\n",
    "    METS = [f'ga:{metric}' for metric in metrics]\n",
    "    DIMS = [f'ga:{dimension}' for dimension in dimensions]\n",
    "    \n",
    "    return analytics.reports().batchGet(\n",
    "        body={\n",
    "            'reportRequests': [\n",
    "                                {\n",
    "                                    'viewId': VIEW_ID,\n",
    "                                    'dateRanges': [{'startDate': start\n",
    "                                                    , 'endDate': end}],\n",
    "                                    'metrics': [{'expression': expression} for expression in METS],\n",
    "                                    'orderBys': [{'fieldName': METS[0], \n",
    "                                                  'sortOrder': 'DESCENDING'}],\n",
    "                                    'dimensions': [{'name': name} for name in DIMS]\n",
    "                                }]\n",
    "            }).execute(), METS, DIMS"
   ]
  },
  {
   "cell_type": "markdown",
   "metadata": {},
   "source": [
    "### Func 3: Convert to pd DataFrame"
   ]
  },
  {
   "cell_type": "code",
   "execution_count": 5,
   "metadata": {},
   "outputs": [],
   "source": [
    "def to_df(response, METS, DIMS):\n",
    "    data_dict = {f\"{i}\": [] for i in DIMS + METS}\n",
    "    \n",
    "    for report in response.get('reports', []):\n",
    "        rows = report.get('data', {}).get('rows', [])\n",
    "        for row in rows:\n",
    "            for i, key in enumerate(DIMS):\n",
    "                data_dict[key].append(row.get('dimensions', [])[i])\n",
    "            date_values = row.get('metrics', [])\n",
    "            for values in date_values:\n",
    "                all_values = values.get('values', [])\n",
    "                for i, key in enumerate(METS):\n",
    "                    data_dict[key].append(all_values[i])\n",
    "                    \n",
    "    df = pd.DataFrame(data=data_dict)\n",
    "    df.columns = [col.split(':')[-1] for col in df.columns]\n",
    "    \n",
    "    return df"
   ]
  },
  {
   "cell_type": "markdown",
   "metadata": {},
   "source": [
    "### Func 4: Final – putting it all together"
   ]
  },
  {
   "cell_type": "code",
   "execution_count": 6,
   "metadata": {},
   "outputs": [],
   "source": [
    "def ga_to_df(metrics,dimensions,start,end):\n",
    "    '''metrics = list, dimesnions = list,\n",
    "    start = str, end = str'''\n",
    "    analytics = initialize_analyticsreporting()\n",
    "    response, METS, DIMS = get_report(analytics, metrics, dimensions, start, end)\n",
    "    response_df = to_df(response, metrics, dimensions)\n",
    "    \n",
    "    return response_df"
   ]
  },
  {
   "cell_type": "markdown",
   "metadata": {},
   "source": [
    "## Gettting general data for posts"
   ]
  },
  {
   "cell_type": "code",
   "execution_count": 7,
   "metadata": {},
   "outputs": [],
   "source": [
    "# The first article, \"Of trees and men\", was published 29 September 2017.\n",
    "# However Google Analytics only started tracking later, but better\n",
    "# safe than sorry\n",
    "\n",
    "df_posts = ga_to_df(metrics=['pageViews',\n",
    "                             'avgTimeOnPage',\n",
    "                             'avgSessionDuration', \n",
    "                             'sessions', \n",
    "                             'bounces'],\n",
    "                    dimensions=['landingPagePath'],\n",
    "                    start='2017-10-01',\n",
    "                    end='today')"
   ]
  },
  {
   "cell_type": "code",
   "execution_count": 8,
   "metadata": {
    "scrolled": true
   },
   "outputs": [
    {
     "data": {
      "text/html": [
       "<div>\n",
       "<style scoped>\n",
       "    .dataframe tbody tr th:only-of-type {\n",
       "        vertical-align: middle;\n",
       "    }\n",
       "\n",
       "    .dataframe tbody tr th {\n",
       "        vertical-align: top;\n",
       "    }\n",
       "\n",
       "    .dataframe thead th {\n",
       "        text-align: right;\n",
       "    }\n",
       "</style>\n",
       "<table border=\"1\" class=\"dataframe\">\n",
       "  <thead>\n",
       "    <tr style=\"text-align: right;\">\n",
       "      <th></th>\n",
       "      <th>landingPagePath</th>\n",
       "      <th>pageViews</th>\n",
       "      <th>avgTimeOnPage</th>\n",
       "      <th>avgSessionDuration</th>\n",
       "      <th>sessions</th>\n",
       "      <th>bounces</th>\n",
       "    </tr>\n",
       "  </thead>\n",
       "  <tbody>\n",
       "    <tr>\n",
       "      <th>0</th>\n",
       "      <td>/academy/</td>\n",
       "      <td>27847</td>\n",
       "      <td>139.82447164869967</td>\n",
       "      <td>201.53430171508575</td>\n",
       "      <td>11428</td>\n",
       "      <td>5228</td>\n",
       "    </tr>\n",
       "    <tr>\n",
       "      <th>1</th>\n",
       "      <td>/academy/what-are-scope-1-2-3-emissions/</td>\n",
       "      <td>10298</td>\n",
       "      <td>935.0118143459915</td>\n",
       "      <td>126.36771644902886</td>\n",
       "      <td>9113</td>\n",
       "      <td>4703</td>\n",
       "    </tr>\n",
       "    <tr>\n",
       "      <th>2</th>\n",
       "      <td>/academy/is-it-too-late-for-our-planet/</td>\n",
       "      <td>7655</td>\n",
       "      <td>274.2827899924185</td>\n",
       "      <td>57.816603535353536</td>\n",
       "      <td>6336</td>\n",
       "      <td>5052</td>\n",
       "    </tr>\n",
       "    <tr>\n",
       "      <th>3</th>\n",
       "      <td>/academy/the-stakeholders-of-climate-change/</td>\n",
       "      <td>6219</td>\n",
       "      <td>485.5</td>\n",
       "      <td>83.99774053850498</td>\n",
       "      <td>5311</td>\n",
       "      <td>4030</td>\n",
       "    </tr>\n",
       "    <tr>\n",
       "      <th>4</th>\n",
       "      <td>/academy/most-powerful-greenhouse-gas/</td>\n",
       "      <td>5879</td>\n",
       "      <td>316.2674418604651</td>\n",
       "      <td>30.646280067126607</td>\n",
       "      <td>5363</td>\n",
       "      <td>4766</td>\n",
       "    </tr>\n",
       "    <tr>\n",
       "      <th>5</th>\n",
       "      <td>/academy/sustainable-climate-change-organisation-partnership/</td>\n",
       "      <td>2537</td>\n",
       "      <td>156.66666666666666</td>\n",
       "      <td>114.45497953615279</td>\n",
       "      <td>1466</td>\n",
       "      <td>942</td>\n",
       "    </tr>\n",
       "    <tr>\n",
       "      <th>6</th>\n",
       "      <td>/academy/how-can-the-circular-economy-support-sustainable-development/</td>\n",
       "      <td>1991</td>\n",
       "      <td>633.3961538461539</td>\n",
       "      <td>96.3581744656268</td>\n",
       "      <td>1731</td>\n",
       "      <td>1320</td>\n",
       "    </tr>\n",
       "    <tr>\n",
       "      <th>7</th>\n",
       "      <td>/academy/climate-action-data-driven-approach/</td>\n",
       "      <td>1825</td>\n",
       "      <td>227.54918032786884</td>\n",
       "      <td>152.39890210430008</td>\n",
       "      <td>1093</td>\n",
       "      <td>801</td>\n",
       "    </tr>\n",
       "    <tr>\n",
       "      <th>8</th>\n",
       "      <td>/academy/ai-climate-change/</td>\n",
       "      <td>1448</td>\n",
       "      <td>723.3762376237623</td>\n",
       "      <td>195.7056768558952</td>\n",
       "      <td>1145</td>\n",
       "      <td>495</td>\n",
       "    </tr>\n",
       "    <tr>\n",
       "      <th>9</th>\n",
       "      <td>/academy/the-benefits-of-monitoring-carbon-emissions-for-a-business/</td>\n",
       "      <td>1245</td>\n",
       "      <td>533.6407766990292</td>\n",
       "      <td>110.46775745909528</td>\n",
       "      <td>1039</td>\n",
       "      <td>669</td>\n",
       "    </tr>\n",
       "  </tbody>\n",
       "</table>\n",
       "</div>"
      ],
      "text/plain": [
       "                                                          landingPagePath  \\\n",
       "0                                                               /academy/   \n",
       "1                                /academy/what-are-scope-1-2-3-emissions/   \n",
       "2                                 /academy/is-it-too-late-for-our-planet/   \n",
       "3                            /academy/the-stakeholders-of-climate-change/   \n",
       "4                                  /academy/most-powerful-greenhouse-gas/   \n",
       "5           /academy/sustainable-climate-change-organisation-partnership/   \n",
       "6  /academy/how-can-the-circular-economy-support-sustainable-development/   \n",
       "7                           /academy/climate-action-data-driven-approach/   \n",
       "8                                             /academy/ai-climate-change/   \n",
       "9    /academy/the-benefits-of-monitoring-carbon-emissions-for-a-business/   \n",
       "\n",
       "  pageViews       avgTimeOnPage  avgSessionDuration sessions bounces  \n",
       "0     27847  139.82447164869967  201.53430171508575    11428    5228  \n",
       "1     10298   935.0118143459915  126.36771644902886     9113    4703  \n",
       "2      7655   274.2827899924185  57.816603535353536     6336    5052  \n",
       "3      6219               485.5   83.99774053850498     5311    4030  \n",
       "4      5879   316.2674418604651  30.646280067126607     5363    4766  \n",
       "5      2537  156.66666666666666  114.45497953615279     1466     942  \n",
       "6      1991   633.3961538461539    96.3581744656268     1731    1320  \n",
       "7      1825  227.54918032786884  152.39890210430008     1093     801  \n",
       "8      1448   723.3762376237623   195.7056768558952     1145     495  \n",
       "9      1245   533.6407766990292  110.46775745909528     1039     669  "
      ]
     },
     "execution_count": 8,
     "metadata": {},
     "output_type": "execute_result"
    }
   ],
   "source": [
    "df_posts.head(10)"
   ]
  }
 ],
 "metadata": {
  "kernelspec": {
   "display_name": "Python 3",
   "language": "python",
   "name": "python3"
  },
  "language_info": {
   "codemirror_mode": {
    "name": "ipython",
    "version": 3
   },
   "file_extension": ".py",
   "mimetype": "text/x-python",
   "name": "python",
   "nbconvert_exporter": "python",
   "pygments_lexer": "ipython3",
   "version": "3.8.5"
  }
 },
 "nbformat": 4,
 "nbformat_minor": 4
}
